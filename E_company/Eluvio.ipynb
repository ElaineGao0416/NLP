{
 "cells": [
  {
   "cell_type": "markdown",
   "metadata": {},
   "source": [
    "# Brief Introduction of this project\n",
    "\n",
    "This project is aming to use NLP technologies to explore the dataset and find out what we can do to get insights from it. I am going to focus on the predictive power here. But I showed a function to extract the feature importance. So it can also be used for analysis purpose. But I am not going to follow this part.\n",
    "\n",
    "**I have two topics here:**\n",
    "    1. Using 'title' and 'author' to predict if the context is over 18 or not;\n",
    "    2. Based on the 'title' and 'author', find a best way to bucketize the 'up_votes' and predict each category.\n",
    "\n",
    "**The progress of analysis:**\n",
    "\n",
    "1. Exploritary Data Analysis and Topic Decision\n",
    "2. Data Processing\n",
    "    * Correlation Check('author')\n",
    "    * Remove Punctuation\n",
    "    * Words Tokenization\n",
    "    * Words Stemming \n",
    "3. Modelling\n",
    "    * Balance dataset\n",
    "    * Enter Embeddings and Stop words Removing\n",
    "    * Dimension Reduction\n",
    "    * Model fitting and evaluating\n",
    "\n",
    "For the first topic, I just used 'trunctedSVD' method for feature recuction and Logistic Regression to predict the 'ovre_18'. The reason why I used this method is because the sample size for positive cases is very small. To aviod overfitting, I chose to reduce the dimension first, then train a simple model. The result is wonderful, seeming like the words in the title and author somehow reflect this category information.\n",
    "\n",
    "While the second topic is going to be more complicated. Because I need to bucketize the 'up_votes' and make the bucket reasonable and seperable. So I changed a little bit on the Modelling process.\n",
    "\n",
    "3. Modelling  \n",
    "    1. Balance dataset;  \n",
    "    2. Set initial split point(binary split);  \n",
    "    3. Enter Embeddings and Remove Stop words;  \n",
    "    4. Select Model;  \n",
    "    5. Change initial split and monitor the performance;  \n",
    "    6. Fix initial split and tune model parameter;  \n",
    "    7. Choose one category to detailly split and repeat (B)(D)(E).  \n",
    "\n",
    "I used this method because the 'up_votes' is extremly right skewed and can't easily change it to normal. Besides, it's easy to find the sweet point with binary split. While you need to know that, because I used a subset to create more categories, the performance of the sub_classification model is affected by the previous classification model.\n",
    "\n",
    "Additionally, I compared my methods with 'word2vec'. Since this method reduces dimension automatically, so I didn't add feature selection progress to this method. The result came out that my method performs better."
   ]
  },
  {
   "cell_type": "code",
   "execution_count": 1,
   "metadata": {},
   "outputs": [],
   "source": [
    "import pandas as pd\n",
    "import nltk\n",
    "import numpy as np\n",
    "import re\n",
    "import codecs\n",
    "import matplotlib.pyplot as plt\n",
    "import seaborn as sns"
   ]
  },
  {
   "cell_type": "code",
   "execution_count": 3,
   "metadata": {},
   "outputs": [],
   "source": [
    "data = pd.read_csv(\"/Eluvio_DS_Challenge.csv\")"
   ]
  },
  {
   "cell_type": "markdown",
   "metadata": {},
   "source": [
    "# 1. Exploritary Data Analysis and Topic Decision"
   ]
  },
  {
   "cell_type": "code",
   "execution_count": 4,
   "metadata": {},
   "outputs": [
    {
     "data": {
      "text/html": [
       "<div>\n",
       "<style scoped>\n",
       "    .dataframe tbody tr th:only-of-type {\n",
       "        vertical-align: middle;\n",
       "    }\n",
       "\n",
       "    .dataframe tbody tr th {\n",
       "        vertical-align: top;\n",
       "    }\n",
       "\n",
       "    .dataframe thead th {\n",
       "        text-align: right;\n",
       "    }\n",
       "</style>\n",
       "<table border=\"1\" class=\"dataframe\">\n",
       "  <thead>\n",
       "    <tr style=\"text-align: right;\">\n",
       "      <th></th>\n",
       "      <th>time_created</th>\n",
       "      <th>date_created</th>\n",
       "      <th>up_votes</th>\n",
       "      <th>down_votes</th>\n",
       "      <th>title</th>\n",
       "      <th>over_18</th>\n",
       "      <th>author</th>\n",
       "      <th>category</th>\n",
       "    </tr>\n",
       "  </thead>\n",
       "  <tbody>\n",
       "    <tr>\n",
       "      <th>0</th>\n",
       "      <td>1201232046</td>\n",
       "      <td>2008-01-25</td>\n",
       "      <td>3</td>\n",
       "      <td>0</td>\n",
       "      <td>Scores killed in Pakistan clashes</td>\n",
       "      <td>False</td>\n",
       "      <td>polar</td>\n",
       "      <td>worldnews</td>\n",
       "    </tr>\n",
       "    <tr>\n",
       "      <th>1</th>\n",
       "      <td>1201232075</td>\n",
       "      <td>2008-01-25</td>\n",
       "      <td>2</td>\n",
       "      <td>0</td>\n",
       "      <td>Japan resumes refuelling mission</td>\n",
       "      <td>False</td>\n",
       "      <td>polar</td>\n",
       "      <td>worldnews</td>\n",
       "    </tr>\n",
       "    <tr>\n",
       "      <th>2</th>\n",
       "      <td>1201232523</td>\n",
       "      <td>2008-01-25</td>\n",
       "      <td>3</td>\n",
       "      <td>0</td>\n",
       "      <td>US presses Egypt on Gaza border</td>\n",
       "      <td>False</td>\n",
       "      <td>polar</td>\n",
       "      <td>worldnews</td>\n",
       "    </tr>\n",
       "    <tr>\n",
       "      <th>3</th>\n",
       "      <td>1201233290</td>\n",
       "      <td>2008-01-25</td>\n",
       "      <td>1</td>\n",
       "      <td>0</td>\n",
       "      <td>Jump-start economy: Give health care to all</td>\n",
       "      <td>False</td>\n",
       "      <td>fadi420</td>\n",
       "      <td>worldnews</td>\n",
       "    </tr>\n",
       "    <tr>\n",
       "      <th>4</th>\n",
       "      <td>1201274720</td>\n",
       "      <td>2008-01-25</td>\n",
       "      <td>4</td>\n",
       "      <td>0</td>\n",
       "      <td>Council of Europe bashes EU&amp;UN terror blacklist</td>\n",
       "      <td>False</td>\n",
       "      <td>mhermans</td>\n",
       "      <td>worldnews</td>\n",
       "    </tr>\n",
       "  </tbody>\n",
       "</table>\n",
       "</div>"
      ],
      "text/plain": [
       "   time_created date_created  up_votes  down_votes  \\\n",
       "0    1201232046   2008-01-25         3           0   \n",
       "1    1201232075   2008-01-25         2           0   \n",
       "2    1201232523   2008-01-25         3           0   \n",
       "3    1201233290   2008-01-25         1           0   \n",
       "4    1201274720   2008-01-25         4           0   \n",
       "\n",
       "                                             title  over_18    author  \\\n",
       "0                Scores killed in Pakistan clashes    False     polar   \n",
       "1                 Japan resumes refuelling mission    False     polar   \n",
       "2                  US presses Egypt on Gaza border    False     polar   \n",
       "3     Jump-start economy: Give health care to all     False   fadi420   \n",
       "4  Council of Europe bashes EU&UN terror blacklist    False  mhermans   \n",
       "\n",
       "    category  \n",
       "0  worldnews  \n",
       "1  worldnews  \n",
       "2  worldnews  \n",
       "3  worldnews  \n",
       "4  worldnews  "
      ]
     },
     "execution_count": 4,
     "metadata": {},
     "output_type": "execute_result"
    }
   ],
   "source": [
    "data.head(5)"
   ]
  },
  {
   "cell_type": "code",
   "execution_count": 5,
   "metadata": {},
   "outputs": [
    {
     "data": {
      "text/html": [
       "<div>\n",
       "<style scoped>\n",
       "    .dataframe tbody tr th:only-of-type {\n",
       "        vertical-align: middle;\n",
       "    }\n",
       "\n",
       "    .dataframe tbody tr th {\n",
       "        vertical-align: top;\n",
       "    }\n",
       "\n",
       "    .dataframe thead th {\n",
       "        text-align: right;\n",
       "    }\n",
       "</style>\n",
       "<table border=\"1\" class=\"dataframe\">\n",
       "  <thead>\n",
       "    <tr style=\"text-align: right;\">\n",
       "      <th></th>\n",
       "      <th>time_created</th>\n",
       "      <th>up_votes</th>\n",
       "      <th>down_votes</th>\n",
       "    </tr>\n",
       "  </thead>\n",
       "  <tbody>\n",
       "    <tr>\n",
       "      <th>count</th>\n",
       "      <td>5.092360e+05</td>\n",
       "      <td>509236.000000</td>\n",
       "      <td>509236.0</td>\n",
       "    </tr>\n",
       "    <tr>\n",
       "      <th>mean</th>\n",
       "      <td>1.380240e+09</td>\n",
       "      <td>112.236283</td>\n",
       "      <td>0.0</td>\n",
       "    </tr>\n",
       "    <tr>\n",
       "      <th>std</th>\n",
       "      <td>7.090436e+07</td>\n",
       "      <td>541.694675</td>\n",
       "      <td>0.0</td>\n",
       "    </tr>\n",
       "    <tr>\n",
       "      <th>min</th>\n",
       "      <td>1.201232e+09</td>\n",
       "      <td>0.000000</td>\n",
       "      <td>0.0</td>\n",
       "    </tr>\n",
       "    <tr>\n",
       "      <th>25%</th>\n",
       "      <td>1.341585e+09</td>\n",
       "      <td>1.000000</td>\n",
       "      <td>0.0</td>\n",
       "    </tr>\n",
       "    <tr>\n",
       "      <th>50%</th>\n",
       "      <td>1.392909e+09</td>\n",
       "      <td>5.000000</td>\n",
       "      <td>0.0</td>\n",
       "    </tr>\n",
       "    <tr>\n",
       "      <th>75%</th>\n",
       "      <td>1.436527e+09</td>\n",
       "      <td>16.000000</td>\n",
       "      <td>0.0</td>\n",
       "    </tr>\n",
       "    <tr>\n",
       "      <th>max</th>\n",
       "      <td>1.479817e+09</td>\n",
       "      <td>21253.000000</td>\n",
       "      <td>0.0</td>\n",
       "    </tr>\n",
       "  </tbody>\n",
       "</table>\n",
       "</div>"
      ],
      "text/plain": [
       "       time_created       up_votes  down_votes\n",
       "count  5.092360e+05  509236.000000    509236.0\n",
       "mean   1.380240e+09     112.236283         0.0\n",
       "std    7.090436e+07     541.694675         0.0\n",
       "min    1.201232e+09       0.000000         0.0\n",
       "25%    1.341585e+09       1.000000         0.0\n",
       "50%    1.392909e+09       5.000000         0.0\n",
       "75%    1.436527e+09      16.000000         0.0\n",
       "max    1.479817e+09   21253.000000         0.0"
      ]
     },
     "execution_count": 5,
     "metadata": {},
     "output_type": "execute_result"
    }
   ],
   "source": [
    "data.describe()"
   ]
  },
  {
   "cell_type": "markdown",
   "metadata": {},
   "source": [
    "## 1.1 Missing Value Check"
   ]
  },
  {
   "cell_type": "code",
   "execution_count": 6,
   "metadata": {
    "scrolled": true
   },
   "outputs": [
    {
     "name": "stdout",
     "output_type": "stream",
     "text": [
      "<class 'pandas.core.frame.DataFrame'>\n",
      "RangeIndex: 509236 entries, 0 to 509235\n",
      "Data columns (total 8 columns):\n",
      "time_created    509236 non-null int64\n",
      "date_created    509236 non-null object\n",
      "up_votes        509236 non-null int64\n",
      "down_votes      509236 non-null int64\n",
      "title           509236 non-null object\n",
      "over_18         509236 non-null bool\n",
      "author          509236 non-null object\n",
      "category        509236 non-null object\n",
      "dtypes: bool(1), int64(3), object(4)\n",
      "memory usage: 27.7+ MB\n"
     ]
    }
   ],
   "source": [
    "# Checking data type and missing value\n",
    "data.info() "
   ]
  },
  {
   "cell_type": "markdown",
   "metadata": {},
   "source": [
    "There is no missing value."
   ]
  },
  {
   "cell_type": "code",
   "execution_count": 7,
   "metadata": {},
   "outputs": [
    {
     "name": "stdout",
     "output_type": "stream",
     "text": [
      "Number of unique title is 500720.\n",
      "Number of unique up_votes is 5782.\n",
      "Number of unique down_votes is 1.\n",
      "Number of unique over_18 is 2.\n",
      "Number of unique author is 85838.\n",
      "Number of unique category is 1.\n",
      "The earlest time_created is 1201232046.\n",
      "The latest time_created is 1479817346.\n",
      "The earlest date_created is 2008-01-25.\n",
      "The latest date_created is 2016-11-22.\n"
     ]
    }
   ],
   "source": [
    "print (\"Number of unique title is \"+ str(len(data.title.unique())) + \".\")\n",
    "print (\"Number of unique up_votes is \"+ str(len(data.up_votes.unique())) + \".\")\n",
    "print (\"Number of unique down_votes is \"+ str(len(data.down_votes.unique())) + \".\")\n",
    "print (\"Number of unique over_18 is \"+ str(len(data.over_18.unique())) + \".\")\n",
    "print (\"Number of unique author is \"+ str(len(data.author.unique())) + \".\")\n",
    "print (\"Number of unique category is \"+ str(len(data.category.unique())) + \".\")\n",
    "print (\"The earlest time_created is \"+ str(data.time_created.min()) + \".\")\n",
    "print (\"The latest time_created is \"+ str(data.time_created.max()) + \".\")\n",
    "print (\"The earlest date_created is \"+ str(data.date_created.min()) + \".\")\n",
    "print (\"The latest date_created is \"+ str(data.date_created.max()) + \".\")"
   ]
  },
  {
   "cell_type": "markdown",
   "metadata": {},
   "source": [
    "As we can see, the down_votes and category have only one single value individually. So this value might not be useful for machine learning. Since this challenge is focusing on Natural Language Processing, the time_created and date_created are less valuable than the rest."
   ]
  },
  {
   "cell_type": "markdown",
   "metadata": {},
   "source": [
    "## 1.2 Duplicates Check"
   ]
  },
  {
   "cell_type": "code",
   "execution_count": 8,
   "metadata": {},
   "outputs": [
    {
     "name": "stdout",
     "output_type": "stream",
     "text": [
      "The number of sample is 509236, and the number of unique title is 500720.\n",
      "The number of duplicated sample is 6.\n"
     ]
    }
   ],
   "source": [
    "print (\"The number of sample is %s, and the number of unique title is %s.\" % (data.title.count(), len(data.title.unique())))\n",
    "print (\"The number of duplicated sample is %s.\" % data.duplicated().sum())"
   ]
  },
  {
   "cell_type": "markdown",
   "metadata": {},
   "source": [
    "The number of unique title is less than the number of sample. However, we only have 6 duplicates. I would like to figure out the the reason behind this first.\n"
   ]
  },
  {
   "cell_type": "code",
   "execution_count": 9,
   "metadata": {},
   "outputs": [
    {
     "data": {
      "text/html": [
       "<div>\n",
       "<style scoped>\n",
       "    .dataframe tbody tr th:only-of-type {\n",
       "        vertical-align: middle;\n",
       "    }\n",
       "\n",
       "    .dataframe tbody tr th {\n",
       "        vertical-align: top;\n",
       "    }\n",
       "\n",
       "    .dataframe thead th {\n",
       "        text-align: right;\n",
       "    }\n",
       "</style>\n",
       "<table border=\"1\" class=\"dataframe\">\n",
       "  <thead>\n",
       "    <tr style=\"text-align: right;\">\n",
       "      <th></th>\n",
       "      <th>time_created</th>\n",
       "      <th>up_votes</th>\n",
       "      <th>down_votes</th>\n",
       "    </tr>\n",
       "  </thead>\n",
       "  <tbody>\n",
       "    <tr>\n",
       "      <th>count</th>\n",
       "      <td>5.092300e+05</td>\n",
       "      <td>509230.000000</td>\n",
       "      <td>509230.0</td>\n",
       "    </tr>\n",
       "    <tr>\n",
       "      <th>mean</th>\n",
       "      <td>1.380242e+09</td>\n",
       "      <td>112.237606</td>\n",
       "      <td>0.0</td>\n",
       "    </tr>\n",
       "    <tr>\n",
       "      <th>std</th>\n",
       "      <td>7.090268e+07</td>\n",
       "      <td>541.697730</td>\n",
       "      <td>0.0</td>\n",
       "    </tr>\n",
       "    <tr>\n",
       "      <th>min</th>\n",
       "      <td>1.201232e+09</td>\n",
       "      <td>0.000000</td>\n",
       "      <td>0.0</td>\n",
       "    </tr>\n",
       "    <tr>\n",
       "      <th>25%</th>\n",
       "      <td>1.341587e+09</td>\n",
       "      <td>1.000000</td>\n",
       "      <td>0.0</td>\n",
       "    </tr>\n",
       "    <tr>\n",
       "      <th>50%</th>\n",
       "      <td>1.392909e+09</td>\n",
       "      <td>5.000000</td>\n",
       "      <td>0.0</td>\n",
       "    </tr>\n",
       "    <tr>\n",
       "      <th>75%</th>\n",
       "      <td>1.436527e+09</td>\n",
       "      <td>16.000000</td>\n",
       "      <td>0.0</td>\n",
       "    </tr>\n",
       "    <tr>\n",
       "      <th>max</th>\n",
       "      <td>1.479817e+09</td>\n",
       "      <td>21253.000000</td>\n",
       "      <td>0.0</td>\n",
       "    </tr>\n",
       "  </tbody>\n",
       "</table>\n",
       "</div>"
      ],
      "text/plain": [
       "       time_created       up_votes  down_votes\n",
       "count  5.092300e+05  509230.000000    509230.0\n",
       "mean   1.380242e+09     112.237606         0.0\n",
       "std    7.090268e+07     541.697730         0.0\n",
       "min    1.201232e+09       0.000000         0.0\n",
       "25%    1.341587e+09       1.000000         0.0\n",
       "50%    1.392909e+09       5.000000         0.0\n",
       "75%    1.436527e+09      16.000000         0.0\n",
       "max    1.479817e+09   21253.000000         0.0"
      ]
     },
     "execution_count": 9,
     "metadata": {},
     "output_type": "execute_result"
    }
   ],
   "source": [
    "unique_df = data.drop_duplicates().reset_index()\n",
    "unique_df = unique_df.drop(\"index\",axis=1)\n",
    "unique_df.describe()"
   ]
  },
  {
   "cell_type": "code",
   "execution_count": 10,
   "metadata": {},
   "outputs": [
    {
     "name": "stdout",
     "output_type": "stream",
     "text": [
      "The number of duplicated titles is 7719.\n"
     ]
    },
    {
     "data": {
      "text/html": [
       "<div>\n",
       "<style scoped>\n",
       "    .dataframe tbody tr th:only-of-type {\n",
       "        vertical-align: middle;\n",
       "    }\n",
       "\n",
       "    .dataframe tbody tr th {\n",
       "        vertical-align: top;\n",
       "    }\n",
       "\n",
       "    .dataframe thead th {\n",
       "        text-align: right;\n",
       "    }\n",
       "</style>\n",
       "<table border=\"1\" class=\"dataframe\">\n",
       "  <thead>\n",
       "    <tr style=\"text-align: right;\">\n",
       "      <th></th>\n",
       "      <th>title</th>\n",
       "      <th>time_created</th>\n",
       "      <th>date_created</th>\n",
       "      <th>up_votes</th>\n",
       "      <th>down_votes</th>\n",
       "      <th>over_18</th>\n",
       "      <th>author</th>\n",
       "      <th>category</th>\n",
       "    </tr>\n",
       "  </thead>\n",
       "  <tbody>\n",
       "    <tr>\n",
       "      <th>0</th>\n",
       "      <td>10 deaths  on stranded Myanmar migrant boat</td>\n",
       "      <td>1431605634</td>\n",
       "      <td>2015-05-14</td>\n",
       "      <td>0</td>\n",
       "      <td>0</td>\n",
       "      <td>False</td>\n",
       "      <td>jackosan</td>\n",
       "      <td>worldnews</td>\n",
       "    </tr>\n",
       "    <tr>\n",
       "      <th>1</th>\n",
       "      <td>10 deaths  on stranded Myanmar migrant boat</td>\n",
       "      <td>1431619643</td>\n",
       "      <td>2015-05-14</td>\n",
       "      <td>0</td>\n",
       "      <td>0</td>\n",
       "      <td>False</td>\n",
       "      <td>b0red</td>\n",
       "      <td>worldnews</td>\n",
       "    </tr>\n",
       "    <tr>\n",
       "      <th>2</th>\n",
       "      <td>Al-Sadr calls off fighting amid airstrikes, c...</td>\n",
       "      <td>1206885758</td>\n",
       "      <td>2008-03-30</td>\n",
       "      <td>2</td>\n",
       "      <td>0</td>\n",
       "      <td>False</td>\n",
       "      <td>PaperLess</td>\n",
       "      <td>worldnews</td>\n",
       "    </tr>\n",
       "    <tr>\n",
       "      <th>3</th>\n",
       "      <td>Al-Sadr calls off fighting amid airstrikes, c...</td>\n",
       "      <td>1206907231</td>\n",
       "      <td>2008-03-30</td>\n",
       "      <td>0</td>\n",
       "      <td>0</td>\n",
       "      <td>False</td>\n",
       "      <td>greenascanbe</td>\n",
       "      <td>worldnews</td>\n",
       "    </tr>\n",
       "    <tr>\n",
       "      <th>4</th>\n",
       "      <td>Allahu Akbar  phrase hijacked by extremists a...</td>\n",
       "      <td>1463032122</td>\n",
       "      <td>2016-05-12</td>\n",
       "      <td>4</td>\n",
       "      <td>0</td>\n",
       "      <td>False</td>\n",
       "      <td>Neeraj10596</td>\n",
       "      <td>worldnews</td>\n",
       "    </tr>\n",
       "    <tr>\n",
       "      <th>5</th>\n",
       "      <td>Allahu Akbar  phrase hijacked by extremists a...</td>\n",
       "      <td>1463036531</td>\n",
       "      <td>2016-05-12</td>\n",
       "      <td>0</td>\n",
       "      <td>0</td>\n",
       "      <td>False</td>\n",
       "      <td>Anddynee</td>\n",
       "      <td>worldnews</td>\n",
       "    </tr>\n",
       "  </tbody>\n",
       "</table>\n",
       "</div>"
      ],
      "text/plain": [
       "                                               title  time_created  \\\n",
       "0        10 deaths  on stranded Myanmar migrant boat    1431605634   \n",
       "1        10 deaths  on stranded Myanmar migrant boat    1431619643   \n",
       "2   Al-Sadr calls off fighting amid airstrikes, c...    1206885758   \n",
       "3   Al-Sadr calls off fighting amid airstrikes, c...    1206907231   \n",
       "4   Allahu Akbar  phrase hijacked by extremists a...    1463032122   \n",
       "5   Allahu Akbar  phrase hijacked by extremists a...    1463036531   \n",
       "\n",
       "  date_created  up_votes  down_votes  over_18        author   category  \n",
       "0   2015-05-14         0           0    False      jackosan  worldnews  \n",
       "1   2015-05-14         0           0    False         b0red  worldnews  \n",
       "2   2008-03-30         2           0    False     PaperLess  worldnews  \n",
       "3   2008-03-30         0           0    False  greenascanbe  worldnews  \n",
       "4   2016-05-12         4           0    False   Neeraj10596  worldnews  \n",
       "5   2016-05-12         0           0    False      Anddynee  worldnews  "
      ]
     },
     "execution_count": 10,
     "metadata": {},
     "output_type": "execute_result"
    }
   ],
   "source": [
    "# Look at the duplicates\n",
    "title_count = unique_df.groupby(\"title\").count().reset_index()\n",
    "duplicates = title_count[title_count.category > 1].title\n",
    "\n",
    "dupli_titles = pd.merge(left = duplicates, right = unique_df, how = \"inner\", on = \"title\")\n",
    "print (\"The number of duplicated titles is %s.\" % len(dupli_titles.title.unique()))\n",
    "dupli_titles.head(6)"
   ]
  },
  {
   "cell_type": "markdown",
   "metadata": {},
   "source": [
    "I found that the duplicated titles have similar created time but different up_votes and authors. If I have a chance to verify the data accuracy, it would be better. At this time, I am not going to use these samples to analyze and model. So I dirrect removed all of them."
   ]
  },
  {
   "cell_type": "code",
   "execution_count": 89,
   "metadata": {
    "scrolled": true
   },
   "outputs": [
    {
     "name": "stdout",
     "output_type": "stream",
     "text": [
      "The number of unique titles is 493001.\n",
      "The data has 493001 rows and 4 columns\n"
     ]
    },
    {
     "data": {
      "text/plain": [
       "False    492684\n",
       "True        317\n",
       "Name: over_18, dtype: int64"
      ]
     },
     "execution_count": 89,
     "metadata": {},
     "output_type": "execute_result"
    }
   ],
   "source": [
    "# Deal with the duplicates\n",
    "duplicates = pd.DataFrame(duplicates)\n",
    "duplicates[\"dup\"] = 1\n",
    "dupli_titles_all = unique_df.merge(duplicates, how = \"outer\", left_on = \"title\", right_on = \"title\")\n",
    "print (\"The number of unique titles is %s.\" % len(dupli_titles_all[dupli_titles_all.dup != 1].title.unique()))\n",
    "\n",
    "# Select the variables\n",
    "clean_data = dupli_titles_all[dupli_titles_all.dup != 1][[\"title\", \"up_votes\",\"over_18\",\"author\"]]\n",
    "print (\"The data has %s rows and %s columns\" % (clean_data.shape[0], clean_data.shape[1]))\n",
    "clean_data.over_18.value_counts()"
   ]
  },
  {
   "cell_type": "markdown",
   "metadata": {},
   "source": [
    "We can see that the sample is seviously imbalanced, which could cause problems in classification model.`"
   ]
  },
  {
   "cell_type": "markdown",
   "metadata": {},
   "source": [
    "## 1.3 Up_votes distribution Check"
   ]
  },
  {
   "cell_type": "code",
   "execution_count": 12,
   "metadata": {},
   "outputs": [
    {
     "data": {
      "image/png": "[encoded data removed]",
      "text/plain": [
       "<Figure size 864x216 with 2 Axes>"
      ]
     },
     "metadata": {
      "needs_background": "light"
     },
     "output_type": "display_data"
    }
   ],
   "source": [
    "# Plot the distribution of up_votes\n",
    "f, axes = plt.subplots(1, 2, figsize=(12, 3))\n",
    "\n",
    "sns.distplot(clean_data.up_votes, kde=False, ax = axes[0]).set_title(\"Distributuin of up_votes\")\n",
    "\n",
    "sns.distplot(np.log(clean_data.up_votes + 1), kde=False, ax=axes[1]).set_title(\"Distributuin of log(up_votes)\")\n",
    "\n",
    "plt.show()"
   ]
  },
  {
   "cell_type": "markdown",
   "metadata": {},
   "source": [
    "The distribution of 'up_votes' seems like right skewed. When we add logorithm, it's still not normal distributed. If I want to predict up_votes, I might adress this problem by categorizing 'up_votes' such that we can assume it a classfication problem.\n",
    "\n",
    "## 1.3 EDA Summary\n",
    "\n",
    "I found some insightful inforamtion about the dataset and here are several points:\n",
    "\n",
    "* There is no missing value.\n",
    "* The dataset has dupilicates and some authors have same title.\n",
    "* The up_votes is extramely skewed, which can not be normalized by logrithm.\n",
    "\n",
    "For addressing the duplicate, I cannot get to the data collector to understand the problem. While I found the data with duplicate is not very much. So I directly dropped them. \n",
    "\n",
    "For the 'up_votes', I found it not possible to treat it as a regression model. So I decided to buketize it for a multi-classification problem.\n",
    "\n",
    "## 1.5 Topic Decision\n",
    "I am thinking about using title and author information to estimate 'over_18', which is a classfication model. Besides, I am thinking about using similar features to estimate 'up_votes',which is a multi-class model. Let's keep explorying the data to see if we can make them happened."
   ]
  },
  {
   "cell_type": "markdown",
   "metadata": {},
   "source": [
    "# 2. Data Processing\n",
    "## 2.1 Author Correlation Check\n",
    "Before conducting text mining, I would like to have a look at the author information. I think this information could somehow reflect the 'over_18' or 'up_votes'."
   ]
  },
  {
   "cell_type": "code",
   "execution_count": 13,
   "metadata": {
    "scrolled": true
   },
   "outputs": [
    {
     "name": "stdout",
     "output_type": "stream",
     "text": [
      "The number of different authors is 84192.\n",
      "1561 authors have more than 40 titles.\n"
     ]
    },
    {
     "data": {
      "image/png": "[encoded data removed]",
      "text/plain": [
       "<Figure size 432x288 with 1 Axes>"
      ]
     },
     "metadata": {
      "needs_background": "light"
     },
     "output_type": "display_data"
    }
   ],
   "source": [
    "# Check the relationship between author and 'over_18'\n",
    "print (\"The number of different authors is %s.\" % len(clean_data.author.unique()))\n",
    "author_distribution = clean_data.groupby(\"author\").count()\n",
    "print (\"%s authors have more than 40 titles.\" % author_distribution[author_distribution.title > 40].count().title)\n",
    "sns.distplot(author_distribution.title, kde=False).set_title(\"Histgram of number of titles for each author\")\n",
    "plt.show()"
   ]
  },
  {
   "cell_type": "code",
   "execution_count": 14,
   "metadata": {},
   "outputs": [
    {
     "name": "stdout",
     "output_type": "stream",
     "text": [
      "The ratio of authors that have 2 kinds of titles is 0.00235.\n"
     ]
    }
   ],
   "source": [
    "# The ratio of author that has both over_18 titles and non_over_18 titles\n",
    "author_vs_18 = clean_data[[\"author\",\"over_18\"]].drop_duplicates().groupby(\"author\").count()\n",
    "print(\"The ratio of authors that have 2 kinds of titles is %.5f.\" % float(sum(author_vs_18.over_18 > 1)/author_vs_18.count()[0]))"
   ]
  },
  {
   "cell_type": "markdown",
   "metadata": {},
   "source": [
    "This means almost every author has only one kind of title, either over_18 or not. Thus, I decided to use author as a feature for predicting 'over_18'."
   ]
  },
  {
   "cell_type": "markdown",
   "metadata": {},
   "source": [
    "## 2.2 Remove Punctuation\n",
    "\n",
    "Let's use a few regular expressions to clean up pour data, and save it back to disk for future use"
   ]
  },
  {
   "cell_type": "code",
   "execution_count": 90,
   "metadata": {},
   "outputs": [],
   "source": [
    "# Remove punctuation of title\n",
    "clean_data[\"title2\"] = clean_data[\"title\"].str.replace(r\"[^A-Za-z0-9(),!?@\\'\\`\\\"\\_\\n]\", \" \")\n",
    "clean_data[\"title2\"] = clean_data[\"title2\"].str.lower()"
   ]
  },
  {
   "cell_type": "markdown",
   "metadata": {},
   "source": [
    "## 2.3 Words Tokenization"
   ]
  },
  {
   "cell_type": "code",
   "execution_count": 91,
   "metadata": {},
   "outputs": [],
   "source": [
    "## Tokenize\n",
    "from nltk.tokenize import RegexpTokenizer\n",
    "\n",
    "tokenizer = RegexpTokenizer(r'\\w+')\n",
    "\n",
    "clean_data[\"title2\"] = clean_data[\"title2\"].apply(tokenizer.tokenize)"
   ]
  },
  {
   "cell_type": "code",
   "execution_count": 92,
   "metadata": {},
   "outputs": [
    {
     "data": {
      "text/html": [
       "<div>\n",
       "<style scoped>\n",
       "    .dataframe tbody tr th:only-of-type {\n",
       "        vertical-align: middle;\n",
       "    }\n",
       "\n",
       "    .dataframe tbody tr th {\n",
       "        vertical-align: top;\n",
       "    }\n",
       "\n",
       "    .dataframe thead th {\n",
       "        text-align: right;\n",
       "    }\n",
       "</style>\n",
       "<table border=\"1\" class=\"dataframe\">\n",
       "  <thead>\n",
       "    <tr style=\"text-align: right;\">\n",
       "      <th></th>\n",
       "      <th>title</th>\n",
       "      <th>up_votes</th>\n",
       "      <th>over_18</th>\n",
       "      <th>author</th>\n",
       "      <th>title2</th>\n",
       "    </tr>\n",
       "  </thead>\n",
       "  <tbody>\n",
       "    <tr>\n",
       "      <th>0</th>\n",
       "      <td>Scores killed in Pakistan clashes</td>\n",
       "      <td>3</td>\n",
       "      <td>False</td>\n",
       "      <td>polar</td>\n",
       "      <td>[scores, killed, in, pakistan, clashes]</td>\n",
       "    </tr>\n",
       "    <tr>\n",
       "      <th>1</th>\n",
       "      <td>Japan resumes refuelling mission</td>\n",
       "      <td>2</td>\n",
       "      <td>False</td>\n",
       "      <td>polar</td>\n",
       "      <td>[japan, resumes, refuelling, mission]</td>\n",
       "    </tr>\n",
       "    <tr>\n",
       "      <th>2</th>\n",
       "      <td>US presses Egypt on Gaza border</td>\n",
       "      <td>3</td>\n",
       "      <td>False</td>\n",
       "      <td>polar</td>\n",
       "      <td>[us, presses, egypt, on, gaza, border]</td>\n",
       "    </tr>\n",
       "    <tr>\n",
       "      <th>3</th>\n",
       "      <td>Jump-start economy: Give health care to all</td>\n",
       "      <td>1</td>\n",
       "      <td>False</td>\n",
       "      <td>fadi420</td>\n",
       "      <td>[jump, start, economy, give, health, care, to,...</td>\n",
       "    </tr>\n",
       "    <tr>\n",
       "      <th>4</th>\n",
       "      <td>Council of Europe bashes EU&amp;UN terror blacklist</td>\n",
       "      <td>4</td>\n",
       "      <td>False</td>\n",
       "      <td>mhermans</td>\n",
       "      <td>[council, of, europe, bashes, eu, un, terror, ...</td>\n",
       "    </tr>\n",
       "  </tbody>\n",
       "</table>\n",
       "</div>"
      ],
      "text/plain": [
       "                                             title  up_votes  over_18  \\\n",
       "0                Scores killed in Pakistan clashes         3    False   \n",
       "1                 Japan resumes refuelling mission         2    False   \n",
       "2                  US presses Egypt on Gaza border         3    False   \n",
       "3     Jump-start economy: Give health care to all          1    False   \n",
       "4  Council of Europe bashes EU&UN terror blacklist         4    False   \n",
       "\n",
       "     author                                             title2  \n",
       "0     polar            [scores, killed, in, pakistan, clashes]  \n",
       "1     polar              [japan, resumes, refuelling, mission]  \n",
       "2     polar             [us, presses, egypt, on, gaza, border]  \n",
       "3   fadi420  [jump, start, economy, give, health, care, to,...  \n",
       "4  mhermans  [council, of, europe, bashes, eu, un, terror, ...  "
      ]
     },
     "execution_count": 92,
     "metadata": {},
     "output_type": "execute_result"
    }
   ],
   "source": [
    "clean_data.head()"
   ]
  },
  {
   "cell_type": "markdown",
   "metadata": {},
   "source": [
    "## 2.4 Words Stemming "
   ]
  },
  {
   "cell_type": "code",
   "execution_count": 93,
   "metadata": {},
   "outputs": [
    {
     "data": {
      "text/html": [
       "<div>\n",
       "<style scoped>\n",
       "    .dataframe tbody tr th:only-of-type {\n",
       "        vertical-align: middle;\n",
       "    }\n",
       "\n",
       "    .dataframe tbody tr th {\n",
       "        vertical-align: top;\n",
       "    }\n",
       "\n",
       "    .dataframe thead th {\n",
       "        text-align: right;\n",
       "    }\n",
       "</style>\n",
       "<table border=\"1\" class=\"dataframe\">\n",
       "  <thead>\n",
       "    <tr style=\"text-align: right;\">\n",
       "      <th></th>\n",
       "      <th>title</th>\n",
       "      <th>up_votes</th>\n",
       "      <th>over_18</th>\n",
       "      <th>author</th>\n",
       "      <th>title2</th>\n",
       "    </tr>\n",
       "  </thead>\n",
       "  <tbody>\n",
       "    <tr>\n",
       "      <th>0</th>\n",
       "      <td>Scores killed in Pakistan clashes</td>\n",
       "      <td>3</td>\n",
       "      <td>False</td>\n",
       "      <td>polar</td>\n",
       "      <td>[score, kill, in, pakistan, clash]</td>\n",
       "    </tr>\n",
       "    <tr>\n",
       "      <th>1</th>\n",
       "      <td>Japan resumes refuelling mission</td>\n",
       "      <td>2</td>\n",
       "      <td>False</td>\n",
       "      <td>polar</td>\n",
       "      <td>[japan, resum, refuel, mission]</td>\n",
       "    </tr>\n",
       "    <tr>\n",
       "      <th>2</th>\n",
       "      <td>US presses Egypt on Gaza border</td>\n",
       "      <td>3</td>\n",
       "      <td>False</td>\n",
       "      <td>polar</td>\n",
       "      <td>[us, press, egypt, on, gaza, border]</td>\n",
       "    </tr>\n",
       "    <tr>\n",
       "      <th>3</th>\n",
       "      <td>Jump-start economy: Give health care to all</td>\n",
       "      <td>1</td>\n",
       "      <td>False</td>\n",
       "      <td>fadi420</td>\n",
       "      <td>[jump, start, economi, give, health, care, to,...</td>\n",
       "    </tr>\n",
       "    <tr>\n",
       "      <th>4</th>\n",
       "      <td>Council of Europe bashes EU&amp;UN terror blacklist</td>\n",
       "      <td>4</td>\n",
       "      <td>False</td>\n",
       "      <td>mhermans</td>\n",
       "      <td>[council, of, europ, bash, eu, un, terror, bla...</td>\n",
       "    </tr>\n",
       "  </tbody>\n",
       "</table>\n",
       "</div>"
      ],
      "text/plain": [
       "                                             title  up_votes  over_18  \\\n",
       "0                Scores killed in Pakistan clashes         3    False   \n",
       "1                 Japan resumes refuelling mission         2    False   \n",
       "2                  US presses Egypt on Gaza border         3    False   \n",
       "3     Jump-start economy: Give health care to all          1    False   \n",
       "4  Council of Europe bashes EU&UN terror blacklist         4    False   \n",
       "\n",
       "     author                                             title2  \n",
       "0     polar                 [score, kill, in, pakistan, clash]  \n",
       "1     polar                    [japan, resum, refuel, mission]  \n",
       "2     polar               [us, press, egypt, on, gaza, border]  \n",
       "3   fadi420  [jump, start, economi, give, health, care, to,...  \n",
       "4  mhermans  [council, of, europ, bash, eu, un, terror, bla...  "
      ]
     },
     "execution_count": 93,
     "metadata": {},
     "output_type": "execute_result"
    }
   ],
   "source": [
    "# Words Stemming\n",
    "from nltk.stem import PorterStemmer\n",
    "\n",
    "def stemming(x):\n",
    "    ps = PorterStemmer()\n",
    "    return [ps.stem(i) for i in x]\n",
    "\n",
    "\n",
    "clean_data[\"title2\"] = clean_data[\"title2\"].apply(stemming)\n",
    "clean_data.head()"
   ]
  },
  {
   "cell_type": "code",
   "execution_count": 94,
   "metadata": {},
   "outputs": [],
   "source": [
    "# Transforme the response\n",
    "clean_data[\"over_18\"] = [1 if i is True else 0 for i in clean_data.over_18]\n",
    "\n",
    "# Calculate the length of each tokenized title\n",
    "clean_data[\"size_\"] = clean_data.title2.apply(lambda x: len(x))"
   ]
  },
  {
   "cell_type": "code",
   "execution_count": 95,
   "metadata": {},
   "outputs": [
    {
     "name": "stdout",
     "output_type": "stream",
     "text": [
      "7294384 words total, with a vocabulary size of 63707.\n",
      "The sample size is 493001 with 84192 different authors.\n",
      "Max sentence length is 66.\n"
     ]
    }
   ],
   "source": [
    "# Check the vocabularies in titles\n",
    "all_words = [word for tokens in clean_data[\"title2\"] for word in tokens]\n",
    "VOCAB = sorted(list(set(all_words)))\n",
    "author = sorted(list(set(clean_data.author)))\n",
    "print(\"%s words total, with a vocabulary size of %s.\" % (len(all_words), len(VOCAB)))\n",
    "print(\"The sample size is %s with %s different authors.\" % (clean_data.shape[0], len(author)))\n",
    "print(\"Max sentence length is %s.\" % clean_data.size_.max())"
   ]
  },
  {
   "cell_type": "code",
   "execution_count": 96,
   "metadata": {},
   "outputs": [
    {
     "data": {
      "image/png": "[encoded data removed]",
      "text/plain": [
       "<Figure size 432x288 with 1 Axes>"
      ]
     },
     "metadata": {
      "needs_background": "light"
     },
     "output_type": "display_data"
    }
   ],
   "source": [
    "sns.distplot(clean_data.size_).set_title(\"The distribution of title length\")\n",
    "plt.show()"
   ]
  },
  {
   "cell_type": "markdown",
   "metadata": {},
   "source": [
    "## 2.5 Balance the Sample\n",
    "Because the sample is imbalanced, I decided to upsample the minority and downsample the majority."
   ]
  },
  {
   "cell_type": "code",
   "execution_count": 97,
   "metadata": {},
   "outputs": [
    {
     "data": {
      "text/plain": [
       "1    2000\n",
       "0    2000\n",
       "Name: over_18, dtype: int64"
      ]
     },
     "execution_count": 97,
     "metadata": {},
     "output_type": "execute_result"
    }
   ],
   "source": [
    "from sklearn.utils import resample\n",
    "\n",
    "over18 = clean_data[clean_data.over_18  == 1]\n",
    "under18 = clean_data[clean_data.over_18  == 0]\n",
    "\n",
    "# Upsample to make it balanced\n",
    "over18 = resample(over18, \n",
    "         replace=True,     # sample with replacement\n",
    "         n_samples=2000)\n",
    "\n",
    "# Downsample to make it balanced\n",
    "under18 = resample(under18, \n",
    "          replace=False,    # sample without replacement\n",
    "          n_samples=2000)    # to match minority class\n",
    "\n",
    "Balanced_data = pd.concat([under18, over18])\n",
    "Balanced_data.over_18.value_counts()"
   ]
  },
  {
   "cell_type": "markdown",
   "metadata": {},
   "source": [
    "## 2.6 Enter Embeddings\n",
    "I chose bag-of-words and TF-IDF as the embedding method to generate features."
   ]
  },
  {
   "cell_type": "code",
   "execution_count": 98,
   "metadata": {},
   "outputs": [],
   "source": [
    "from sklearn.model_selection import train_test_split\n",
    "from sklearn.feature_extraction.text import CountVectorizer, TfidfVectorizer\n",
    "from nltk.corpus import stopwords\n",
    "\n",
    "\n",
    "def cv(data):\n",
    "    # Bag-of-words method to mine the data\n",
    "    count_vectorizer = CountVectorizer(stop_words=stopwords.words('english'))\n",
    "    \n",
    "    emb = count_vectorizer.fit_transform(data)\n",
    "    \n",
    "    return emb, count_vectorizer\n",
    "\n",
    "\n",
    "def tfidf(data):\n",
    "    # TF-IDF method to mine the data\n",
    "    tfidf_vectorizer = TfidfVectorizer(stop_words=stopwords.words('english'))\n",
    "    \n",
    "    train = tfidf_vectorizer.fit_transform(data)\n",
    "    \n",
    "    return train, tfidf_vectorizer\n",
    "\n",
    "\n",
    "def split_data(Balanced_data, label):\n",
    "    # Return the splited training and testing data\n",
    "    \n",
    "    ## Join back the stemmed words\n",
    "    Balanced_data[\"title3\"] = Balanced_data.apply(lambda x : ' '.join(x[\"title2\"]) + ' ' + x[\"author\"], axis = 1)\n",
    "    \n",
    "    ## Bag-of-words\n",
    "    X, count_vectorizer = cv(Balanced_data[\"title3\"].tolist())\n",
    "    y = Balanced_data[label].tolist()\n",
    "    \n",
    "    X_train_bw, X_test_bw, y_train_bw, y_test_bw = train_test_split(X, y, test_size=0.2, random_state=40)\n",
    "    \n",
    "    ## TF-IDF\n",
    "    X, tfidf_vectorizer = tfidf(Balanced_data[\"title3\"].tolist())\n",
    "    y = Balanced_data[label].tolist()\n",
    "    \n",
    "    X_train_tf, X_test_tf, y_train_tf, y_test_tf = train_test_split(X, y, test_size=0.2, random_state=40)\n",
    "    \n",
    "    return [(X_train_bw, X_test_bw, y_train_bw, y_test_bw),(X_train_tf, X_test_tf, y_train_tf, y_test_tf)]"
   ]
  },
  {
   "cell_type": "code",
   "execution_count": 99,
   "metadata": {},
   "outputs": [],
   "source": [
    "sample = split_data(Balanced_data, label = \"over_18\")\n",
    "X_train_bw, X_test_bw, y_train_bw, y_test_bw = sample[0]\n",
    "X_train_tf, X_test_tf, y_train_tf, y_test_tf = sample[1]"
   ]
  },
  {
   "cell_type": "markdown",
   "metadata": {},
   "source": [
    "# 3. Over_18 Classification Modelling\n",
    "The first model I want to build is classification model aiming to predict 'over_18'.\n",
    "## 3.1 Dimension Reduction\n",
    "For dimension reducing, I used TruncatedSVD, which is designed for sparse metrics."
   ]
  },
  {
   "cell_type": "code",
   "execution_count": 83,
   "metadata": {},
   "outputs": [],
   "source": [
    "from sklearn.decomposition import TruncatedSVD\n",
    "\n",
    "## Bag of word method\n",
    "lsa = TruncatedSVD(n_components=250)\n",
    "lsa.fit(X_train_bw)\n",
    "\n",
    "X_train_svd_bw = lsa.transform(X_train_bw)\n",
    "X_test_svd_bw = lsa.transform(X_test_bw)\n",
    "\n",
    "## TF-idf method\n",
    "lsa = TruncatedSVD(n_components=250)\n",
    "lsa.fit(X_train_tf)\n",
    "\n",
    "X_train_svd_tf = lsa.transform(X_train_tf)\n",
    "X_test_svd_tf = lsa.transform(X_test_tf)"
   ]
  },
  {
   "cell_type": "markdown",
   "metadata": {},
   "source": [
    "## 3.2 Logistic Regression\n",
    "I would like to start with thie simplest one. if it doesn't perform well, I would try the more complicated ones."
   ]
  },
  {
   "cell_type": "code",
   "execution_count": 84,
   "metadata": {},
   "outputs": [],
   "source": [
    "from sklearn.linear_model import LogisticRegression\n",
    "\n",
    "## Bag of words method\n",
    "clf = LogisticRegression(C=30.0, class_weight='balanced', solver='newton-cg', \n",
    "                         n_jobs=-1, random_state=40)\n",
    "clf.fit(X_train_svd_bw, y_train_bw)\n",
    "y_predicted_bw = clf.predict(X_test_svd_bw)\n",
    "\n",
    "## TF-idf method\n",
    "clf = LogisticRegression(C=30.0, class_weight='balanced', solver='newton-cg', \n",
    "                         n_jobs=-1, random_state=40)\n",
    "clf.fit(X_train_svd_tf, y_train_tf)\n",
    "y_predicted_tf = clf.predict(X_test_svd_tf)"
   ]
  },
  {
   "cell_type": "code",
   "execution_count": 85,
   "metadata": {},
   "outputs": [
    {
     "name": "stdout",
     "output_type": "stream",
     "text": [
      "The performance of Bag of word\n",
      "accuracy = 0.974, precision = 0.999, recall = 0.974, f1 = 0.986\n",
      "The performance of TF-IDF\n",
      "accuracy = 0.959, precision = 0.999, recall = 0.959, f1 = 0.978\n"
     ]
    }
   ],
   "source": [
    "from sklearn.metrics import accuracy_score, f1_score, precision_score, recall_score, classification_report\n",
    "\n",
    "def get_metrics(y_test, y_predicted):  \n",
    "    # true positives / (true positives+false positives)\n",
    "    precision = precision_score(y_test, y_predicted, pos_label=None,\n",
    "                                    average='weighted')             \n",
    "    # true positives / (true positives + false negatives)\n",
    "    recall = recall_score(y_test, y_predicted, pos_label=None,\n",
    "                              average='weighted')\n",
    "    \n",
    "    # harmonic mean of precision and recall\n",
    "    f1 = f1_score(y_test, y_predicted, pos_label=None, average='weighted')\n",
    "    \n",
    "    # true positives + true negatives/ total\n",
    "    accuracy = accuracy_score(y_test, y_predicted)\n",
    "    return accuracy, precision, recall, f1\n",
    "\n",
    "## Bag of words method\n",
    "accuracy, precision, recall, f1 = get_metrics(y_test_bw, y_predicted_bw)\n",
    "print(\"The performance of Bag of word\")\n",
    "print(\"accuracy = %.3f, precision = %.3f, recall = %.3f, f1 = %.3f\" % (accuracy, precision, recall, f1))\n",
    "\n",
    "## TF-idf method\n",
    "accuracy, precision, recall, f1 = get_metrics(y_test_tf, y_predicted_tf)\n",
    "print(\"The performance of TF-IDF\")\n",
    "print(\"accuracy = %.3f, precision = %.3f, recall = %.3f, f1 = %.3f\" % (accuracy, precision, recall, f1))"
   ]
  },
  {
   "cell_type": "markdown",
   "metadata": {},
   "source": [
    "The performance of Bag-of-words is very similar to TF-IDF. So I am not going to use bag-of-word here."
   ]
  },
  {
   "cell_type": "markdown",
   "metadata": {},
   "source": [
    "## 3.3 Model Inspection"
   ]
  },
  {
   "cell_type": "code",
   "execution_count": 57,
   "metadata": {},
   "outputs": [],
   "source": [
    "import numpy as np\n",
    "import itertools\n",
    "from sklearn.metrics import confusion_matrix\n",
    "\n",
    "def plot_confusion_matrix(cm, classes,\n",
    "                          normalize=False,\n",
    "                          title='Confusion matrix',\n",
    "                          cmap=plt.cm.winter):\n",
    "    if normalize:\n",
    "        cm = cm.astype('float') / cm.sum(axis=1)[:, np.newaxis]\n",
    "    plt.imshow(cm, interpolation='nearest', cmap=cmap)\n",
    "    plt.title(title, fontsize=30)\n",
    "    plt.colorbar()\n",
    "    tick_marks = np.arange(len(classes))\n",
    "    plt.xticks(tick_marks, classes, fontsize=20)\n",
    "    plt.yticks(tick_marks, classes, fontsize=20)\n",
    "    \n",
    "    fmt = '.2f' if normalize else 'd'\n",
    "    thresh = cm.max() / 2.\n",
    "\n",
    "    for i, j in itertools.product(range(cm.shape[0]), range(cm.shape[1])):\n",
    "        plt.text(j, i, format(cm[i, j], fmt), horizontalalignment=\"center\", \n",
    "                 color=\"white\" if cm[i, j] < thresh else \"black\", fontsize=40)\n",
    "    \n",
    "    plt.tight_layout()\n",
    "    plt.ylabel('True label', fontsize=30)\n",
    "    plt.xlabel('Predicted label', fontsize=30)\n",
    "\n",
    "    return plt"
   ]
  },
  {
   "cell_type": "code",
   "execution_count": 36,
   "metadata": {},
   "outputs": [
    {
     "data": {
      "image/png": "[encoded data removed]",
      "text/plain": [
       "<Figure size 720x576 with 2 Axes>"
      ]
     },
     "metadata": {
      "needs_background": "light"
     },
     "output_type": "display_data"
    }
   ],
   "source": [
    "# Plot condusion matrix to visualize the performance\n",
    "cm = confusion_matrix(y_test_bw, y_predicted_bw)\n",
    "fig = plt.figure(figsize=(10, 8))\n",
    "plot = plot_confusion_matrix(cm, classes=['over_18','under_18'], normalize=False, title='Confusion matrix')\n",
    "plt.show()"
   ]
  },
  {
   "cell_type": "markdown",
   "metadata": {},
   "source": [
    "## 3.4 Get Feature Importance"
   ]
  },
  {
   "cell_type": "code",
   "execution_count": 38,
   "metadata": {},
   "outputs": [
    {
     "name": "stdout",
     "output_type": "stream",
     "text": [
      "accuracy = 0.936, precision = 0.940, recall = 0.936, f1 = 0.936\n"
     ]
    },
    {
     "data": {
      "text/html": [
       "<div>\n",
       "<style scoped>\n",
       "    .dataframe tbody tr th:only-of-type {\n",
       "        vertical-align: middle;\n",
       "    }\n",
       "\n",
       "    .dataframe tbody tr th {\n",
       "        vertical-align: top;\n",
       "    }\n",
       "\n",
       "    .dataframe thead th {\n",
       "        text-align: right;\n",
       "    }\n",
       "</style>\n",
       "<table border=\"1\" class=\"dataframe\">\n",
       "  <thead>\n",
       "    <tr style=\"text-align: right;\">\n",
       "      <th></th>\n",
       "      <th>feature</th>\n",
       "      <th>importance</th>\n",
       "    </tr>\n",
       "  </thead>\n",
       "  <tbody>\n",
       "    <tr>\n",
       "      <th>4573</th>\n",
       "      <td>nsfw</td>\n",
       "      <td>0.110547</td>\n",
       "    </tr>\n",
       "    <tr>\n",
       "      <th>6922</th>\n",
       "      <td>video</td>\n",
       "      <td>0.049573</td>\n",
       "    </tr>\n",
       "    <tr>\n",
       "      <th>2816</th>\n",
       "      <td>graphic</td>\n",
       "      <td>0.029492</td>\n",
       "    </tr>\n",
       "    <tr>\n",
       "      <th>4572</th>\n",
       "      <td>nsfl</td>\n",
       "      <td>0.021780</td>\n",
       "    </tr>\n",
       "    <tr>\n",
       "      <th>4905</th>\n",
       "      <td>photo</td>\n",
       "      <td>0.014886</td>\n",
       "    </tr>\n",
       "    <tr>\n",
       "      <th>5141</th>\n",
       "      <td>protest</td>\n",
       "      <td>0.012845</td>\n",
       "    </tr>\n",
       "    <tr>\n",
       "      <th>1772</th>\n",
       "      <td>dead</td>\n",
       "      <td>0.012396</td>\n",
       "    </tr>\n",
       "    <tr>\n",
       "      <th>6351</th>\n",
       "      <td>syrian</td>\n",
       "      <td>0.011375</td>\n",
       "    </tr>\n",
       "    <tr>\n",
       "      <th>6611</th>\n",
       "      <td>topless</td>\n",
       "      <td>0.010582</td>\n",
       "    </tr>\n",
       "    <tr>\n",
       "      <th>4913</th>\n",
       "      <td>pictur</td>\n",
       "      <td>0.010067</td>\n",
       "    </tr>\n",
       "  </tbody>\n",
       "</table>\n",
       "</div>"
      ],
      "text/plain": [
       "      feature  importance\n",
       "4573     nsfw    0.110547\n",
       "6922    video    0.049573\n",
       "2816  graphic    0.029492\n",
       "4572     nsfl    0.021780\n",
       "4905    photo    0.014886\n",
       "5141  protest    0.012845\n",
       "1772     dead    0.012396\n",
       "6351   syrian    0.011375\n",
       "6611  topless    0.010582\n",
       "4913   pictur    0.010067"
      ]
     },
     "execution_count": 38,
     "metadata": {},
     "output_type": "execute_result"
    }
   ],
   "source": [
    "from sklearn.ensemble import RandomForestClassifier\n",
    "\n",
    "## Join back the stemmed words\n",
    "Balanced_data[\"title3\"] = Balanced_data.apply(lambda x : ' '.join(x[\"title2\"]) + ' ' + x[\"author\"], axis = 1)\n",
    "\n",
    "X, count_vectorizer = cv(Balanced_data[\"title3\"].tolist())\n",
    "y = Balanced_data['over_18'].tolist()\n",
    "\n",
    "X_train_bw, X_test_bw, y_train_bw, y_test_bw = train_test_split(X, y, test_size=0.2, random_state=40)\n",
    "\n",
    "# Feature selection\n",
    "clf_tr = RandomForestClassifier(n_estimators=120, max_depth=40, random_state=0)\n",
    "clf_tr.fit(X_train_bw, y_train_bw)\n",
    "\n",
    "y_predicted_bw = clf_tr.predict(X_test_bw)\n",
    "accuracy, precision, recall, f1 = get_metrics(y_test_bw, y_predicted_bw)\n",
    "print(\"accuracy = %.3f, precision = %.3f, recall = %.3f, f1 = %.3f\" % (accuracy, precision, recall, f1))\n",
    "\n",
    "# Feature importance dataframe\n",
    "Feature = pd.DataFrame(count_vectorizer.get_feature_names(), columns = [\"feature\"])\n",
    "Feature[\"importance\"] = clf_tr.feature_importances_\n",
    "\n",
    "important_fea = Feature.sort_values(by = \"importance\", ascending=False)\n",
    "important_fea.head(10)"
   ]
  },
  {
   "cell_type": "markdown",
   "metadata": {},
   "source": [
    "## 3.5 Summary\n",
    "As we can see, the model performed very well. Of Couse, it could be the limitation of sample size(4000) compared with the large size of features(250). Also, we can go back to see the vocabularies that contribute to the model. Of course, we can choose some other feature selection method so that we can go check the word importance. "
   ]
  },
  {
   "cell_type": "markdown",
   "metadata": {},
   "source": [
    "# 4. Up_votes Classification Modelling\n",
    "Right now, I am going to see if title and author can be used for up_votes prediction. As I explored before, the 'up_votes' is not normal distributed. And we can't solve it with poison regression. So I decided to buketize the 'up_votes' to create a classification problem.\n",
    "## 4.1 Up_votes Categorizing\n",
    "It's not easy to find the best place to seperate the 'up_votes', so that the title and author information can better represent the 'up_votes'. So I started with inital binary seperating. Here are my steps:\n",
    "    1. With inital binary seperating, I used the previous logistic regression to generate a model; \n",
    "    2. I changed the seperating point, in order to achive a relative higher model performance on the fixed model setting;\n",
    "    3. With fixed seperating point, I improved the model. I chose random forest for feature selection, then implement the selected feature to train the logistic regression, which achieved a better performance."
   ]
  },
  {
   "cell_type": "code",
   "execution_count": 104,
   "metadata": {},
   "outputs": [
    {
     "data": {
      "text/plain": [
       "2    478609\n",
       "1     14392\n",
       "Name: up_votes_cat, dtype: int64"
      ]
     },
     "execution_count": 104,
     "metadata": {},
     "output_type": "execute_result"
    }
   ],
   "source": [
    "# Categorize the up_votes\n",
    "def vote_cate(x):\n",
    "    if x > 1000: return 1\n",
    "    else: return 2\n",
    "\n",
    "clean_data[\"up_votes_cat\"] = clean_data.up_votes.apply(vote_cate)\n",
    "clean_data.up_votes_cat.value_counts()"
   ]
  },
  {
   "cell_type": "markdown",
   "metadata": {},
   "source": [
    "## 4.2 Balance the Dataset\n",
    "Before training the model, we need to balance the dataset. I upsampled the minority and downsampled the majority considering the 'sample size' vs 'feature number'."
   ]
  },
  {
   "cell_type": "code",
   "execution_count": 105,
   "metadata": {},
   "outputs": [
    {
     "data": {
      "text/plain": [
       "2    90000\n",
       "1    90000\n",
       "Name: up_votes_cat, dtype: int64"
      ]
     },
     "execution_count": 105,
     "metadata": {},
     "output_type": "execute_result"
    }
   ],
   "source": [
    "# Balance the sample\n",
    "up_1 = clean_data[clean_data.up_votes_cat  == 1]\n",
    "up_2 = clean_data[clean_data.up_votes_cat  == 2]\n",
    "\n",
    "# Downsample to make it balanced\n",
    "up_2 = resample(up_2, \n",
    "          replace=False,    # sample without replacement\n",
    "          n_samples=90000)    # to match minority class\n",
    "\n",
    "# upsample to make it balanced\n",
    "up_1 = resample(up_1, \n",
    "          replace=True,    # sample without replacement\n",
    "          n_samples=90000)    # to match minority class\n",
    "\n",
    "Balanced_data = pd.concat([up_1, up_2])\n",
    "Balanced_data.up_votes_cat.value_counts()"
   ]
  },
  {
   "cell_type": "markdown",
   "metadata": {},
   "source": [
    "## 4.3 Enter Embeddings"
   ]
  },
  {
   "cell_type": "code",
   "execution_count": 41,
   "metadata": {},
   "outputs": [
    {
     "data": {
      "text/html": [
       "<div>\n",
       "<style scoped>\n",
       "    .dataframe tbody tr th:only-of-type {\n",
       "        vertical-align: middle;\n",
       "    }\n",
       "\n",
       "    .dataframe tbody tr th {\n",
       "        vertical-align: top;\n",
       "    }\n",
       "\n",
       "    .dataframe thead th {\n",
       "        text-align: right;\n",
       "    }\n",
       "</style>\n",
       "<table border=\"1\" class=\"dataframe\">\n",
       "  <thead>\n",
       "    <tr style=\"text-align: right;\">\n",
       "      <th></th>\n",
       "      <th>title</th>\n",
       "      <th>up_votes</th>\n",
       "      <th>over_18</th>\n",
       "      <th>author</th>\n",
       "      <th>title2</th>\n",
       "      <th>size_</th>\n",
       "      <th>up_votes_cat</th>\n",
       "    </tr>\n",
       "  </thead>\n",
       "  <tbody>\n",
       "    <tr>\n",
       "      <th>181828</th>\n",
       "      <td>11 Governments Are Meeting in Peru to Figure O...</td>\n",
       "      <td>1944</td>\n",
       "      <td>0</td>\n",
       "      <td>TempleKingOne</td>\n",
       "      <td>[11, govern, are, meet, in, peru, to, figur, o...</td>\n",
       "      <td>15</td>\n",
       "      <td>1</td>\n",
       "    </tr>\n",
       "    <tr>\n",
       "      <th>292148</th>\n",
       "      <td>10 people die and 1,400 rushed to hospital in ...</td>\n",
       "      <td>1743</td>\n",
       "      <td>0</td>\n",
       "      <td>hoosakiwi</td>\n",
       "      <td>[10, peopl, die, and, 1, 400, rush, to, hospit...</td>\n",
       "      <td>14</td>\n",
       "      <td>1</td>\n",
       "    </tr>\n",
       "    <tr>\n",
       "      <th>358822</th>\n",
       "      <td>French commandos free Dutch hostage in Mali, h...</td>\n",
       "      <td>3294</td>\n",
       "      <td>0</td>\n",
       "      <td>jib60</td>\n",
       "      <td>[french, commando, free, dutch, hostag, in, ma...</td>\n",
       "      <td>12</td>\n",
       "      <td>1</td>\n",
       "    </tr>\n",
       "    <tr>\n",
       "      <th>207904</th>\n",
       "      <td>Russia’s warning falls on deaf ears as Britain...</td>\n",
       "      <td>2480</td>\n",
       "      <td>0</td>\n",
       "      <td>readerseven</td>\n",
       "      <td>[russia, s, warn, fall, on, deaf, ear, as, bri...</td>\n",
       "      <td>14</td>\n",
       "      <td>1</td>\n",
       "    </tr>\n",
       "    <tr>\n",
       "      <th>263347</th>\n",
       "      <td>China indicates it may block future action aga...</td>\n",
       "      <td>2507</td>\n",
       "      <td>0</td>\n",
       "      <td>independentlythought</td>\n",
       "      <td>[china, indic, it, may, block, futur, action, ...</td>\n",
       "      <td>44</td>\n",
       "      <td>1</td>\n",
       "    </tr>\n",
       "  </tbody>\n",
       "</table>\n",
       "</div>"
      ],
      "text/plain": [
       "                                                    title  up_votes  over_18  \\\n",
       "181828  11 Governments Are Meeting in Peru to Figure O...      1944        0   \n",
       "292148  10 people die and 1,400 rushed to hospital in ...      1743        0   \n",
       "358822  French commandos free Dutch hostage in Mali, h...      3294        0   \n",
       "207904  Russia’s warning falls on deaf ears as Britain...      2480        0   \n",
       "263347  China indicates it may block future action aga...      2507        0   \n",
       "\n",
       "                      author  \\\n",
       "181828         TempleKingOne   \n",
       "292148             hoosakiwi   \n",
       "358822                 jib60   \n",
       "207904           readerseven   \n",
       "263347  independentlythought   \n",
       "\n",
       "                                                   title2  size_  up_votes_cat  \n",
       "181828  [11, govern, are, meet, in, peru, to, figur, o...     15             1  \n",
       "292148  [10, peopl, die, and, 1, 400, rush, to, hospit...     14             1  \n",
       "358822  [french, commando, free, dutch, hostag, in, ma...     12             1  \n",
       "207904  [russia, s, warn, fall, on, deaf, ear, as, bri...     14             1  \n",
       "263347  [china, indic, it, may, block, futur, action, ...     44             1  "
      ]
     },
     "execution_count": 41,
     "metadata": {},
     "output_type": "execute_result"
    }
   ],
   "source": [
    "Balanced_data.head()"
   ]
  },
  {
   "cell_type": "code",
   "execution_count": 42,
   "metadata": {},
   "outputs": [],
   "source": [
    "# Split the dataset to training and testing sets\n",
    "sample = split_data(Balanced_data, label=\"up_votes_cat\")\n",
    "X_train_bw, X_test_bw, y_train_bw, y_test_bw = sample[0]\n",
    "X_train_tf, X_test_tf, y_train_tf, y_test_tf = sample[1]"
   ]
  },
  {
   "cell_type": "markdown",
   "metadata": {},
   "source": [
    "## 4.4 Select the Embeddings\n",
    "Here I used the logistic regression for selecting embedding method.\n",
    "### 4.4.1 Dimension Reduction"
   ]
  },
  {
   "cell_type": "code",
   "execution_count": 43,
   "metadata": {},
   "outputs": [],
   "source": [
    "## Bag of word method\n",
    "lsa = TruncatedSVD(n_components=150)\n",
    "lsa.fit(X_train_bw)\n",
    "\n",
    "X_train_svd_bw = lsa.transform(X_train_bw)\n",
    "X_test_svd_bw = lsa.transform(X_test_bw)\n",
    "\n",
    "## TF-idf method\n",
    "lsa = TruncatedSVD(n_components=150)\n",
    "lsa.fit(X_train_tf)\n",
    "\n",
    "X_train_svd_tf = lsa.transform(X_train_tf)\n",
    "X_test_svd_tf = lsa.transform(X_test_tf)"
   ]
  },
  {
   "cell_type": "markdown",
   "metadata": {},
   "source": [
    "### 4.4.2 Logistic Regression"
   ]
  },
  {
   "cell_type": "code",
   "execution_count": 44,
   "metadata": {},
   "outputs": [],
   "source": [
    "## Bag of words method\n",
    "clf = LogisticRegression(C=30.0, class_weight='balanced', solver='newton-cg', \n",
    "                         multi_class='multinomial', n_jobs=-1, random_state=40)\n",
    "clf.fit(X_train_svd_bw, y_train_bw)\n",
    "y_predicted_bw = clf.predict(X_test_svd_bw)\n",
    "\n",
    "## TF-idf method\n",
    "clf = LogisticRegression(C=30.0, class_weight='balanced', solver='newton-cg', \n",
    "                         multi_class='multinomial', n_jobs=-1, random_state=40)\n",
    "clf.fit(X_train_svd_tf, y_train_tf)\n",
    "y_predicted_tf = clf.predict(X_test_svd_tf)"
   ]
  },
  {
   "cell_type": "markdown",
   "metadata": {},
   "source": [
    "### 4.4.3 Model Performance"
   ]
  },
  {
   "cell_type": "code",
   "execution_count": 45,
   "metadata": {},
   "outputs": [
    {
     "name": "stdout",
     "output_type": "stream",
     "text": [
      "The performance of Bag of word\n",
      "accuracy = 0.660, precision = 0.663, recall = 0.660, f1 = 0.659\n",
      "The performance of TF-IDF\n",
      "accuracy = 0.672, precision = 0.673, recall = 0.672, f1 = 0.672\n"
     ]
    }
   ],
   "source": [
    "## Bag of words method\n",
    "accuracy, precision, recall, f1 = get_metrics(y_test_bw, y_predicted_bw)\n",
    "print(\"The performance of Bag of word\")\n",
    "print(\"accuracy = %.3f, precision = %.3f, recall = %.3f, f1 = %.3f\" % (accuracy, precision, recall, f1))\n",
    "\n",
    "## TF-idf method\n",
    "accuracy, precision, recall, f1 = get_metrics(y_test_tf, y_predicted_tf)\n",
    "print(\"The performance of TF-IDF\")\n",
    "print(\"accuracy = %.3f, precision = %.3f, recall = %.3f, f1 = %.3f\" % (accuracy, precision, recall, f1))"
   ]
  },
  {
   "cell_type": "markdown",
   "metadata": {},
   "source": [
    "TF-IDF performs slightly better here. But we neet to choose a better parameter or a better model.\n",
    "\n",
    "## 4.5 Choose Split-point\n",
    "Because I found the performance of logistic regresion wasn't very good. I was thinking that there might be some noise and planing to use random forest to eliminate some useless words. \n",
    "\n",
    "With some tests, I confirm that feature selection with random forest is much better. So I used the random forest as the model to select the best split point."
   ]
  },
  {
   "cell_type": "code",
   "execution_count": 101,
   "metadata": {
    "scrolled": true
   },
   "outputs": [],
   "source": [
    "from sklearn.ensemble import RandomForestClassifier\n",
    "\n",
    "def find_sweet_point(first, second):\n",
    "    # Categorize the up_votes\n",
    "    def vote_cate(x):\n",
    "        if x > second: return 1\n",
    "        elif x <= first: return 3\n",
    "        else: return 2\n",
    "    \n",
    "    clean_data[\"up_votes_cat\"] = clean_data.up_votes.apply(vote_cate)\n",
    "    print(clean_data.up_votes_cat.value_counts())\n",
    "    \n",
    "    # Balance the sample\n",
    "    up_3 = clean_data[clean_data.up_votes_cat  == 3]\n",
    "    up_2 = clean_data[clean_data.up_votes_cat  == 2]\n",
    "    \n",
    "    # Downsample to make it balanced\n",
    "    up_3 = resample(up_3, \n",
    "              replace=False,    # sample without replacement\n",
    "              n_samples=1700)    # to match minority class\n",
    "    \n",
    "    # upsample to make it balanced\n",
    "    up_2 = resample(up_2, \n",
    "              replace=True,    # sample without replacement\n",
    "              n_samples=1700)    # to match minority class\n",
    "    \n",
    "    Balanced_data = pd.concat([up_2, up_3])\n",
    "    Balanced_data.up_votes_cat.value_counts()\n",
    "    \n",
    "    # Join back the stemmed words\n",
    "    Balanced_data[\"title3\"] = Balanced_data.apply(lambda x : ' '.join(x[\"title2\"]) + ' ' + x[\"author\"], axis = 1)\n",
    "    \n",
    "    # TF-IDF\n",
    "    X, tfidf_vectorizer = tfidf(Balanced_data[\"title3\"].tolist())\n",
    "    y = Balanced_data[\"up_votes_cat\"].tolist()\n",
    "    \n",
    "    X_train_tf, X_test_tf, y_train_tf, y_test_tf = train_test_split(X, y, test_size=0.2, random_state=40)\n",
    "    \n",
    "    # Train the model \n",
    "    clf_tr = RandomForestClassifier(n_estimators=120, max_depth=40, random_state=0)\n",
    "    clf_tr.fit(X_train_tf, y_train_tf)\n",
    "    y_predicted_tf = clf_tr.predict(X_test_tf)\n",
    "    \n",
    "    print (\"The point you have is %s\" % first)\n",
    "    accuracy, precision, recall, f1 = get_metrics(y_test_tf, y_predicted_tf)\n",
    "    print(\"accuracy = %.3f, precision = %.3f, recall = %.3f, f1 = %.3f\" % (accuracy, precision, recall, f1))\n",
    "    print(\"-\"*40)"
   ]
  },
  {
   "cell_type": "code",
   "execution_count": 102,
   "metadata": {},
   "outputs": [],
   "source": [
    "def training_model(Balanced_data, num_features, classes=['2', '3']):\n",
    "    # Join back the stemmed words\n",
    "    Balanced_data[\"title3\"] = Balanced_data.apply(lambda x : ' '.join(x[\"title2\"]) + ' ' + x[\"author\"], axis = 1)\n",
    "    \n",
    "    # TF-IDF\n",
    "    X, tfidf_vectorizer = tfidf(Balanced_data[\"title3\"].tolist())\n",
    "    y = Balanced_data[\"up_votes_cat\"].tolist()\n",
    "    \n",
    "    X_train_tf, X_test_tf, y_train_tf, y_test_tf = train_test_split(X, y, test_size=0.2, random_state=40)\n",
    "    Features = tfidf_vectorizer.get_feature_names()\n",
    "    \n",
    "    # Feature selection\n",
    "    clf_tr = RandomForestClassifier(n_estimators=120, max_depth=40, random_state=0)\n",
    "    clf_tr.fit(X_train_tf, y_train_tf)\n",
    "\n",
    "    Feature_dict = {i:v for i,v in zip(Features,range(len(Features)))}\n",
    "    \n",
    "    # Feature importance dataframe\n",
    "    Feature = pd.DataFrame(Features, columns = [\"feature\"])\n",
    "    Feature[\"importance\"] = clf_tr.feature_importances_\n",
    "    \n",
    "    important_fea = Feature.sort_values(by = \"importance\", ascending=False).iloc[:num_features, 0]   # Choose the top 64000 features\n",
    "    index = [Feature_dict[i] for i in important_fea]\n",
    "    \n",
    "    # Train\n",
    "    clf = LogisticRegression(C=30.0, class_weight='balanced', solver='newton-cg', \n",
    "                            multi_class='multinomial', n_jobs=-1, random_state=40)\n",
    "    print(clf)\n",
    "    clf.fit(X_train_tf[:,index], y_train_tf)\n",
    "    y_predicted_tf = clf.predict(X_test_tf[:,index])\n",
    "    accuracy, precision, recall, f1 = get_metrics(y_test_tf, y_predicted_tf)\n",
    "    print(\"accuracy = %.3f, precision = %.3f, recall = %.3f, f1 = %.3f\" % (accuracy, precision, recall, f1))\n",
    "    \n",
    "    cm = confusion_matrix(y_test_tf, y_predicted_tf)\n",
    "    fig = plt.figure(figsize=(10, 8))\n",
    "    plot = plot_confusion_matrix(cm, classes=classes, normalize=False, title='Confusion matrix')\n",
    "    plt.show()\n",
    "    return Feature.sort_values(by = \"importance\", ascending=False)"
   ]
  },
  {
   "cell_type": "markdown",
   "metadata": {},
   "source": [
    "### 4.5.1 Choose the first split point"
   ]
  },
  {
   "cell_type": "code",
   "execution_count": 48,
   "metadata": {
    "scrolled": true
   },
   "outputs": [
    {
     "name": "stdout",
     "output_type": "stream",
     "text": [
      "3    443994\n",
      "2     49007\n",
      "Name: up_votes_cat, dtype: int64\n",
      "The point you have is 100\n",
      "accuracy = 0.634, precision = 0.636, recall = 0.634, f1 = 0.631\n",
      "----------------------------------------\n",
      "3    463314\n",
      "2     29687\n",
      "Name: up_votes_cat, dtype: int64\n",
      "The point you have is 300\n",
      "accuracy = 0.594, precision = 0.595, recall = 0.594, f1 = 0.592\n",
      "----------------------------------------\n",
      "3    473026\n",
      "2     19975\n",
      "Name: up_votes_cat, dtype: int64\n",
      "The point you have is 600\n",
      "accuracy = 0.644, precision = 0.647, recall = 0.644, f1 = 0.641\n",
      "----------------------------------------\n",
      "3    476373\n",
      "2     16628\n",
      "Name: up_votes_cat, dtype: int64\n",
      "The point you have is 800\n",
      "accuracy = 0.663, precision = 0.664, recall = 0.663, f1 = 0.662\n",
      "----------------------------------------\n",
      "3    478609\n",
      "2     14392\n",
      "Name: up_votes_cat, dtype: int64\n",
      "The point you have is 1000\n",
      "accuracy = 0.651, precision = 0.652, recall = 0.651, f1 = 0.650\n",
      "----------------------------------------\n",
      "3    480296\n",
      "2     12705\n",
      "Name: up_votes_cat, dtype: int64\n",
      "The point you have is 1200\n",
      "accuracy = 0.621, precision = 0.621, recall = 0.621, f1 = 0.620\n",
      "----------------------------------------\n",
      "3    484691\n",
      "2      8310\n",
      "Name: up_votes_cat, dtype: int64\n",
      "The point you have is 2000\n",
      "accuracy = 0.650, precision = 0.652, recall = 0.650, f1 = 0.648\n",
      "----------------------------------------\n"
     ]
    }
   ],
   "source": [
    "# Finding the sweet point\n",
    "a_list = [100, 300, 600, 800, 1000, 1200, 2000]\n",
    "for i in a_list:\n",
    "    find_sweet_point(i, float(\"inf\"))"
   ]
  },
  {
   "cell_type": "markdown",
   "metadata": {},
   "source": [
    "Considering about the goal of categorizing 'up_votes', I decided to choose 1000 as the first sweet point to split the dataset. Because it can group a relatively large titles and keep a high accuracy."
   ]
  },
  {
   "cell_type": "markdown",
   "metadata": {},
   "source": [
    "### 4.5.2 Train the model with selected features"
   ]
  },
  {
   "cell_type": "code",
   "execution_count": 106,
   "metadata": {},
   "outputs": [
    {
     "name": "stdout",
     "output_type": "stream",
     "text": [
      "LogisticRegression(C=30.0, class_weight='balanced', dual=False,\n",
      "          fit_intercept=True, intercept_scaling=1, max_iter=100,\n",
      "          multi_class='multinomial', n_jobs=-1, penalty='l2',\n",
      "          random_state=40, solver='newton-cg', tol=0.0001, verbose=0,\n",
      "          warm_start=False)\n",
      "accuracy = 0.907, precision = 0.913, recall = 0.907, f1 = 0.906\n"
     ]
    },
    {
     "data": {
      "image/png": "[encoded data removed]",
      "text/plain": [
       "<Figure size 720x576 with 2 Axes>"
      ]
     },
     "metadata": {
      "needs_background": "light"
     },
     "output_type": "display_data"
    },
    {
     "data": {
      "text/html": [
       "<div>\n",
       "<style scoped>\n",
       "    .dataframe tbody tr th:only-of-type {\n",
       "        vertical-align: middle;\n",
       "    }\n",
       "\n",
       "    .dataframe tbody tr th {\n",
       "        vertical-align: top;\n",
       "    }\n",
       "\n",
       "    .dataframe thead th {\n",
       "        text-align: right;\n",
       "    }\n",
       "</style>\n",
       "<table border=\"1\" class=\"dataframe\">\n",
       "  <thead>\n",
       "    <tr style=\"text-align: right;\">\n",
       "      <th></th>\n",
       "      <th>feature</th>\n",
       "      <th>importance</th>\n",
       "    </tr>\n",
       "  </thead>\n",
       "  <tbody>\n",
       "    <tr>\n",
       "      <th>23193</th>\n",
       "      <td>ha</td>\n",
       "      <td>0.016937</td>\n",
       "    </tr>\n",
       "    <tr>\n",
       "      <th>34464</th>\n",
       "      <td>maxwellhill</td>\n",
       "      <td>0.016840</td>\n",
       "    </tr>\n",
       "    <tr>\n",
       "      <th>6491</th>\n",
       "      <td>ban</td>\n",
       "      <td>0.009824</td>\n",
       "    </tr>\n",
       "    <tr>\n",
       "      <th>50589</th>\n",
       "      <td>snowden</td>\n",
       "      <td>0.009215</td>\n",
       "    </tr>\n",
       "    <tr>\n",
       "      <th>60721</th>\n",
       "      <td>year</td>\n",
       "      <td>0.009183</td>\n",
       "    </tr>\n",
       "    <tr>\n",
       "      <th>31993</th>\n",
       "      <td>libertatea</td>\n",
       "      <td>0.007928</td>\n",
       "    </tr>\n",
       "    <tr>\n",
       "      <th>48181</th>\n",
       "      <td>scientist</td>\n",
       "      <td>0.007750</td>\n",
       "    </tr>\n",
       "    <tr>\n",
       "      <th>39211</th>\n",
       "      <td>nsa</td>\n",
       "      <td>0.007108</td>\n",
       "    </tr>\n",
       "    <tr>\n",
       "      <th>4717</th>\n",
       "      <td>anutensil</td>\n",
       "      <td>0.006948</td>\n",
       "    </tr>\n",
       "    <tr>\n",
       "      <th>47929</th>\n",
       "      <td>say</td>\n",
       "      <td>0.006333</td>\n",
       "    </tr>\n",
       "  </tbody>\n",
       "</table>\n",
       "</div>"
      ],
      "text/plain": [
       "           feature  importance\n",
       "23193           ha    0.016937\n",
       "34464  maxwellhill    0.016840\n",
       "6491           ban    0.009824\n",
       "50589      snowden    0.009215\n",
       "60721         year    0.009183\n",
       "31993   libertatea    0.007928\n",
       "48181    scientist    0.007750\n",
       "39211          nsa    0.007108\n",
       "4717     anutensil    0.006948\n",
       "47929          say    0.006333"
      ]
     },
     "execution_count": 106,
     "metadata": {},
     "output_type": "execute_result"
    }
   ],
   "source": [
    "Important_fea = training_model(Balanced_data, num_features = 62000, classes=['1', '2'])\n",
    "Important_fea.head(10)"
   ]
  },
  {
   "cell_type": "markdown",
   "metadata": {},
   "source": [
    "### 4.5.3 Summay 1\n",
    "Right now, we can split the dataset by 'up_vote > 1000' and 'up_votes <= 1000'. The overall accuracy is 0.907, which is alrealy very good. We can also go back to 'Feature' to have a look at the feature importance(Important_fea) and get a better idea about the words that are captured. While these two category is not even, we have only 3% titles having up_votes larger than 1000. So I want to be more specific on the rest 97%.\n",
    "\n",
    "### 4.5.4 Split the 'up_votes <= 1000"
   ]
  },
  {
   "cell_type": "code",
   "execution_count": 54,
   "metadata": {
    "scrolled": true
   },
   "outputs": [
    {
     "name": "stdout",
     "output_type": "stream",
     "text": [
      "3    451615\n",
      "2     26994\n",
      "1     14392\n",
      "Name: up_votes_cat, dtype: int64\n",
      "The point you have is 150\n",
      "accuracy = 0.612, precision = 0.614, recall = 0.612, f1 = 0.609\n",
      "----------------------------------------\n",
      "3    452780\n",
      "2     25829\n",
      "1     14392\n",
      "Name: up_votes_cat, dtype: int64\n",
      "The point you have is 160\n",
      "accuracy = 0.610, precision = 0.610, recall = 0.610, f1 = 0.610\n",
      "----------------------------------------\n",
      "3    453806\n",
      "2     24803\n",
      "1     14392\n",
      "Name: up_votes_cat, dtype: int64\n",
      "The point you have is 170\n",
      "accuracy = 0.597, precision = 0.597, recall = 0.597, f1 = 0.596\n",
      "----------------------------------------\n",
      "3    454866\n",
      "2     23743\n",
      "1     14392\n",
      "Name: up_votes_cat, dtype: int64\n",
      "The point you have is 180\n",
      "accuracy = 0.571, precision = 0.571, recall = 0.571, f1 = 0.569\n",
      "----------------------------------------\n",
      "3    455812\n",
      "2     22797\n",
      "1     14392\n",
      "Name: up_votes_cat, dtype: int64\n",
      "The point you have is 190\n",
      "accuracy = 0.610, precision = 0.611, recall = 0.610, f1 = 0.609\n",
      "----------------------------------------\n",
      "3    456704\n",
      "2     21905\n",
      "1     14392\n",
      "Name: up_votes_cat, dtype: int64\n",
      "The point you have is 200\n",
      "accuracy = 0.590, precision = 0.590, recall = 0.590, f1 = 0.589\n",
      "----------------------------------------\n",
      "3    457520\n",
      "2     21089\n",
      "1     14392\n",
      "Name: up_votes_cat, dtype: int64\n",
      "The point you have is 210\n",
      "accuracy = 0.615, precision = 0.615, recall = 0.615, f1 = 0.613\n",
      "----------------------------------------\n",
      "3    458277\n",
      "2     20332\n",
      "1     14392\n",
      "Name: up_votes_cat, dtype: int64\n",
      "The point you have is 220\n",
      "accuracy = 0.607, precision = 0.609, recall = 0.607, f1 = 0.604\n",
      "----------------------------------------\n",
      "3    458992\n",
      "2     19617\n",
      "1     14392\n",
      "Name: up_votes_cat, dtype: int64\n",
      "The point you have is 230\n",
      "accuracy = 0.616, precision = 0.616, recall = 0.616, f1 = 0.616\n",
      "----------------------------------------\n",
      "3    459703\n",
      "2     18906\n",
      "1     14392\n",
      "Name: up_votes_cat, dtype: int64\n",
      "The point you have is 240\n",
      "accuracy = 0.631, precision = 0.631, recall = 0.631, f1 = 0.630\n",
      "----------------------------------------\n",
      "3    460373\n",
      "2     18236\n",
      "1     14392\n",
      "Name: up_votes_cat, dtype: int64\n",
      "The point you have is 250\n",
      "accuracy = 0.634, precision = 0.634, recall = 0.634, f1 = 0.633\n",
      "----------------------------------------\n"
     ]
    }
   ],
   "source": [
    "# Finding the sweet point\n",
    "a_list = [150, 160, 170, 180, 190, 200, 210, 220, 230, 240, 250]\n",
    "for i in a_list:\n",
    "    find_sweet_point(i, 1000)"
   ]
  },
  {
   "cell_type": "code",
   "execution_count": 108,
   "metadata": {},
   "outputs": [
    {
     "name": "stdout",
     "output_type": "stream",
     "text": [
      "LogisticRegression(C=30.0, class_weight='balanced', dual=False,\n",
      "          fit_intercept=True, intercept_scaling=1, max_iter=100,\n",
      "          multi_class='multinomial', n_jobs=-1, penalty='l2',\n",
      "          random_state=40, solver='newton-cg', tol=0.0001, verbose=0,\n",
      "          warm_start=False)\n",
      "accuracy = 0.844, precision = 0.849, recall = 0.844, f1 = 0.843\n"
     ]
    },
    {
     "data": {
      "image/png": "[encoded data removed]",
      "text/plain": [
       "<Figure size 720x576 with 2 Axes>"
      ]
     },
     "metadata": {
      "needs_background": "light"
     },
     "output_type": "display_data"
    },
    {
     "data": {
      "text/html": [
       "<div>\n",
       "<style scoped>\n",
       "    .dataframe tbody tr th:only-of-type {\n",
       "        vertical-align: middle;\n",
       "    }\n",
       "\n",
       "    .dataframe tbody tr th {\n",
       "        vertical-align: top;\n",
       "    }\n",
       "\n",
       "    .dataframe thead th {\n",
       "        text-align: right;\n",
       "    }\n",
       "</style>\n",
       "<table border=\"1\" class=\"dataframe\">\n",
       "  <thead>\n",
       "    <tr style=\"text-align: right;\">\n",
       "      <th></th>\n",
       "      <th>feature</th>\n",
       "      <th>importance</th>\n",
       "    </tr>\n",
       "  </thead>\n",
       "  <tbody>\n",
       "    <tr>\n",
       "      <th>37100</th>\n",
       "      <td>maxwellhill</td>\n",
       "      <td>0.017395</td>\n",
       "    </tr>\n",
       "    <tr>\n",
       "      <th>24955</th>\n",
       "      <td>ha</td>\n",
       "      <td>0.013859</td>\n",
       "    </tr>\n",
       "    <tr>\n",
       "      <th>65152</th>\n",
       "      <td>year</td>\n",
       "      <td>0.011884</td>\n",
       "    </tr>\n",
       "    <tr>\n",
       "      <th>27799</th>\n",
       "      <td>igeldard</td>\n",
       "      <td>0.005935</td>\n",
       "    </tr>\n",
       "    <tr>\n",
       "      <th>34427</th>\n",
       "      <td>libertatea</td>\n",
       "      <td>0.005863</td>\n",
       "    </tr>\n",
       "    <tr>\n",
       "      <th>15441</th>\n",
       "      <td>davidreiss666</td>\n",
       "      <td>0.005755</td>\n",
       "    </tr>\n",
       "    <tr>\n",
       "      <th>5082</th>\n",
       "      <td>anutensil</td>\n",
       "      <td>0.005658</td>\n",
       "    </tr>\n",
       "    <tr>\n",
       "      <th>13994</th>\n",
       "      <td>countri</td>\n",
       "      <td>0.005620</td>\n",
       "    </tr>\n",
       "    <tr>\n",
       "      <th>63107</th>\n",
       "      <td>wa</td>\n",
       "      <td>0.005421</td>\n",
       "    </tr>\n",
       "    <tr>\n",
       "      <th>57222</th>\n",
       "      <td>syria</td>\n",
       "      <td>0.005105</td>\n",
       "    </tr>\n",
       "  </tbody>\n",
       "</table>\n",
       "</div>"
      ],
      "text/plain": [
       "             feature  importance\n",
       "37100    maxwellhill    0.017395\n",
       "24955             ha    0.013859\n",
       "65152           year    0.011884\n",
       "27799       igeldard    0.005935\n",
       "34427     libertatea    0.005863\n",
       "15441  davidreiss666    0.005755\n",
       "5082       anutensil    0.005658\n",
       "13994        countri    0.005620\n",
       "63107             wa    0.005421\n",
       "57222          syria    0.005105"
      ]
     },
     "execution_count": 108,
     "metadata": {},
     "output_type": "execute_result"
    }
   ],
   "source": [
    "a = 240\n",
    "\n",
    "def vote_cate(x):\n",
    "        if x > 1000: return 1\n",
    "        elif x <= a: return 3\n",
    "        else: return 2\n",
    "    \n",
    "# add new label \n",
    "clean_data[\"up_votes_cat\"] = clean_data.up_votes.apply(vote_cate)\n",
    "clean_data.up_votes_cat.value_counts()\n",
    "\n",
    "#3 :   459703\n",
    "#2 :    18906\n",
    "#1 :    14392\n",
    "\n",
    "# Balance the sample\n",
    "up_3 = clean_data[clean_data.up_votes_cat  == 3]\n",
    "up_2 = clean_data[clean_data.up_votes_cat  == 2]\n",
    "\n",
    "# Downsample to make it balanced\n",
    "up_3 = resample(up_3, \n",
    "          replace=False,    # sample without replacement\n",
    "          n_samples=100000)    # to match minority class\n",
    "\n",
    "# upsample to make it balanced\n",
    "up_2 = resample(up_2, \n",
    "          replace=True,    # sample without replacement\n",
    "          n_samples=100000)    # to match minority class\n",
    "\n",
    "Balanced_data = pd.concat([up_2, up_3])\n",
    "Balanced_data.up_votes_cat.value_counts()\n",
    "\n",
    "Important_fea = training_model(Balanced_data, num_features = 62000, classes=['2', '3'])\n",
    "Important_fea.head(10)"
   ]
  },
  {
   "cell_type": "markdown",
   "metadata": {},
   "source": [
    "### 4.5.5 Summay 2\n",
    "Right now, we can split 97% of dataset by '240 <= up_votes <= 1000' and 'up_votes < 240'. The overall accuracy is 0.844, which is also very good. We can also go back to 'Feature' to have a look at the feature importance(Important_fea) and get a better idea about the words that are captured. While these two category is still not even, but till now, we can get 6.6% titles predicted. So I want to be more specific on the rest 93.4%.\n",
    "\n",
    "### 4.5.6 Split the 'up_votes <= 240"
   ]
  },
  {
   "cell_type": "code",
   "execution_count": 110,
   "metadata": {
    "scrolled": true
   },
   "outputs": [
    {
     "name": "stdout",
     "output_type": "stream",
     "text": [
      "2    281176\n",
      "3    178527\n",
      "1     33298\n",
      "Name: up_votes_cat, dtype: int64\n",
      "The point you have is 2\n",
      "accuracy = 0.551, precision = 0.552, recall = 0.551, f1 = 0.547\n",
      "----------------------------------------\n",
      "2    246327\n",
      "3    213376\n",
      "1     33298\n",
      "Name: up_votes_cat, dtype: int64\n",
      "The point you have is 3\n",
      "accuracy = 0.513, precision = 0.513, recall = 0.513, f1 = 0.512\n",
      "----------------------------------------\n",
      "3    242285\n",
      "2    217418\n",
      "1     33298\n",
      "Name: up_votes_cat, dtype: int64\n",
      "The point you have is 4\n",
      "accuracy = 0.531, precision = 0.530, recall = 0.531, f1 = 0.528\n",
      "----------------------------------------\n",
      "3    266852\n",
      "2    192851\n",
      "1     33298\n",
      "Name: up_votes_cat, dtype: int64\n",
      "The point you have is 5\n",
      "accuracy = 0.547, precision = 0.547, recall = 0.547, f1 = 0.543\n",
      "----------------------------------------\n",
      "3    286980\n",
      "2    172723\n",
      "1     33298\n",
      "Name: up_votes_cat, dtype: int64\n",
      "The point you have is 6\n",
      "accuracy = 0.529, precision = 0.529, recall = 0.529, f1 = 0.529\n",
      "----------------------------------------\n",
      "3    316782\n",
      "2    142921\n",
      "1     33298\n",
      "Name: up_votes_cat, dtype: int64\n",
      "The point you have is 8\n",
      "accuracy = 0.547, precision = 0.547, recall = 0.547, f1 = 0.547\n",
      "----------------------------------------\n",
      "3    337245\n",
      "2    122458\n",
      "1     33298\n",
      "Name: up_votes_cat, dtype: int64\n",
      "The point you have is 10\n",
      "accuracy = 0.581, precision = 0.581, recall = 0.581, f1 = 0.580\n",
      "----------------------------------------\n",
      "3    368466\n",
      "2     91237\n",
      "1     33298\n",
      "Name: up_votes_cat, dtype: int64\n",
      "The point you have is 15\n",
      "accuracy = 0.554, precision = 0.554, recall = 0.554, f1 = 0.552\n",
      "----------------------------------------\n",
      "3    406473\n",
      "2     53230\n",
      "1     33298\n",
      "Name: up_votes_cat, dtype: int64\n",
      "The point you have is 30\n",
      "accuracy = 0.529, precision = 0.529, recall = 0.529, f1 = 0.529\n",
      "----------------------------------------\n",
      "3    418000\n",
      "2     41703\n",
      "1     33298\n",
      "Name: up_votes_cat, dtype: int64\n",
      "The point you have is 40\n",
      "accuracy = 0.571, precision = 0.571, recall = 0.571, f1 = 0.571\n",
      "----------------------------------------\n"
     ]
    }
   ],
   "source": [
    "a_list = [2, 3, 4 , 5, 6, 8, 10, 15, 30, 40]\n",
    "for i in a_list:\n",
    "    find_sweet_point(i, 240)"
   ]
  },
  {
   "cell_type": "code",
   "execution_count": 128,
   "metadata": {},
   "outputs": [
    {
     "name": "stdout",
     "output_type": "stream",
     "text": [
      "LogisticRegression(C=30.0, class_weight='balanced', dual=False,\n",
      "          fit_intercept=True, intercept_scaling=1, max_iter=100,\n",
      "          multi_class='multinomial', n_jobs=-1, penalty='l2',\n",
      "          random_state=40, solver='newton-cg', tol=0.0001, verbose=0,\n",
      "          warm_start=False)\n",
      "accuracy = 0.667, precision = 0.667, recall = 0.667, f1 = 0.667\n"
     ]
    },
    {
     "data": {
      "image/png": "[encoded data removed]",
      "text/plain": [
       "<Figure size 720x576 with 2 Axes>"
      ]
     },
     "metadata": {
      "needs_background": "light"
     },
     "output_type": "display_data"
    },
    {
     "data": {
      "text/html": [
       "<div>\n",
       "<style scoped>\n",
       "    .dataframe tbody tr th:only-of-type {\n",
       "        vertical-align: middle;\n",
       "    }\n",
       "\n",
       "    .dataframe tbody tr th {\n",
       "        vertical-align: top;\n",
       "    }\n",
       "\n",
       "    .dataframe thead th {\n",
       "        text-align: right;\n",
       "    }\n",
       "</style>\n",
       "<table border=\"1\" class=\"dataframe\">\n",
       "  <thead>\n",
       "    <tr style=\"text-align: right;\">\n",
       "      <th></th>\n",
       "      <th>feature</th>\n",
       "      <th>importance</th>\n",
       "    </tr>\n",
       "  </thead>\n",
       "  <tbody>\n",
       "    <tr>\n",
       "      <th>57499</th>\n",
       "      <td>maxwellhill</td>\n",
       "      <td>0.022257</td>\n",
       "    </tr>\n",
       "    <tr>\n",
       "      <th>7690</th>\n",
       "      <td>anutensil</td>\n",
       "      <td>0.011233</td>\n",
       "    </tr>\n",
       "    <tr>\n",
       "      <th>38243</th>\n",
       "      <td>ha</td>\n",
       "      <td>0.010723</td>\n",
       "    </tr>\n",
       "    <tr>\n",
       "      <th>37007</th>\n",
       "      <td>govern</td>\n",
       "      <td>0.005934</td>\n",
       "    </tr>\n",
       "    <tr>\n",
       "      <th>79695</th>\n",
       "      <td>say</td>\n",
       "      <td>0.005804</td>\n",
       "    </tr>\n",
       "    <tr>\n",
       "      <th>42586</th>\n",
       "      <td>igeldard</td>\n",
       "      <td>0.005502</td>\n",
       "    </tr>\n",
       "    <tr>\n",
       "      <th>1</th>\n",
       "      <td>000</td>\n",
       "      <td>0.005364</td>\n",
       "    </tr>\n",
       "    <tr>\n",
       "      <th>21425</th>\n",
       "      <td>countri</td>\n",
       "      <td>0.004645</td>\n",
       "    </tr>\n",
       "    <tr>\n",
       "      <th>95610</th>\n",
       "      <td>us</td>\n",
       "      <td>0.004410</td>\n",
       "    </tr>\n",
       "    <tr>\n",
       "      <th>52295</th>\n",
       "      <td>law</td>\n",
       "      <td>0.004300</td>\n",
       "    </tr>\n",
       "  </tbody>\n",
       "</table>\n",
       "</div>"
      ],
      "text/plain": [
       "           feature  importance\n",
       "57499  maxwellhill    0.022257\n",
       "7690     anutensil    0.011233\n",
       "38243           ha    0.010723\n",
       "37007       govern    0.005934\n",
       "79695          say    0.005804\n",
       "42586     igeldard    0.005502\n",
       "1              000    0.005364\n",
       "21425      countri    0.004645\n",
       "95610           us    0.004410\n",
       "52295          law    0.004300"
      ]
     },
     "execution_count": 128,
     "metadata": {},
     "output_type": "execute_result"
    }
   ],
   "source": [
    "def vote_cate(x):\n",
    "        if x > 1000: return 1\n",
    "        elif x > 240: return 2\n",
    "        elif x > 10: return 3\n",
    "        else: return 4\n",
    "    \n",
    "# add new label \n",
    "clean_data[\"up_votes_cat\"] = clean_data.up_votes.apply(vote_cate)\n",
    "clean_data.up_votes_cat.value_counts()\n",
    "\n",
    "# Balance the sample\n",
    "up_3 = clean_data[clean_data.up_votes_cat  == 3]\n",
    "up_4 = clean_data[clean_data.up_votes_cat  == 4]\n",
    "\n",
    "# Downsample to make it balanced\n",
    "up_3 = resample(up_3, \n",
    "          replace=True,    # sample with replacement\n",
    "          n_samples=170000)    # to match minority class\n",
    "\n",
    "# upsample to make it balanced\n",
    "up_4 = resample(up_4, \n",
    "          replace=False,    # sample with replacement\n",
    "          n_samples=170000)    # to match minority class\n",
    "\n",
    "Balanced_data = pd.concat([up_3, up_4])\n",
    "Balanced_data.up_votes_cat.value_counts()\n",
    "\n",
    "Important_fea = training_model(Balanced_data, num_features = 80000, classes=['3', '4'])\n",
    "Important_fea.head(10)"
   ]
  },
  {
   "cell_type": "markdown",
   "metadata": {},
   "source": [
    "### 4.5.7 Summay 3\n",
    "Right now, we can split 97% of dataset by '10 <= up_votes <= 240' and 'up_votes < 10'. The overall accuracy is 0.667, which is not very good. I'd prefer get more specific groups here rather than an accuracte model. So I decided to take it as a concideration. If you need a good model, you need to try some other models or add more information.\n",
    "\n",
    "We can also go back to 'Important_fea' to have a look at the feature importance and get a better idea about the words that are captured. While these two category is even now, so I am planing to stop here. Of course I can keep going to test if I can split it more specificly. But I think it's enough right now.\n",
    "\n",
    "\n",
    "* 1: up_votes > 1000                 (14392)\n",
    "* 2: 240 <= up_votes <= 1000         (18308)\n",
    "* 3: 10 <= up_votes < 240            (122458)\n",
    "* 4: up_votes < 10                   (337245)\n",
    "\n",
    "Number in the bracket is the number of samples. I not only think about the sample size but also the usage of these bucket. These categories can be used to better understand each topic. For example, learning which one is going to have a large number of up_votes, which one is going to have a low number of up_votes, giving insights for naming."
   ]
  },
  {
   "cell_type": "markdown",
   "metadata": {},
   "source": [
    "# 5. Extension(Word2vec)\n",
    "I decided to use word2vec for embedding, compared to my method."
   ]
  },
  {
   "cell_type": "code",
   "execution_count": 33,
   "metadata": {},
   "outputs": [],
   "source": [
    "import gensim\n",
    "\n",
    "word2vec_path = \"/GoogleNews-vectors-negative300.bin.gz\"\n",
    "word2vec = gensim.models.KeyedVectors.load_word2vec_format(word2vec_path, binary=True)"
   ]
  },
  {
   "cell_type": "code",
   "execution_count": 34,
   "metadata": {},
   "outputs": [],
   "source": [
    "def get_average_word2vec(tokens_list, vector, generate_missing=False, k=300):\n",
    "    if len(tokens_list)<1:\n",
    "        return np.zeros(k)\n",
    "    if generate_missing:\n",
    "        vectorized = [vector[word] if word in vector else np.random.rand(k) for word in tokens_list]\n",
    "    else:\n",
    "        vectorized = [vector[word] if word in vector else np.zeros(k) for word in tokens_list]\n",
    "    length = len(vectorized)\n",
    "    summed = np.sum(vectorized, axis=0)\n",
    "    averaged = np.divide(summed, length)\n",
    "    return averaged\n",
    "\n",
    "def get_word2vec_embeddings(vectors, clean_questions, generate_missing=False):\n",
    "    embeddings = clean_questions['title3'].apply(lambda x: get_average_word2vec(x, vectors, \n",
    "                                                                                generate_missing=generate_missing))\n",
    "    return list(embeddings)"
   ]
  },
  {
   "cell_type": "code",
   "execution_count": 71,
   "metadata": {},
   "outputs": [],
   "source": [
    "# Balance the sample\n",
    "up_3 = clean_data[clean_data.up_votes_cat  == 3]\n",
    "up_4 = clean_data[clean_data.up_votes_cat  == 4]\n",
    "up_1 = clean_data[clean_data.up_votes_cat  == 1]\n",
    "up_2 = clean_data[clean_data.up_votes_cat  == 2]\n",
    "\n",
    "# Downsample to make it balanced\n",
    "up_3 = resample(up_3, \n",
    "          replace=False,    # sample without replacement\n",
    "          n_samples=20000)    # to match minority class\n",
    "\n",
    "# Downsample to make it balanced\n",
    "up_4 = resample(up_4, \n",
    "          replace=False,    # sample without replacement\n",
    "          n_samples=20000)    # to match minority class\n",
    "\n",
    "# Upsample to make it balanced\n",
    "up_1 = resample(up_1, \n",
    "          replace=True,    # sample with replacement\n",
    "          n_samples=20000)    # to match minority class\n",
    "\n",
    "# Upsample to make it balanced\n",
    "up_2 = resample(up_2, \n",
    "          replace=True,    # sample without replacement\n",
    "          n_samples=20000)    # to match minority class\n",
    "\n",
    "\n",
    "Balanced_data = pd.concat([up_1, up_2, up_3, up_4])\n",
    "Balanced_data.up_votes_cat.value_counts()\n",
    "\n",
    "\n",
    "Balanced_data.up_votes_cat.value_counts()\n",
    "Balanced_data[\"title3\"] = Balanced_data.apply(lambda x : ' '.join(x[\"title2\"]) + ' ' + x[\"author\"], axis = 1)"
   ]
  },
  {
   "cell_type": "code",
   "execution_count": 73,
   "metadata": {},
   "outputs": [],
   "source": [
    "embeddings = get_word2vec_embeddings(word2vec, Balanced_data)\n",
    "list_labels = Balanced_data['up_votes_cat']\n",
    "\n",
    "X_train_word2vec, X_test_word2vec, y_train_word2vec, y_test_word2vec = train_test_split(embeddings, list_labels, \n",
    "                                                                                        test_size=0.2, random_state=40)"
   ]
  },
  {
   "cell_type": "code",
   "execution_count": 77,
   "metadata": {},
   "outputs": [
    {
     "name": "stdout",
     "output_type": "stream",
     "text": [
      "LogisticRegression(C=30.0, class_weight='balanced', dual=False,\n",
      "          fit_intercept=True, intercept_scaling=1, max_iter=100,\n",
      "          multi_class='multinomial', n_jobs=-1, penalty='l2',\n",
      "          random_state=40, solver='newton-cg', tol=0.0001, verbose=0,\n",
      "          warm_start=False)\n",
      "accuracy = 0.538, precision = 0.526, recall = 0.538, f1 = 0.530\n"
     ]
    },
    {
     "data": {
      "image/png": "[encoded data removed]",
      "text/plain": [
       "<Figure size 720x576 with 2 Axes>"
      ]
     },
     "metadata": {
      "needs_background": "light"
     },
     "output_type": "display_data"
    },
    {
     "data": {
      "text/html": [
       "<div>\n",
       "<style scoped>\n",
       "    .dataframe tbody tr th:only-of-type {\n",
       "        vertical-align: middle;\n",
       "    }\n",
       "\n",
       "    .dataframe tbody tr th {\n",
       "        vertical-align: top;\n",
       "    }\n",
       "\n",
       "    .dataframe thead th {\n",
       "        text-align: right;\n",
       "    }\n",
       "</style>\n",
       "<table border=\"1\" class=\"dataframe\">\n",
       "  <thead>\n",
       "    <tr style=\"text-align: right;\">\n",
       "      <th></th>\n",
       "      <th>feature</th>\n",
       "      <th>importance</th>\n",
       "    </tr>\n",
       "  </thead>\n",
       "  <tbody>\n",
       "    <tr>\n",
       "      <th>17690</th>\n",
       "      <td>ha</td>\n",
       "      <td>0.008037</td>\n",
       "    </tr>\n",
       "    <tr>\n",
       "      <th>25983</th>\n",
       "      <td>maxwellhill</td>\n",
       "      <td>0.007618</td>\n",
       "    </tr>\n",
       "    <tr>\n",
       "      <th>3658</th>\n",
       "      <td>anutensil</td>\n",
       "      <td>0.007542</td>\n",
       "    </tr>\n",
       "    <tr>\n",
       "      <th>45623</th>\n",
       "      <td>year</td>\n",
       "      <td>0.006036</td>\n",
       "    </tr>\n",
       "    <tr>\n",
       "      <th>38078</th>\n",
       "      <td>snowden</td>\n",
       "      <td>0.005143</td>\n",
       "    </tr>\n",
       "  </tbody>\n",
       "</table>\n",
       "</div>"
      ],
      "text/plain": [
       "           feature  importance\n",
       "17690           ha    0.008037\n",
       "25983  maxwellhill    0.007618\n",
       "3658     anutensil    0.007542\n",
       "45623         year    0.006036\n",
       "38078      snowden    0.005143"
      ]
     },
     "execution_count": 77,
     "metadata": {},
     "output_type": "execute_result"
    }
   ],
   "source": [
    "Important_fea = training_model(Balanced_data, num_features = 58000, classes=['1', '2', '3', '4'])\n",
    "Important_fea.head()"
   ]
  },
  {
   "cell_type": "code",
   "execution_count": 78,
   "metadata": {},
   "outputs": [
    {
     "name": "stdout",
     "output_type": "stream",
     "text": [
      "LogisticRegression(C=30.0, class_weight='balanced', dual=False,\n",
      "          fit_intercept=True, intercept_scaling=1, max_iter=100,\n",
      "          multi_class='multinomial', n_jobs=-1, penalty='l2',\n",
      "          random_state=40, solver='newton-cg', tol=0.0001, verbose=0,\n",
      "          warm_start=False)\n",
      "accuracy = 0.289, precision = 0.286, recall = 0.289, f1 = 0.275\n"
     ]
    },
    {
     "data": {
      "image/png": "[encoded data removed]",
      "text/plain": [
       "<Figure size 720x576 with 2 Axes>"
      ]
     },
     "metadata": {
      "needs_background": "light"
     },
     "output_type": "display_data"
    }
   ],
   "source": [
    "# Train\n",
    "clf = LogisticRegression(C=30.0, class_weight='balanced', solver='newton-cg', \n",
    "                        multi_class='multinomial', n_jobs=-1, random_state=40)\n",
    "print(clf)\n",
    "clf.fit(X_train_word2vec, y_train_word2vec)\n",
    "y_predicted_tf = clf.predict(X_test_word2vec)\n",
    "accuracy, precision, recall, f1 = get_metrics(y_test_word2vec, y_predicted_tf)\n",
    "print(\"accuracy = %.3f, precision = %.3f, recall = %.3f, f1 = %.3f\" % (accuracy, precision, recall, f1))\n",
    "\n",
    "cm = confusion_matrix(y_test_word2vec, y_predicted_tf)\n",
    "fig = plt.figure(figsize=(10, 8))\n",
    "plot = plot_confusion_matrix(cm, classes=['1', '2', '3', '4'], normalize=False, title='Confusion matrix')\n",
    "plt.show()"
   ]
  },
  {
   "cell_type": "markdown",
   "metadata": {},
   "source": [
    "## 5.1 Summary\n",
    "\n",
    "As we can see below, the model with word2vec didn't perform better than my method. So I would perfer using TF-IDF and random forest for feature selection."
   ]
  }
 ],
 "metadata": {
  "kernelspec": {
   "display_name": "Python 3",
   "language": "python",
   "name": "python3"
  },
  "language_info": {
   "codemirror_mode": {
    "name": "ipython",
    "version": 3
   },
   "file_extension": ".py",
   "mimetype": "text/x-python",
   "name": "python",
   "nbconvert_exporter": "python",
   "pygments_lexer": "ipython3",
   "version": "3.6.8"
  }
 },
 "nbformat": 4,
 "nbformat_minor": 2
}
