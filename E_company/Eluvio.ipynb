{
 "cells": [
  {
   "cell_type": "markdown",
   "metadata": {},
   "source": [
    "# Brief Introduction of this project\n",
    "\n",
    "This project is aming to use NLP technologies to explore the dataset and find out what we can do to get insights from it. I am going to focus on the predictive power here. But I showed a function to extract the feature importance. So it can also be use for analysis purpose. But I am not going to follow this part.\n",
    "\n",
    "I have two topics here:\n",
    "    1. Using 'title' and 'author' to predict if this context is over 18 or not;\n",
    "    2. Based on the 'title' and 'author', find a best way to bucketize the 'up_votes' and predict each category.\n",
    "\n",
    "The progress of analysis:\n",
    "\n",
    "1. Exploritary Data Analysis and Topic Decision\n",
    "2. Data Processing\n",
    "    * Correlation Check('author')\n",
    "    * Remove Punctuation\n",
    "    * Words Tokenization\n",
    "    * Words Stemming \n",
    "3. Modelling\n",
    "    * Balance dataset\n",
    "    * Enter Embeddings and Stop words Removing\n",
    "    * Dimension Reduction\n",
    "    * Model fitting and evaluating\n",
    "    \n",
    "I checked the length of each title and found the length is less than 66 and most of them are only 20. So I didn't plan to use word to vector method or RNN. For the first topic, I just used 'trunctedSVD' method for feature recuction and Logistic Regression to predict the 'ovre_18'. The reason why I used this method is because the sample size for positive cases is very small. To aviod overfitting, I chose to reduce the dimension first, then train a simple model. The result is wonderful, seeming like the words in the title and author somehow reflect the category information.\n",
    "\n",
    "While the second topic is going to be more complicated. Because I need to bucketize the 'up_votes' and make the bucket reasonable and seperable. So I changed a little bit on the Modelling process.\n",
    "\n",
    "3. Modelling  \n",
    "    1. Balance dataset;  \n",
    "    2. Set initial split point(binary split);  \n",
    "    3. Enter Embeddings and Remove Stop words;  \n",
    "    4. Select Model;  \n",
    "    5. Change initial split and monitor the performance;  \n",
    "    6. Fix initial split and tune model parameter;  \n",
    "    7. Choose one category to detailly split and repeat (B)(D)(E).  \n",
    "\n",
    "I used this method because the 'up_votes' is extremly right skewed and can't easily change it to normal. Besides, it's easy to find the sweet point with binary split. While you need to know that because we use a subset to create more categories, the performance of the sub_classification model is affected by the upper_classification model.\n",
    "    "
   ]
  },
  {
   "cell_type": "code",
   "execution_count": 1,
   "metadata": {},
   "outputs": [
    {
     "name": "stderr",
     "output_type": "stream",
     "text": [
      "Using TensorFlow backend.\n"
     ]
    }
   ],
   "source": [
    "import pandas as pd\n",
    "import nltk\n",
    "import numpy as np\n",
    "import re\n",
    "import codecs\n",
    "import matplotlib.pyplot as plt\n",
    "import seaborn as sns"
   ]
  },
  {
   "cell_type": "code",
   "execution_count": 2,
   "metadata": {},
   "outputs": [],
   "source": [
    "data = pd.read_csv(\"/Users/gaozhiping/Desktop/Interviews/Eluvio/Eluvio_DS_Challenge.csv\")"
   ]
  },
  {
   "cell_type": "markdown",
   "metadata": {},
   "source": [
    "# 1. Exploritary Data Analysis and Topic Decision"
   ]
  },
  {
   "cell_type": "code",
   "execution_count": 3,
   "metadata": {},
   "outputs": [
    {
     "data": {
      "text/html": [
       "<div>\n",
       "<style scoped>\n",
       "    .dataframe tbody tr th:only-of-type {\n",
       "        vertical-align: middle;\n",
       "    }\n",
       "\n",
       "    .dataframe tbody tr th {\n",
       "        vertical-align: top;\n",
       "    }\n",
       "\n",
       "    .dataframe thead th {\n",
       "        text-align: right;\n",
       "    }\n",
       "</style>\n",
       "<table border=\"1\" class=\"dataframe\">\n",
       "  <thead>\n",
       "    <tr style=\"text-align: right;\">\n",
       "      <th></th>\n",
       "      <th>time_created</th>\n",
       "      <th>date_created</th>\n",
       "      <th>up_votes</th>\n",
       "      <th>down_votes</th>\n",
       "      <th>title</th>\n",
       "      <th>over_18</th>\n",
       "      <th>author</th>\n",
       "      <th>category</th>\n",
       "    </tr>\n",
       "  </thead>\n",
       "  <tbody>\n",
       "    <tr>\n",
       "      <th>0</th>\n",
       "      <td>1201232046</td>\n",
       "      <td>2008-01-25</td>\n",
       "      <td>3</td>\n",
       "      <td>0</td>\n",
       "      <td>Scores killed in Pakistan clashes</td>\n",
       "      <td>False</td>\n",
       "      <td>polar</td>\n",
       "      <td>worldnews</td>\n",
       "    </tr>\n",
       "    <tr>\n",
       "      <th>1</th>\n",
       "      <td>1201232075</td>\n",
       "      <td>2008-01-25</td>\n",
       "      <td>2</td>\n",
       "      <td>0</td>\n",
       "      <td>Japan resumes refuelling mission</td>\n",
       "      <td>False</td>\n",
       "      <td>polar</td>\n",
       "      <td>worldnews</td>\n",
       "    </tr>\n",
       "    <tr>\n",
       "      <th>2</th>\n",
       "      <td>1201232523</td>\n",
       "      <td>2008-01-25</td>\n",
       "      <td>3</td>\n",
       "      <td>0</td>\n",
       "      <td>US presses Egypt on Gaza border</td>\n",
       "      <td>False</td>\n",
       "      <td>polar</td>\n",
       "      <td>worldnews</td>\n",
       "    </tr>\n",
       "    <tr>\n",
       "      <th>3</th>\n",
       "      <td>1201233290</td>\n",
       "      <td>2008-01-25</td>\n",
       "      <td>1</td>\n",
       "      <td>0</td>\n",
       "      <td>Jump-start economy: Give health care to all</td>\n",
       "      <td>False</td>\n",
       "      <td>fadi420</td>\n",
       "      <td>worldnews</td>\n",
       "    </tr>\n",
       "    <tr>\n",
       "      <th>4</th>\n",
       "      <td>1201274720</td>\n",
       "      <td>2008-01-25</td>\n",
       "      <td>4</td>\n",
       "      <td>0</td>\n",
       "      <td>Council of Europe bashes EU&amp;UN terror blacklist</td>\n",
       "      <td>False</td>\n",
       "      <td>mhermans</td>\n",
       "      <td>worldnews</td>\n",
       "    </tr>\n",
       "  </tbody>\n",
       "</table>\n",
       "</div>"
      ],
      "text/plain": [
       "   time_created date_created  up_votes  down_votes  \\\n",
       "0    1201232046   2008-01-25         3           0   \n",
       "1    1201232075   2008-01-25         2           0   \n",
       "2    1201232523   2008-01-25         3           0   \n",
       "3    1201233290   2008-01-25         1           0   \n",
       "4    1201274720   2008-01-25         4           0   \n",
       "\n",
       "                                             title  over_18    author  \\\n",
       "0                Scores killed in Pakistan clashes    False     polar   \n",
       "1                 Japan resumes refuelling mission    False     polar   \n",
       "2                  US presses Egypt on Gaza border    False     polar   \n",
       "3     Jump-start economy: Give health care to all     False   fadi420   \n",
       "4  Council of Europe bashes EU&UN terror blacklist    False  mhermans   \n",
       "\n",
       "    category  \n",
       "0  worldnews  \n",
       "1  worldnews  \n",
       "2  worldnews  \n",
       "3  worldnews  \n",
       "4  worldnews  "
      ]
     },
     "execution_count": 3,
     "metadata": {},
     "output_type": "execute_result"
    }
   ],
   "source": [
    "data.head(5)"
   ]
  },
  {
   "cell_type": "code",
   "execution_count": 4,
   "metadata": {},
   "outputs": [
    {
     "data": {
      "text/html": [
       "<div>\n",
       "<style scoped>\n",
       "    .dataframe tbody tr th:only-of-type {\n",
       "        vertical-align: middle;\n",
       "    }\n",
       "\n",
       "    .dataframe tbody tr th {\n",
       "        vertical-align: top;\n",
       "    }\n",
       "\n",
       "    .dataframe thead th {\n",
       "        text-align: right;\n",
       "    }\n",
       "</style>\n",
       "<table border=\"1\" class=\"dataframe\">\n",
       "  <thead>\n",
       "    <tr style=\"text-align: right;\">\n",
       "      <th></th>\n",
       "      <th>time_created</th>\n",
       "      <th>up_votes</th>\n",
       "      <th>down_votes</th>\n",
       "    </tr>\n",
       "  </thead>\n",
       "  <tbody>\n",
       "    <tr>\n",
       "      <th>count</th>\n",
       "      <td>5.092360e+05</td>\n",
       "      <td>509236.000000</td>\n",
       "      <td>509236.0</td>\n",
       "    </tr>\n",
       "    <tr>\n",
       "      <th>mean</th>\n",
       "      <td>1.380240e+09</td>\n",
       "      <td>112.236283</td>\n",
       "      <td>0.0</td>\n",
       "    </tr>\n",
       "    <tr>\n",
       "      <th>std</th>\n",
       "      <td>7.090436e+07</td>\n",
       "      <td>541.694675</td>\n",
       "      <td>0.0</td>\n",
       "    </tr>\n",
       "    <tr>\n",
       "      <th>min</th>\n",
       "      <td>1.201232e+09</td>\n",
       "      <td>0.000000</td>\n",
       "      <td>0.0</td>\n",
       "    </tr>\n",
       "    <tr>\n",
       "      <th>25%</th>\n",
       "      <td>1.341585e+09</td>\n",
       "      <td>1.000000</td>\n",
       "      <td>0.0</td>\n",
       "    </tr>\n",
       "    <tr>\n",
       "      <th>50%</th>\n",
       "      <td>1.392909e+09</td>\n",
       "      <td>5.000000</td>\n",
       "      <td>0.0</td>\n",
       "    </tr>\n",
       "    <tr>\n",
       "      <th>75%</th>\n",
       "      <td>1.436527e+09</td>\n",
       "      <td>16.000000</td>\n",
       "      <td>0.0</td>\n",
       "    </tr>\n",
       "    <tr>\n",
       "      <th>max</th>\n",
       "      <td>1.479817e+09</td>\n",
       "      <td>21253.000000</td>\n",
       "      <td>0.0</td>\n",
       "    </tr>\n",
       "  </tbody>\n",
       "</table>\n",
       "</div>"
      ],
      "text/plain": [
       "       time_created       up_votes  down_votes\n",
       "count  5.092360e+05  509236.000000    509236.0\n",
       "mean   1.380240e+09     112.236283         0.0\n",
       "std    7.090436e+07     541.694675         0.0\n",
       "min    1.201232e+09       0.000000         0.0\n",
       "25%    1.341585e+09       1.000000         0.0\n",
       "50%    1.392909e+09       5.000000         0.0\n",
       "75%    1.436527e+09      16.000000         0.0\n",
       "max    1.479817e+09   21253.000000         0.0"
      ]
     },
     "execution_count": 4,
     "metadata": {},
     "output_type": "execute_result"
    }
   ],
   "source": [
    "data.describe()"
   ]
  },
  {
   "cell_type": "code",
   "execution_count": 5,
   "metadata": {
    "scrolled": true
   },
   "outputs": [
    {
     "name": "stdout",
     "output_type": "stream",
     "text": [
      "<class 'pandas.core.frame.DataFrame'>\n",
      "RangeIndex: 509236 entries, 0 to 509235\n",
      "Data columns (total 8 columns):\n",
      "time_created    509236 non-null int64\n",
      "date_created    509236 non-null object\n",
      "up_votes        509236 non-null int64\n",
      "down_votes      509236 non-null int64\n",
      "title           509236 non-null object\n",
      "over_18         509236 non-null bool\n",
      "author          509236 non-null object\n",
      "category        509236 non-null object\n",
      "dtypes: bool(1), int64(3), object(4)\n",
      "memory usage: 27.7+ MB\n"
     ]
    }
   ],
   "source": [
    "# Checking data type and missing value\n",
    "data.info() "
   ]
  },
  {
   "cell_type": "markdown",
   "metadata": {},
   "source": [
    "There is no missing value."
   ]
  },
  {
   "cell_type": "code",
   "execution_count": 6,
   "metadata": {},
   "outputs": [
    {
     "name": "stdout",
     "output_type": "stream",
     "text": [
      "Number of unique title is 500720.\n",
      "Number of unique up_votes is 5782.\n",
      "Number of unique down_votes is 1.\n",
      "Number of unique over_18 is 2.\n",
      "Number of unique author is 85838.\n",
      "Number of unique category is 1.\n",
      "The earlest time_created is 1201232046.\n",
      "The latest time_created is 1479817346.\n",
      "The earlest date_created is 2008-01-25.\n",
      "The latest date_created is 2016-11-22.\n"
     ]
    }
   ],
   "source": [
    "print (\"Number of unique title is \"+ str(len(data.title.unique())) + \".\")\n",
    "print (\"Number of unique up_votes is \"+ str(len(data.up_votes.unique())) + \".\")\n",
    "print (\"Number of unique down_votes is \"+ str(len(data.down_votes.unique())) + \".\")\n",
    "print (\"Number of unique over_18 is \"+ str(len(data.over_18.unique())) + \".\")\n",
    "print (\"Number of unique author is \"+ str(len(data.author.unique())) + \".\")\n",
    "print (\"Number of unique category is \"+ str(len(data.category.unique())) + \".\")\n",
    "print (\"The earlest time_created is \"+ str(data.time_created.min()) + \".\")\n",
    "print (\"The latest time_created is \"+ str(data.time_created.max()) + \".\")\n",
    "print (\"The earlest date_created is \"+ str(data.date_created.min()) + \".\")\n",
    "print (\"The latest date_created is \"+ str(data.date_created.max()) + \".\")"
   ]
  },
  {
   "cell_type": "markdown",
   "metadata": {},
   "source": [
    "As we can see, the down_votes and category have only one single value individually. So this value might not be useful for machine learning. Since this challenge is focusing on Natural Language Processing, the time_created and date_created are less valuable than the rest."
   ]
  },
  {
   "cell_type": "code",
   "execution_count": 7,
   "metadata": {},
   "outputs": [
    {
     "name": "stdout",
     "output_type": "stream",
     "text": [
      "The number of sample is 509236, and the number of unique title is 500720.\n",
      "The number of duplicated sample is 6.\n"
     ]
    }
   ],
   "source": [
    "print (\"The number of sample is %s, and the number of unique title is %s.\" % (data.title.count(), len(data.title.unique())))\n",
    "print (\"The number of duplicated sample is %s.\" % data.duplicated().sum())"
   ]
  },
  {
   "cell_type": "markdown",
   "metadata": {},
   "source": [
    "The number of unique title is less than the number of sample. However, we only have 6 duplicates. I would like to figure out the the reason behind this first.\n"
   ]
  },
  {
   "cell_type": "code",
   "execution_count": 8,
   "metadata": {},
   "outputs": [
    {
     "data": {
      "text/html": [
       "<div>\n",
       "<style scoped>\n",
       "    .dataframe tbody tr th:only-of-type {\n",
       "        vertical-align: middle;\n",
       "    }\n",
       "\n",
       "    .dataframe tbody tr th {\n",
       "        vertical-align: top;\n",
       "    }\n",
       "\n",
       "    .dataframe thead th {\n",
       "        text-align: right;\n",
       "    }\n",
       "</style>\n",
       "<table border=\"1\" class=\"dataframe\">\n",
       "  <thead>\n",
       "    <tr style=\"text-align: right;\">\n",
       "      <th></th>\n",
       "      <th>time_created</th>\n",
       "      <th>up_votes</th>\n",
       "      <th>down_votes</th>\n",
       "    </tr>\n",
       "  </thead>\n",
       "  <tbody>\n",
       "    <tr>\n",
       "      <th>count</th>\n",
       "      <td>5.092300e+05</td>\n",
       "      <td>509230.000000</td>\n",
       "      <td>509230.0</td>\n",
       "    </tr>\n",
       "    <tr>\n",
       "      <th>mean</th>\n",
       "      <td>1.380242e+09</td>\n",
       "      <td>112.237606</td>\n",
       "      <td>0.0</td>\n",
       "    </tr>\n",
       "    <tr>\n",
       "      <th>std</th>\n",
       "      <td>7.090268e+07</td>\n",
       "      <td>541.697730</td>\n",
       "      <td>0.0</td>\n",
       "    </tr>\n",
       "    <tr>\n",
       "      <th>min</th>\n",
       "      <td>1.201232e+09</td>\n",
       "      <td>0.000000</td>\n",
       "      <td>0.0</td>\n",
       "    </tr>\n",
       "    <tr>\n",
       "      <th>25%</th>\n",
       "      <td>1.341587e+09</td>\n",
       "      <td>1.000000</td>\n",
       "      <td>0.0</td>\n",
       "    </tr>\n",
       "    <tr>\n",
       "      <th>50%</th>\n",
       "      <td>1.392909e+09</td>\n",
       "      <td>5.000000</td>\n",
       "      <td>0.0</td>\n",
       "    </tr>\n",
       "    <tr>\n",
       "      <th>75%</th>\n",
       "      <td>1.436527e+09</td>\n",
       "      <td>16.000000</td>\n",
       "      <td>0.0</td>\n",
       "    </tr>\n",
       "    <tr>\n",
       "      <th>max</th>\n",
       "      <td>1.479817e+09</td>\n",
       "      <td>21253.000000</td>\n",
       "      <td>0.0</td>\n",
       "    </tr>\n",
       "  </tbody>\n",
       "</table>\n",
       "</div>"
      ],
      "text/plain": [
       "       time_created       up_votes  down_votes\n",
       "count  5.092300e+05  509230.000000    509230.0\n",
       "mean   1.380242e+09     112.237606         0.0\n",
       "std    7.090268e+07     541.697730         0.0\n",
       "min    1.201232e+09       0.000000         0.0\n",
       "25%    1.341587e+09       1.000000         0.0\n",
       "50%    1.392909e+09       5.000000         0.0\n",
       "75%    1.436527e+09      16.000000         0.0\n",
       "max    1.479817e+09   21253.000000         0.0"
      ]
     },
     "execution_count": 8,
     "metadata": {},
     "output_type": "execute_result"
    }
   ],
   "source": [
    "unique_df = data.drop_duplicates().reset_index()\n",
    "unique_df = unique_df.drop(\"index\",axis=1)\n",
    "unique_df.describe()"
   ]
  },
  {
   "cell_type": "code",
   "execution_count": 9,
   "metadata": {},
   "outputs": [
    {
     "name": "stdout",
     "output_type": "stream",
     "text": [
      "The number of duplicated titles is 7719.\n"
     ]
    },
    {
     "data": {
      "text/html": [
       "<div>\n",
       "<style scoped>\n",
       "    .dataframe tbody tr th:only-of-type {\n",
       "        vertical-align: middle;\n",
       "    }\n",
       "\n",
       "    .dataframe tbody tr th {\n",
       "        vertical-align: top;\n",
       "    }\n",
       "\n",
       "    .dataframe thead th {\n",
       "        text-align: right;\n",
       "    }\n",
       "</style>\n",
       "<table border=\"1\" class=\"dataframe\">\n",
       "  <thead>\n",
       "    <tr style=\"text-align: right;\">\n",
       "      <th></th>\n",
       "      <th>title</th>\n",
       "      <th>time_created</th>\n",
       "      <th>date_created</th>\n",
       "      <th>up_votes</th>\n",
       "      <th>down_votes</th>\n",
       "      <th>over_18</th>\n",
       "      <th>author</th>\n",
       "      <th>category</th>\n",
       "    </tr>\n",
       "  </thead>\n",
       "  <tbody>\n",
       "    <tr>\n",
       "      <th>0</th>\n",
       "      <td>10 deaths  on stranded Myanmar migrant boat</td>\n",
       "      <td>1431605634</td>\n",
       "      <td>2015-05-14</td>\n",
       "      <td>0</td>\n",
       "      <td>0</td>\n",
       "      <td>False</td>\n",
       "      <td>jackosan</td>\n",
       "      <td>worldnews</td>\n",
       "    </tr>\n",
       "    <tr>\n",
       "      <th>1</th>\n",
       "      <td>10 deaths  on stranded Myanmar migrant boat</td>\n",
       "      <td>1431619643</td>\n",
       "      <td>2015-05-14</td>\n",
       "      <td>0</td>\n",
       "      <td>0</td>\n",
       "      <td>False</td>\n",
       "      <td>b0red</td>\n",
       "      <td>worldnews</td>\n",
       "    </tr>\n",
       "    <tr>\n",
       "      <th>2</th>\n",
       "      <td>Al-Sadr calls off fighting amid airstrikes, c...</td>\n",
       "      <td>1206885758</td>\n",
       "      <td>2008-03-30</td>\n",
       "      <td>2</td>\n",
       "      <td>0</td>\n",
       "      <td>False</td>\n",
       "      <td>PaperLess</td>\n",
       "      <td>worldnews</td>\n",
       "    </tr>\n",
       "    <tr>\n",
       "      <th>3</th>\n",
       "      <td>Al-Sadr calls off fighting amid airstrikes, c...</td>\n",
       "      <td>1206907231</td>\n",
       "      <td>2008-03-30</td>\n",
       "      <td>0</td>\n",
       "      <td>0</td>\n",
       "      <td>False</td>\n",
       "      <td>greenascanbe</td>\n",
       "      <td>worldnews</td>\n",
       "    </tr>\n",
       "    <tr>\n",
       "      <th>4</th>\n",
       "      <td>Allahu Akbar  phrase hijacked by extremists a...</td>\n",
       "      <td>1463032122</td>\n",
       "      <td>2016-05-12</td>\n",
       "      <td>4</td>\n",
       "      <td>0</td>\n",
       "      <td>False</td>\n",
       "      <td>Neeraj10596</td>\n",
       "      <td>worldnews</td>\n",
       "    </tr>\n",
       "    <tr>\n",
       "      <th>5</th>\n",
       "      <td>Allahu Akbar  phrase hijacked by extremists a...</td>\n",
       "      <td>1463036531</td>\n",
       "      <td>2016-05-12</td>\n",
       "      <td>0</td>\n",
       "      <td>0</td>\n",
       "      <td>False</td>\n",
       "      <td>Anddynee</td>\n",
       "      <td>worldnews</td>\n",
       "    </tr>\n",
       "  </tbody>\n",
       "</table>\n",
       "</div>"
      ],
      "text/plain": [
       "                                               title  time_created  \\\n",
       "0        10 deaths  on stranded Myanmar migrant boat    1431605634   \n",
       "1        10 deaths  on stranded Myanmar migrant boat    1431619643   \n",
       "2   Al-Sadr calls off fighting amid airstrikes, c...    1206885758   \n",
       "3   Al-Sadr calls off fighting amid airstrikes, c...    1206907231   \n",
       "4   Allahu Akbar  phrase hijacked by extremists a...    1463032122   \n",
       "5   Allahu Akbar  phrase hijacked by extremists a...    1463036531   \n",
       "\n",
       "  date_created  up_votes  down_votes  over_18        author   category  \n",
       "0   2015-05-14         0           0    False      jackosan  worldnews  \n",
       "1   2015-05-14         0           0    False         b0red  worldnews  \n",
       "2   2008-03-30         2           0    False     PaperLess  worldnews  \n",
       "3   2008-03-30         0           0    False  greenascanbe  worldnews  \n",
       "4   2016-05-12         4           0    False   Neeraj10596  worldnews  \n",
       "5   2016-05-12         0           0    False      Anddynee  worldnews  "
      ]
     },
     "execution_count": 9,
     "metadata": {},
     "output_type": "execute_result"
    }
   ],
   "source": [
    "# Look at the duplicates\n",
    "title_count = unique_df.groupby(\"title\").count().reset_index()\n",
    "duplicates = title_count[title_count.category > 1].title\n",
    "\n",
    "dupli_titles = pd.merge(left = duplicates, right = unique_df, how = \"inner\", on = \"title\")\n",
    "print (\"The number of duplicated titles is %s.\" % len(dupli_titles.title.unique()))\n",
    "dupli_titles.head(6)"
   ]
  },
  {
   "cell_type": "markdown",
   "metadata": {},
   "source": [
    "I found that the duplicated titles have similar created time but different up_votes and authors. If I have a chance to verify the data accuracy, it would be better. At this time, I am not going to use these samples to analyze and model. So I dirrect removed all of them."
   ]
  },
  {
   "cell_type": "code",
   "execution_count": 88,
   "metadata": {
    "scrolled": true
   },
   "outputs": [
    {
     "name": "stdout",
     "output_type": "stream",
     "text": [
      "The number of unique titles is 493001.\n",
      "The data has 493001 rows and 4 columns\n"
     ]
    },
    {
     "data": {
      "text/plain": [
       "False    492684\n",
       "True        317\n",
       "Name: over_18, dtype: int64"
      ]
     },
     "execution_count": 88,
     "metadata": {},
     "output_type": "execute_result"
    }
   ],
   "source": [
    "# Deal with the duplicates\n",
    "duplicates = pd.DataFrame(duplicates)\n",
    "duplicates[\"dup\"] = 1\n",
    "dupli_titles_all = unique_df.merge(duplicates, how = \"outer\", left_on = \"title\", right_on = \"title\")\n",
    "print (\"The number of unique titles is %s.\" % len(dupli_titles_all[dupli_titles_all.dup != 1].title.unique()))\n",
    "\n",
    "# Select the variables\n",
    "clean_data = dupli_titles_all[dupli_titles_all.dup != 1][[\"title\", \"up_votes\",\"over_18\",\"author\"]]\n",
    "print (\"The data has %s rows and %s columns\" % (clean_data.shape[0], clean_data.shape[1]))\n",
    "clean_data.over_18.value_counts()"
   ]
  },
  {
   "cell_type": "markdown",
   "metadata": {},
   "source": [
    "We can see that the sample is seviously imbalanced, which could cause problems in classification model.`"
   ]
  },
  {
   "cell_type": "code",
   "execution_count": 11,
   "metadata": {},
   "outputs": [
    {
     "data": {
      "image/png": "[encoded data removed]",
      "text/plain": [
       "<Figure size 864x216 with 2 Axes>"
      ]
     },
     "metadata": {
      "needs_background": "light"
     },
     "output_type": "display_data"
    }
   ],
   "source": [
    "# Plot the distribution of up_votes\n",
    "f, axes = plt.subplots(1, 2, figsize=(12, 3))\n",
    "\n",
    "sns.distplot(clean_data.up_votes, kde=False, ax = axes[0]).set_title(\"Distributuin of up_votes\")\n",
    "\n",
    "sns.distplot(np.log(clean_data.up_votes + 1), kde=False, ax=axes[1]).set_title(\"Distributuin of log(up_votes)\")\n",
    "\n",
    "plt.show()"
   ]
  },
  {
   "cell_type": "markdown",
   "metadata": {},
   "source": [
    "The distribution of 'up_votes' seems like right skewed. When we add logorithm, it's still not normal distributed. If I want to predict up_votes, I might adress this problem by categorizing 'up_votes' such that we can assume it a classfication problem.\n",
    "\n",
    "## 1.1 EDA summary\n",
    "\n",
    "I found some insightful inforamtion about the dataset and here are several points:\n",
    "\n",
    "* There is no missing value.\n",
    "* The dataset has dupilicates and some authors have same title.\n",
    "* The up_votes is extramely skewed, which can not be normalized by logrithm.\n",
    "\n",
    "For addressing the duplicate, I cannot get to the data collector to understand the problem. While I found the data with duplicate is not very much. So I directly dropped them. \n",
    "\n",
    "For the 'up_votes', I found it not possible to treat it as a regression model. So I decided to buketize it for a multi-classification problem.\n",
    "\n",
    "## 1.2 Topic decision\n",
    "I am thinking about using title and author information to estimate 'over_18', which is a classfication model. Besides, I am thinking about using similar features to estimate 'up_votes',which is a multi-class model. Let's keep explorying the data to see if we can make them happened."
   ]
  },
  {
   "cell_type": "markdown",
   "metadata": {},
   "source": [
    "# 2. Data Processing\n",
    "## 2.1 Author Correlation Check\n",
    "Before conducting text mining, I would like to have a look at the author information. I think this information could somehow reflect the 'over_18' or 'up_votes'."
   ]
  },
  {
   "cell_type": "code",
   "execution_count": 89,
   "metadata": {
    "scrolled": true
   },
   "outputs": [
    {
     "name": "stdout",
     "output_type": "stream",
     "text": [
      "The number of different authors is 84192.\n",
      "1561 authors have more than 40 titles.\n"
     ]
    },
    {
     "data": {
      "image/png": "[encoded data removed]",
      "text/plain": [
       "<Figure size 432x288 with 1 Axes>"
      ]
     },
     "metadata": {
      "needs_background": "light"
     },
     "output_type": "display_data"
    }
   ],
   "source": [
    "# Check the relationship between author and 'over_18'\n",
    "print (\"The number of different authors is %s.\" % len(clean_data.author.unique()))\n",
    "author_distribution = clean_data.groupby(\"author\").count()\n",
    "print (\"%s authors have more than 40 titles.\" % author_distribution[author_distribution.title > 40].count().title)\n",
    "sns.distplot(author_distribution.title, kde=False).set_title(\"Histgram of number of titles for each author\")\n",
    "plt.show()"
   ]
  },
  {
   "cell_type": "code",
   "execution_count": 90,
   "metadata": {},
   "outputs": [
    {
     "name": "stdout",
     "output_type": "stream",
     "text": [
      "The ratio of authors that have 2 kinds of titles is 0.00235.\n"
     ]
    }
   ],
   "source": [
    "# The ratio of author that has both over_18 titles and non_over_18 titles\n",
    "author_vs_18 = clean_data[[\"author\",\"over_18\"]].drop_duplicates().groupby(\"author\").count()\n",
    "print(\"The ratio of authors that have 2 kinds of titles is %.5f.\" % float(sum(author_vs_18.over_18 > 1)/author_vs_18.count()[0]))"
   ]
  },
  {
   "cell_type": "markdown",
   "metadata": {},
   "source": [
    "This means almost every author has only one kind of title, either over_18 or not. Thus, I decided to use author as a feature for predicting 'over_18'."
   ]
  },
  {
   "cell_type": "markdown",
   "metadata": {},
   "source": [
    "## 2.2 Remove Punctuation\n",
    "\n",
    "Let's use a few regular expressions to clean up pour data, and save it back to disk for future use"
   ]
  },
  {
   "cell_type": "code",
   "execution_count": 91,
   "metadata": {},
   "outputs": [],
   "source": [
    "# Remove punctuation of title\n",
    "clean_data[\"title2\"] = clean_data[\"title\"].str.replace(r\"[^A-Za-z0-9(),!?@\\'\\`\\\"\\_\\n]\", \" \")\n",
    "clean_data[\"title2\"] = clean_data[\"title2\"].str.lower()"
   ]
  },
  {
   "cell_type": "markdown",
   "metadata": {},
   "source": [
    "## 2.3 Words Tokenization"
   ]
  },
  {
   "cell_type": "code",
   "execution_count": 92,
   "metadata": {},
   "outputs": [],
   "source": [
    "## Tokenize\n",
    "from nltk.tokenize import RegexpTokenizer\n",
    "\n",
    "tokenizer = RegexpTokenizer(r'\\w+')\n",
    "\n",
    "clean_data[\"title2\"] = clean_data[\"title2\"].apply(tokenizer.tokenize)"
   ]
  },
  {
   "cell_type": "code",
   "execution_count": 93,
   "metadata": {},
   "outputs": [
    {
     "data": {
      "text/html": [
       "<div>\n",
       "<style scoped>\n",
       "    .dataframe tbody tr th:only-of-type {\n",
       "        vertical-align: middle;\n",
       "    }\n",
       "\n",
       "    .dataframe tbody tr th {\n",
       "        vertical-align: top;\n",
       "    }\n",
       "\n",
       "    .dataframe thead th {\n",
       "        text-align: right;\n",
       "    }\n",
       "</style>\n",
       "<table border=\"1\" class=\"dataframe\">\n",
       "  <thead>\n",
       "    <tr style=\"text-align: right;\">\n",
       "      <th></th>\n",
       "      <th>title</th>\n",
       "      <th>up_votes</th>\n",
       "      <th>over_18</th>\n",
       "      <th>author</th>\n",
       "      <th>title2</th>\n",
       "    </tr>\n",
       "  </thead>\n",
       "  <tbody>\n",
       "    <tr>\n",
       "      <th>0</th>\n",
       "      <td>Scores killed in Pakistan clashes</td>\n",
       "      <td>3</td>\n",
       "      <td>False</td>\n",
       "      <td>polar</td>\n",
       "      <td>[scores, killed, in, pakistan, clashes]</td>\n",
       "    </tr>\n",
       "    <tr>\n",
       "      <th>1</th>\n",
       "      <td>Japan resumes refuelling mission</td>\n",
       "      <td>2</td>\n",
       "      <td>False</td>\n",
       "      <td>polar</td>\n",
       "      <td>[japan, resumes, refuelling, mission]</td>\n",
       "    </tr>\n",
       "    <tr>\n",
       "      <th>2</th>\n",
       "      <td>US presses Egypt on Gaza border</td>\n",
       "      <td>3</td>\n",
       "      <td>False</td>\n",
       "      <td>polar</td>\n",
       "      <td>[us, presses, egypt, on, gaza, border]</td>\n",
       "    </tr>\n",
       "    <tr>\n",
       "      <th>3</th>\n",
       "      <td>Jump-start economy: Give health care to all</td>\n",
       "      <td>1</td>\n",
       "      <td>False</td>\n",
       "      <td>fadi420</td>\n",
       "      <td>[jump, start, economy, give, health, care, to,...</td>\n",
       "    </tr>\n",
       "    <tr>\n",
       "      <th>4</th>\n",
       "      <td>Council of Europe bashes EU&amp;UN terror blacklist</td>\n",
       "      <td>4</td>\n",
       "      <td>False</td>\n",
       "      <td>mhermans</td>\n",
       "      <td>[council, of, europe, bashes, eu, un, terror, ...</td>\n",
       "    </tr>\n",
       "  </tbody>\n",
       "</table>\n",
       "</div>"
      ],
      "text/plain": [
       "                                             title  up_votes  over_18  \\\n",
       "0                Scores killed in Pakistan clashes         3    False   \n",
       "1                 Japan resumes refuelling mission         2    False   \n",
       "2                  US presses Egypt on Gaza border         3    False   \n",
       "3     Jump-start economy: Give health care to all          1    False   \n",
       "4  Council of Europe bashes EU&UN terror blacklist         4    False   \n",
       "\n",
       "     author                                             title2  \n",
       "0     polar            [scores, killed, in, pakistan, clashes]  \n",
       "1     polar              [japan, resumes, refuelling, mission]  \n",
       "2     polar             [us, presses, egypt, on, gaza, border]  \n",
       "3   fadi420  [jump, start, economy, give, health, care, to,...  \n",
       "4  mhermans  [council, of, europe, bashes, eu, un, terror, ...  "
      ]
     },
     "execution_count": 93,
     "metadata": {},
     "output_type": "execute_result"
    }
   ],
   "source": [
    "clean_data.head()"
   ]
  },
  {
   "cell_type": "markdown",
   "metadata": {},
   "source": [
    "## 2.4 Words Stemming "
   ]
  },
  {
   "cell_type": "code",
   "execution_count": 94,
   "metadata": {},
   "outputs": [
    {
     "data": {
      "text/html": [
       "<div>\n",
       "<style scoped>\n",
       "    .dataframe tbody tr th:only-of-type {\n",
       "        vertical-align: middle;\n",
       "    }\n",
       "\n",
       "    .dataframe tbody tr th {\n",
       "        vertical-align: top;\n",
       "    }\n",
       "\n",
       "    .dataframe thead th {\n",
       "        text-align: right;\n",
       "    }\n",
       "</style>\n",
       "<table border=\"1\" class=\"dataframe\">\n",
       "  <thead>\n",
       "    <tr style=\"text-align: right;\">\n",
       "      <th></th>\n",
       "      <th>title</th>\n",
       "      <th>up_votes</th>\n",
       "      <th>over_18</th>\n",
       "      <th>author</th>\n",
       "      <th>title2</th>\n",
       "    </tr>\n",
       "  </thead>\n",
       "  <tbody>\n",
       "    <tr>\n",
       "      <th>0</th>\n",
       "      <td>Scores killed in Pakistan clashes</td>\n",
       "      <td>3</td>\n",
       "      <td>False</td>\n",
       "      <td>polar</td>\n",
       "      <td>[score, kill, in, pakistan, clash]</td>\n",
       "    </tr>\n",
       "    <tr>\n",
       "      <th>1</th>\n",
       "      <td>Japan resumes refuelling mission</td>\n",
       "      <td>2</td>\n",
       "      <td>False</td>\n",
       "      <td>polar</td>\n",
       "      <td>[japan, resum, refuel, mission]</td>\n",
       "    </tr>\n",
       "    <tr>\n",
       "      <th>2</th>\n",
       "      <td>US presses Egypt on Gaza border</td>\n",
       "      <td>3</td>\n",
       "      <td>False</td>\n",
       "      <td>polar</td>\n",
       "      <td>[us, press, egypt, on, gaza, border]</td>\n",
       "    </tr>\n",
       "    <tr>\n",
       "      <th>3</th>\n",
       "      <td>Jump-start economy: Give health care to all</td>\n",
       "      <td>1</td>\n",
       "      <td>False</td>\n",
       "      <td>fadi420</td>\n",
       "      <td>[jump, start, economi, give, health, care, to,...</td>\n",
       "    </tr>\n",
       "    <tr>\n",
       "      <th>4</th>\n",
       "      <td>Council of Europe bashes EU&amp;UN terror blacklist</td>\n",
       "      <td>4</td>\n",
       "      <td>False</td>\n",
       "      <td>mhermans</td>\n",
       "      <td>[council, of, europ, bash, eu, un, terror, bla...</td>\n",
       "    </tr>\n",
       "  </tbody>\n",
       "</table>\n",
       "</div>"
      ],
      "text/plain": [
       "                                             title  up_votes  over_18  \\\n",
       "0                Scores killed in Pakistan clashes         3    False   \n",
       "1                 Japan resumes refuelling mission         2    False   \n",
       "2                  US presses Egypt on Gaza border         3    False   \n",
       "3     Jump-start economy: Give health care to all          1    False   \n",
       "4  Council of Europe bashes EU&UN terror blacklist         4    False   \n",
       "\n",
       "     author                                             title2  \n",
       "0     polar                 [score, kill, in, pakistan, clash]  \n",
       "1     polar                    [japan, resum, refuel, mission]  \n",
       "2     polar               [us, press, egypt, on, gaza, border]  \n",
       "3   fadi420  [jump, start, economi, give, health, care, to,...  \n",
       "4  mhermans  [council, of, europ, bash, eu, un, terror, bla...  "
      ]
     },
     "execution_count": 94,
     "metadata": {},
     "output_type": "execute_result"
    }
   ],
   "source": [
    "# Words Stemming\n",
    "from nltk.stem import PorterStemmer\n",
    "\n",
    "def stemming(x):\n",
    "    ps = PorterStemmer()\n",
    "    return [ps.stem(i) for i in x]\n",
    "\n",
    "\n",
    "clean_data[\"title2\"] = clean_data[\"title2\"].apply(stemming)\n",
    "clean_data.head()"
   ]
  },
  {
   "cell_type": "code",
   "execution_count": 95,
   "metadata": {},
   "outputs": [],
   "source": [
    "# Transforme the response\n",
    "clean_data[\"over_18\"] = [1 if i is True else 0 for i in clean_data.over_18]\n",
    "\n",
    "# Calculate the length of each tokenized title\n",
    "clean_data[\"size_\"] = clean_data.title2.apply(lambda x: len(x))"
   ]
  },
  {
   "cell_type": "code",
   "execution_count": 96,
   "metadata": {},
   "outputs": [
    {
     "name": "stdout",
     "output_type": "stream",
     "text": [
      "7294384 words total, with a vocabulary size of 63707.\n",
      "The sample size is 493001 with 84192 different authors.\n",
      "Max sentence length is 66.\n"
     ]
    }
   ],
   "source": [
    "# Check the vocabularies in titles\n",
    "all_words = [word for tokens in clean_data[\"title2\"] for word in tokens]\n",
    "VOCAB = sorted(list(set(all_words)))\n",
    "author = sorted(list(set(clean_data.author)))\n",
    "print(\"%s words total, with a vocabulary size of %s.\" % (len(all_words), len(VOCAB)))\n",
    "print(\"The sample size is %s with %s different authors.\" % (clean_data.shape[0], len(author)))\n",
    "print(\"Max sentence length is %s.\" % clean_data.size_.max())"
   ]
  },
  {
   "cell_type": "code",
   "execution_count": 97,
   "metadata": {},
   "outputs": [
    {
     "data": {
      "image/png": "[encoded data removed]",
      "text/plain": [
       "<Figure size 432x288 with 1 Axes>"
      ]
     },
     "metadata": {
      "needs_background": "light"
     },
     "output_type": "display_data"
    }
   ],
   "source": [
    "sns.distplot(clean_data.size_).set_title(\"The distribution of title length\")\n",
    "plt.show()"
   ]
  },
  {
   "cell_type": "markdown",
   "metadata": {},
   "source": [
    "## 2.5 Balance the sample\n",
    "Because the sample is imbalanced, I decided to upsample the minority and downsample the majority."
   ]
  },
  {
   "cell_type": "code",
   "execution_count": 98,
   "metadata": {},
   "outputs": [
    {
     "data": {
      "text/plain": [
       "1    2000\n",
       "0    2000\n",
       "Name: over_18, dtype: int64"
      ]
     },
     "execution_count": 98,
     "metadata": {},
     "output_type": "execute_result"
    }
   ],
   "source": [
    "from sklearn.utils import resample\n",
    "\n",
    "over18 = clean_data[clean_data.over_18  == 1]\n",
    "under18 = clean_data[clean_data.over_18  == 0]\n",
    "\n",
    "# Upsample to make it balanced\n",
    "over18 = resample(over18, \n",
    "         replace=True,     # sample with replacement\n",
    "         n_samples=2000)\n",
    "\n",
    "# Downsample to make it balanced\n",
    "under18 = resample(under18, \n",
    "          replace=False,    # sample without replacement\n",
    "          n_samples=2000)    # to match minority class\n",
    "\n",
    "Balanced_data = pd.concat([under18, over18])\n",
    "Balanced_data.over_18.value_counts()"
   ]
  },
  {
   "cell_type": "markdown",
   "metadata": {},
   "source": [
    "## 2.6 Enter Embeddings\n",
    "I chose bag-of-words and TF-IDF as the embedding method to generate features."
   ]
  },
  {
   "cell_type": "code",
   "execution_count": 99,
   "metadata": {},
   "outputs": [],
   "source": [
    "from sklearn.model_selection import train_test_split\n",
    "from sklearn.feature_extraction.text import CountVectorizer, TfidfVectorizer\n",
    "from nltk.corpus import stopwords\n",
    "\n",
    "\n",
    "def cv(data):\n",
    "    # Bag-of-words method to mine the data\n",
    "    count_vectorizer = CountVectorizer(stop_words=stopwords.words('english'))\n",
    "    \n",
    "    emb = count_vectorizer.fit_transform(data)\n",
    "    \n",
    "    return emb, count_vectorizer\n",
    "\n",
    "\n",
    "def tfidf(data):\n",
    "    # TF-IDF method to mine the data\n",
    "    tfidf_vectorizer = TfidfVectorizer(stop_words=stopwords.words('english'))\n",
    "    \n",
    "    train = tfidf_vectorizer.fit_transform(data)\n",
    "    \n",
    "    return train, tfidf_vectorizer\n",
    "\n",
    "\n",
    "def split_data(Balanced_data, label):\n",
    "    # Return the splited training and testing data\n",
    "    \n",
    "    ## Join back the stemmed words\n",
    "    Balanced_data[\"title3\"] = Balanced_data.apply(lambda x : ' '.join(x[\"title2\"]) + ' ' + x[\"author\"], axis = 1)\n",
    "    \n",
    "    ## Bag-of-words\n",
    "    X, count_vectorizer = cv(Balanced_data[\"title3\"].tolist())\n",
    "    y = Balanced_data[label].tolist()\n",
    "    \n",
    "    X_train_bw, X_test_bw, y_train_bw, y_test_bw = train_test_split(X, y, test_size=0.2, random_state=40)\n",
    "    \n",
    "    ## TF-IDF\n",
    "    X, tfidf_vectorizer = tfidf(Balanced_data[\"title3\"].tolist())\n",
    "    y = Balanced_data[label].tolist()\n",
    "    \n",
    "    X_train_tf, X_test_tf, y_train_tf, y_test_tf = train_test_split(X, y, test_size=0.2, random_state=40)\n",
    "    \n",
    "    return [(X_train_bw, X_test_bw, y_train_bw, y_test_bw),(X_train_tf, X_test_tf, y_train_tf, y_test_tf)]"
   ]
  },
  {
   "cell_type": "code",
   "execution_count": 100,
   "metadata": {},
   "outputs": [],
   "source": [
    "sample = split_data(Balanced_data, label = \"over_18\")\n",
    "X_train_bw, X_test_bw, y_train_bw, y_test_bw = sample[0]\n",
    "X_train_tf, X_test_tf, y_train_tf, y_test_tf = sample[1]"
   ]
  },
  {
   "cell_type": "markdown",
   "metadata": {},
   "source": [
    "# 3. Over_18 Classification Modelling\n",
    "The first model I want to build is classification model aiming to predict 'over_18'.\n",
    "## 3.1 Dimension Reduction\n",
    "For dimension reducing, I used TruncatedSVD, which is designed for sparse metrics."
   ]
  },
  {
   "cell_type": "code",
   "execution_count": 101,
   "metadata": {},
   "outputs": [],
   "source": [
    "from sklearn.decomposition import TruncatedSVD\n",
    "\n",
    "## Bag of word method\n",
    "lsa = TruncatedSVD(n_components=250)\n",
    "lsa.fit(X_train_bw)\n",
    "\n",
    "X_train_svd_bw = lsa.transform(X_train_bw)\n",
    "X_test_svd_bw = lsa.transform(X_test_bw)\n",
    "\n",
    "## TF-idf method\n",
    "lsa = TruncatedSVD(n_components=250)\n",
    "lsa.fit(X_train_tf)\n",
    "\n",
    "X_train_svd_tf = lsa.transform(X_train_tf)\n",
    "X_test_svd_tf = lsa.transform(X_test_tf)"
   ]
  },
  {
   "cell_type": "markdown",
   "metadata": {},
   "source": [
    "## 3.2 Logistic Regression\n",
    "I would like to start with thie simplest one. if it doesn't perform well, I would try the more complicated ones."
   ]
  },
  {
   "cell_type": "code",
   "execution_count": 102,
   "metadata": {},
   "outputs": [],
   "source": [
    "from sklearn.linear_model import LogisticRegression\n",
    "\n",
    "## Bag of words method\n",
    "clf = LogisticRegression(C=30.0, class_weight='balanced', solver='newton-cg', \n",
    "                         n_jobs=-1, random_state=40)\n",
    "clf.fit(X_train_svd_bw, y_train_bw)\n",
    "y_predicted_bw = clf.predict(X_test_svd_bw)\n",
    "\n",
    "## TF-idf method\n",
    "clf = LogisticRegression(C=30.0, class_weight='balanced', solver='newton-cg', \n",
    "                         n_jobs=-1, random_state=40)\n",
    "clf.fit(X_train_svd_tf, y_train_tf)\n",
    "y_predicted_tf = clf.predict(X_test_svd_tf)"
   ]
  },
  {
   "cell_type": "code",
   "execution_count": 103,
   "metadata": {},
   "outputs": [
    {
     "name": "stdout",
     "output_type": "stream",
     "text": [
      "The performance of Bag of word\n",
      "accuracy = 0.970, precision = 0.970, recall = 0.970, f1 = 0.970\n",
      "The performance of TF-IDF\n",
      "accuracy = 0.975, precision = 0.975, recall = 0.975, f1 = 0.975\n"
     ]
    }
   ],
   "source": [
    "from sklearn.metrics import accuracy_score, f1_score, precision_score, recall_score, classification_report\n",
    "\n",
    "def get_metrics(y_test, y_predicted):  \n",
    "    # true positives / (true positives+false positives)\n",
    "    precision = precision_score(y_test, y_predicted, pos_label=None,\n",
    "                                    average='weighted')             \n",
    "    # true positives / (true positives + false negatives)\n",
    "    recall = recall_score(y_test, y_predicted, pos_label=None,\n",
    "                              average='weighted')\n",
    "    \n",
    "    # harmonic mean of precision and recall\n",
    "    f1 = f1_score(y_test, y_predicted, pos_label=None, average='weighted')\n",
    "    \n",
    "    # true positives + true negatives/ total\n",
    "    accuracy = accuracy_score(y_test, y_predicted)\n",
    "    return accuracy, precision, recall, f1\n",
    "\n",
    "## Bag of words method\n",
    "accuracy, precision, recall, f1 = get_metrics(y_test_bw, y_predicted_bw)\n",
    "print(\"The performance of Bag of word\")\n",
    "print(\"accuracy = %.3f, precision = %.3f, recall = %.3f, f1 = %.3f\" % (accuracy, precision, recall, f1))\n",
    "\n",
    "## TF-idf method\n",
    "accuracy, precision, recall, f1 = get_metrics(y_test_tf, y_predicted_tf)\n",
    "print(\"The performance of TF-IDF\")\n",
    "print(\"accuracy = %.3f, precision = %.3f, recall = %.3f, f1 = %.3f\" % (accuracy, precision, recall, f1))"
   ]
  },
  {
   "cell_type": "markdown",
   "metadata": {},
   "source": [
    "The performance of Bag-of-words is very similar to TF-IDF. So I am not going to use bag-of-word here."
   ]
  },
  {
   "cell_type": "markdown",
   "metadata": {},
   "source": [
    "## 3.3 Model Inspection"
   ]
  },
  {
   "cell_type": "code",
   "execution_count": 104,
   "metadata": {},
   "outputs": [],
   "source": [
    "import numpy as np\n",
    "import itertools\n",
    "from sklearn.metrics import confusion_matrix\n",
    "\n",
    "def plot_confusion_matrix(cm, classes,\n",
    "                          normalize=False,\n",
    "                          title='Confusion matrix',\n",
    "                          cmap=plt.cm.winter):\n",
    "    if normalize:\n",
    "        cm = cm.astype('float') / cm.sum(axis=1)[:, np.newaxis]\n",
    "    plt.imshow(cm, interpolation='nearest', cmap=cmap)\n",
    "    plt.title(title, fontsize=30)\n",
    "    plt.colorbar()\n",
    "    tick_marks = np.arange(len(classes))\n",
    "    plt.xticks(tick_marks, classes, fontsize=20)\n",
    "    plt.yticks(tick_marks, classes, fontsize=20)\n",
    "    \n",
    "    fmt = '.2f' if normalize else 'd'\n",
    "    thresh = cm.max() / 2.\n",
    "\n",
    "    for i, j in itertools.product(range(cm.shape[0]), range(cm.shape[1])):\n",
    "        plt.text(j, i, format(cm[i, j], fmt), horizontalalignment=\"center\", \n",
    "                 color=\"white\" if cm[i, j] < thresh else \"black\", fontsize=40)\n",
    "    \n",
    "    plt.tight_layout()\n",
    "    plt.ylabel('True label', fontsize=30)\n",
    "    plt.xlabel('Predicted label', fontsize=30)\n",
    "\n",
    "    return plt"
   ]
  },
  {
   "cell_type": "code",
   "execution_count": 105,
   "metadata": {},
   "outputs": [
    {
     "data": {
      "image/png": "[encoded data removed]",
      "text/plain": [
       "<Figure size 720x576 with 2 Axes>"
      ]
     },
     "metadata": {
      "needs_background": "light"
     },
     "output_type": "display_data"
    }
   ],
   "source": [
    "# Plot condusion matrix to visualize the performance\n",
    "cm = confusion_matrix(y_test_bw, y_predicted_bw)\n",
    "fig = plt.figure(figsize=(10, 8))\n",
    "plot = plot_confusion_matrix(cm, classes=['over_18','under_18'], normalize=False, title='Confusion matrix')\n",
    "plt.show()"
   ]
  },
  {
   "cell_type": "markdown",
   "metadata": {},
   "source": [
    "## 3.4 Get feature importance"
   ]
  },
  {
   "cell_type": "code",
   "execution_count": 112,
   "metadata": {},
   "outputs": [
    {
     "name": "stdout",
     "output_type": "stream",
     "text": [
      "accuracy = 0.940, precision = 0.944, recall = 0.940, f1 = 0.940\n"
     ]
    },
    {
     "data": {
      "text/html": [
       "<div>\n",
       "<style scoped>\n",
       "    .dataframe tbody tr th:only-of-type {\n",
       "        vertical-align: middle;\n",
       "    }\n",
       "\n",
       "    .dataframe tbody tr th {\n",
       "        vertical-align: top;\n",
       "    }\n",
       "\n",
       "    .dataframe thead th {\n",
       "        text-align: right;\n",
       "    }\n",
       "</style>\n",
       "<table border=\"1\" class=\"dataframe\">\n",
       "  <thead>\n",
       "    <tr style=\"text-align: right;\">\n",
       "      <th></th>\n",
       "      <th>feature</th>\n",
       "      <th>importance</th>\n",
       "    </tr>\n",
       "  </thead>\n",
       "  <tbody>\n",
       "    <tr>\n",
       "      <th>4607</th>\n",
       "      <td>nsfw</td>\n",
       "      <td>0.119510</td>\n",
       "    </tr>\n",
       "    <tr>\n",
       "      <th>7022</th>\n",
       "      <td>video</td>\n",
       "      <td>0.044511</td>\n",
       "    </tr>\n",
       "    <tr>\n",
       "      <th>4606</th>\n",
       "      <td>nsfl</td>\n",
       "      <td>0.025042</td>\n",
       "    </tr>\n",
       "    <tr>\n",
       "      <th>2838</th>\n",
       "      <td>graphic</td>\n",
       "      <td>0.020627</td>\n",
       "    </tr>\n",
       "    <tr>\n",
       "      <th>1800</th>\n",
       "      <td>dead</td>\n",
       "      <td>0.015285</td>\n",
       "    </tr>\n",
       "    <tr>\n",
       "      <th>5963</th>\n",
       "      <td>shot</td>\n",
       "      <td>0.014144</td>\n",
       "    </tr>\n",
       "    <tr>\n",
       "      <th>5176</th>\n",
       "      <td>protest</td>\n",
       "      <td>0.013533</td>\n",
       "    </tr>\n",
       "    <tr>\n",
       "      <th>2345</th>\n",
       "      <td>execut</td>\n",
       "      <td>0.012809</td>\n",
       "    </tr>\n",
       "    <tr>\n",
       "      <th>6695</th>\n",
       "      <td>topless</td>\n",
       "      <td>0.012260</td>\n",
       "    </tr>\n",
       "    <tr>\n",
       "      <th>3223</th>\n",
       "      <td>imag</td>\n",
       "      <td>0.011631</td>\n",
       "    </tr>\n",
       "  </tbody>\n",
       "</table>\n",
       "</div>"
      ],
      "text/plain": [
       "      feature  importance\n",
       "4607     nsfw    0.119510\n",
       "7022    video    0.044511\n",
       "4606     nsfl    0.025042\n",
       "2838  graphic    0.020627\n",
       "1800     dead    0.015285\n",
       "5963     shot    0.014144\n",
       "5176  protest    0.013533\n",
       "2345   execut    0.012809\n",
       "6695  topless    0.012260\n",
       "3223     imag    0.011631"
      ]
     },
     "execution_count": 112,
     "metadata": {},
     "output_type": "execute_result"
    }
   ],
   "source": [
    "## Join back the stemmed words\n",
    "Balanced_data[\"title3\"] = Balanced_data.apply(lambda x : ' '.join(x[\"title2\"]) + ' ' + x[\"author\"], axis = 1)\n",
    "\n",
    "X, count_vectorizer = cv(Balanced_data[\"title3\"].tolist())\n",
    "y = Balanced_data['over_18'].tolist()\n",
    "\n",
    "X_train_bw, X_test_bw, y_train_bw, y_test_bw = train_test_split(X, y, test_size=0.2, random_state=40)\n",
    "\n",
    "# Feature selection\n",
    "clf_tr = RandomForestClassifier(n_estimators=120, max_depth=40, random_state=0)\n",
    "clf_tr.fit(X_train_bw, y_train_bw)\n",
    "\n",
    "y_predicted_bw = clf_tr.predict(X_test_bw)\n",
    "accuracy, precision, recall, f1 = get_metrics(y_test_bw, y_predicted_bw)\n",
    "print(\"accuracy = %.3f, precision = %.3f, recall = %.3f, f1 = %.3f\" % (accuracy, precision, recall, f1))\n",
    "\n",
    "# Feature importance dataframe\n",
    "Feature = pd.DataFrame(count_vectorizer.get_feature_names(), columns = [\"feature\"])\n",
    "Feature[\"importance\"] = clf_tr.feature_importances_\n",
    "\n",
    "important_fea = Feature.sort_values(by = \"importance\", ascending=False)\n",
    "important_fea.head(10)"
   ]
  },
  {
   "cell_type": "markdown",
   "metadata": {},
   "source": [
    "## 3.5 Summary\n",
    "As we can see, the model performed very well. Of Couse, it could be the limitation of sample size(4000) compared with the large size of features(250). Also, we can go back to see the vocabularies that contribute to the model. Of course, we can choose some other feature selection method so that we can go check the word importance. "
   ]
  },
  {
   "cell_type": "markdown",
   "metadata": {},
   "source": [
    "# 4. Up_votes Classification Modelling\n",
    "Right now, I am going to see if title and author can be used for up_votes prediction. As I explored before, the 'up_votes' is not normal distributed. And we can't solve it with poison regression. So I decided to buketize the 'up_votes' to create a classification problem.\n",
    "## 4.1 up_votes categorizing\n",
    "It's not easy to find the best place to seperate the 'up_votes', so that the title and author information can better represent the 'up_votes'. So I started with inital binary seperating. Here are my steps:\n",
    "    1. With inital binary seperating, I used the previous logistic regression to generate a model; \n",
    "    2. I changed the seperating point, in order to achive a relative higher model performance on the fixed model setting;\n",
    "    3. With fixed seperating point, I improved the model. I chose random forest for feature selection, then implement the selected feature to train the logistic regression, which achieved a better performance."
   ]
  },
  {
   "cell_type": "code",
   "execution_count": 118,
   "metadata": {},
   "outputs": [
    {
     "data": {
      "text/plain": [
       "2    478609\n",
       "1     14392\n",
       "Name: up_votes_cat, dtype: int64"
      ]
     },
     "execution_count": 118,
     "metadata": {},
     "output_type": "execute_result"
    }
   ],
   "source": [
    "# Categorize the up_votes\n",
    "def vote_cate(x):\n",
    "    if x > 1000: return 1\n",
    "    else: return 2\n",
    "\n",
    "clean_data[\"up_votes_cat\"] = clean_data.up_votes.apply(vote_cate)\n",
    "clean_data.up_votes_cat.value_counts()"
   ]
  },
  {
   "cell_type": "markdown",
   "metadata": {},
   "source": [
    "## 4.2 Balance the dataset\n",
    "Before training the model, we need to balance the dataset. I upsampled the minority and downsampled the majority considering the 'sample size' vs 'feature number'."
   ]
  },
  {
   "cell_type": "code",
   "execution_count": 119,
   "metadata": {},
   "outputs": [
    {
     "data": {
      "text/plain": [
       "2    90000\n",
       "1    90000\n",
       "Name: up_votes_cat, dtype: int64"
      ]
     },
     "execution_count": 119,
     "metadata": {},
     "output_type": "execute_result"
    }
   ],
   "source": [
    "# Balance the sample\n",
    "up_1 = clean_data[clean_data.up_votes_cat  == 1]\n",
    "up_2 = clean_data[clean_data.up_votes_cat  == 2]\n",
    "\n",
    "# Downsample to make it balanced\n",
    "up_2 = resample(up_2, \n",
    "          replace=False,    # sample without replacement\n",
    "          n_samples=90000)    # to match minority class\n",
    "\n",
    "# upsample to make it balanced\n",
    "up_1 = resample(up_1, \n",
    "          replace=True,    # sample without replacement\n",
    "          n_samples=90000)    # to match minority class\n",
    "\n",
    "Balanced_data = pd.concat([up_1, up_2])\n",
    "Balanced_data.up_votes_cat.value_counts()"
   ]
  },
  {
   "cell_type": "markdown",
   "metadata": {},
   "source": [
    "## 4.3 Enter Embeddings"
   ]
  },
  {
   "cell_type": "code",
   "execution_count": 120,
   "metadata": {},
   "outputs": [
    {
     "data": {
      "text/html": [
       "<div>\n",
       "<style scoped>\n",
       "    .dataframe tbody tr th:only-of-type {\n",
       "        vertical-align: middle;\n",
       "    }\n",
       "\n",
       "    .dataframe tbody tr th {\n",
       "        vertical-align: top;\n",
       "    }\n",
       "\n",
       "    .dataframe thead th {\n",
       "        text-align: right;\n",
       "    }\n",
       "</style>\n",
       "<table border=\"1\" class=\"dataframe\">\n",
       "  <thead>\n",
       "    <tr style=\"text-align: right;\">\n",
       "      <th></th>\n",
       "      <th>title</th>\n",
       "      <th>up_votes</th>\n",
       "      <th>over_18</th>\n",
       "      <th>author</th>\n",
       "      <th>title2</th>\n",
       "      <th>size_</th>\n",
       "      <th>up_votes_cat</th>\n",
       "    </tr>\n",
       "  </thead>\n",
       "  <tbody>\n",
       "    <tr>\n",
       "      <th>246396</th>\n",
       "      <td>Ukraine: One of kidnapped protestors was found...</td>\n",
       "      <td>2829</td>\n",
       "      <td>0</td>\n",
       "      <td>uncleban</td>\n",
       "      <td>[ukrain, one, of, kidnap, protestor, wa, found...</td>\n",
       "      <td>13</td>\n",
       "      <td>1</td>\n",
       "    </tr>\n",
       "    <tr>\n",
       "      <th>473449</th>\n",
       "      <td>Six gay men in Ivory Coast were abused and for...</td>\n",
       "      <td>5203</td>\n",
       "      <td>0</td>\n",
       "      <td>DoremusJessup</td>\n",
       "      <td>[six, gay, men, in, ivori, coast, were, abus, ...</td>\n",
       "      <td>34</td>\n",
       "      <td>1</td>\n",
       "    </tr>\n",
       "    <tr>\n",
       "      <th>506087</th>\n",
       "      <td>New Delhi s air is now so toxic, schools are c...</td>\n",
       "      <td>1946</td>\n",
       "      <td>0</td>\n",
       "      <td>YoSoyUnPayaso</td>\n",
       "      <td>[new, delhi, s, air, is, now, so, toxic, schoo...</td>\n",
       "      <td>15</td>\n",
       "      <td>1</td>\n",
       "    </tr>\n",
       "    <tr>\n",
       "      <th>407495</th>\n",
       "      <td>Lockheed Martin, Boeing rally around Saudi Ara...</td>\n",
       "      <td>3864</td>\n",
       "      <td>0</td>\n",
       "      <td>underweargnome04</td>\n",
       "      <td>[lockhe, martin, boe, ralli, around, saudi, ar...</td>\n",
       "      <td>11</td>\n",
       "      <td>1</td>\n",
       "    </tr>\n",
       "    <tr>\n",
       "      <th>105889</th>\n",
       "      <td>Bill would make wearing masks during riots a c...</td>\n",
       "      <td>1730</td>\n",
       "      <td>0</td>\n",
       "      <td>galt1776</td>\n",
       "      <td>[bill, would, make, wear, mask, dure, riot, a,...</td>\n",
       "      <td>9</td>\n",
       "      <td>1</td>\n",
       "    </tr>\n",
       "  </tbody>\n",
       "</table>\n",
       "</div>"
      ],
      "text/plain": [
       "                                                    title  up_votes  over_18  \\\n",
       "246396  Ukraine: One of kidnapped protestors was found...      2829        0   \n",
       "473449  Six gay men in Ivory Coast were abused and for...      5203        0   \n",
       "506087  New Delhi s air is now so toxic, schools are c...      1946        0   \n",
       "407495  Lockheed Martin, Boeing rally around Saudi Ara...      3864        0   \n",
       "105889  Bill would make wearing masks during riots a c...      1730        0   \n",
       "\n",
       "                  author                                             title2  \\\n",
       "246396          uncleban  [ukrain, one, of, kidnap, protestor, wa, found...   \n",
       "473449     DoremusJessup  [six, gay, men, in, ivori, coast, were, abus, ...   \n",
       "506087     YoSoyUnPayaso  [new, delhi, s, air, is, now, so, toxic, schoo...   \n",
       "407495  underweargnome04  [lockhe, martin, boe, ralli, around, saudi, ar...   \n",
       "105889          galt1776  [bill, would, make, wear, mask, dure, riot, a,...   \n",
       "\n",
       "        size_  up_votes_cat  \n",
       "246396     13             1  \n",
       "473449     34             1  \n",
       "506087     15             1  \n",
       "407495     11             1  \n",
       "105889      9             1  "
      ]
     },
     "execution_count": 120,
     "metadata": {},
     "output_type": "execute_result"
    }
   ],
   "source": [
    "Balanced_data.head()"
   ]
  },
  {
   "cell_type": "code",
   "execution_count": 121,
   "metadata": {},
   "outputs": [],
   "source": [
    "# Split the dataset to training and testing sets\n",
    "sample = split_data(Balanced_data, label=\"up_votes_cat\")\n",
    "X_train_bw, X_test_bw, y_train_bw, y_test_bw = sample[0]\n",
    "X_train_tf, X_test_tf, y_train_tf, y_test_tf = sample[1]"
   ]
  },
  {
   "cell_type": "markdown",
   "metadata": {},
   "source": [
    "## 4.4 Select the Embeddings\n",
    "Here I used the logistic regression for selecting embedding method.\n",
    "### 4.4.1 Dimension Reduction"
   ]
  },
  {
   "cell_type": "code",
   "execution_count": 43,
   "metadata": {},
   "outputs": [],
   "source": [
    "## Bag of word method\n",
    "lsa = TruncatedSVD(n_components=150)\n",
    "lsa.fit(X_train_bw)\n",
    "\n",
    "X_train_svd_bw = lsa.transform(X_train_bw)\n",
    "X_test_svd_bw = lsa.transform(X_test_bw)\n",
    "\n",
    "## TF-idf method\n",
    "lsa = TruncatedSVD(n_components=150)\n",
    "lsa.fit(X_train_tf)\n",
    "\n",
    "X_train_svd_tf = lsa.transform(X_train_tf)\n",
    "X_test_svd_tf = lsa.transform(X_test_tf)"
   ]
  },
  {
   "cell_type": "markdown",
   "metadata": {},
   "source": [
    "### 4.4.2 Logistic Regression"
   ]
  },
  {
   "cell_type": "code",
   "execution_count": 71,
   "metadata": {},
   "outputs": [],
   "source": [
    "## Bag of words method\n",
    "clf = LogisticRegression(C=30.0, class_weight='balanced', solver='newton-cg', \n",
    "                         multi_class='multinomial', n_jobs=-1, random_state=40)\n",
    "clf.fit(X_train_svd_bw, y_train_bw)\n",
    "y_predicted_bw = clf.predict(X_test_svd_bw)\n",
    "\n",
    "## TF-idf method\n",
    "clf = LogisticRegression(C=30.0, class_weight='balanced', solver='newton-cg', \n",
    "                         multi_class='multinomial', n_jobs=-1, random_state=40)\n",
    "clf.fit(X_train_svd_tf, y_train_tf)\n",
    "y_predicted_tf = clf.predict(X_test_svd_tf)"
   ]
  },
  {
   "cell_type": "markdown",
   "metadata": {},
   "source": [
    "### 4.4.3 Model performance"
   ]
  },
  {
   "cell_type": "code",
   "execution_count": 72,
   "metadata": {},
   "outputs": [
    {
     "name": "stdout",
     "output_type": "stream",
     "text": [
      "The performance of Bag of word\n",
      "accuracy = 0.932, precision = 0.998, recall = 0.932, f1 = 0.963\n",
      "The performance of TF-IDF\n",
      "accuracy = 0.932, precision = 0.998, recall = 0.932, f1 = 0.963\n"
     ]
    }
   ],
   "source": [
    "## Bag of words method\n",
    "accuracy, precision, recall, f1 = get_metrics(y_test_bw, y_predicted_bw)\n",
    "print(\"The performance of Bag of word\")\n",
    "print(\"accuracy = %.3f, precision = %.3f, recall = %.3f, f1 = %.3f\" % (accuracy, precision, recall, f1))\n",
    "\n",
    "## TF-idf method\n",
    "accuracy, precision, recall, f1 = get_metrics(y_test_tf, y_predicted_tf)\n",
    "print(\"The performance of TF-IDF\")\n",
    "print(\"accuracy = %.3f, precision = %.3f, recall = %.3f, f1 = %.3f\" % (accuracy, precision, recall, f1))"
   ]
  },
  {
   "cell_type": "markdown",
   "metadata": {},
   "source": [
    "TF-IDF performs slightly better here. But we neet to choose a better parameter or a better model.\n",
    "\n",
    "## 4.5 Choose split point\n",
    "Because I found the performance of logistic regresion wasn't very good. I was thinking that there might be some noise and planing to use random forest to eliminate some useless words. \n",
    "\n",
    "With some tests, I confirm that feature selection with random forest is much better. So I used the random forest as the model to select the best split point."
   ]
  },
  {
   "cell_type": "code",
   "execution_count": 114,
   "metadata": {
    "scrolled": true
   },
   "outputs": [],
   "source": [
    "from sklearn.ensemble import RandomForestClassifier\n",
    "\n",
    "def find_sweet_point(first, second):\n",
    "    # Categorize the up_votes\n",
    "    def vote_cate(x):\n",
    "        if x > second: return 1\n",
    "        elif x <= first: return 3\n",
    "        else: return 2\n",
    "    \n",
    "    clean_data[\"up_votes_cat\"] = clean_data.up_votes.apply(vote_cate)\n",
    "    print(clean_data.up_votes_cat.value_counts())\n",
    "    \n",
    "    # Balance the sample\n",
    "    up_3 = clean_data[clean_data.up_votes_cat  == 3]\n",
    "    up_2 = clean_data[clean_data.up_votes_cat  == 2]\n",
    "    \n",
    "    # Downsample to make it balanced\n",
    "    up_3 = resample(up_3, \n",
    "              replace=False,    # sample without replacement\n",
    "              n_samples=1700)    # to match minority class\n",
    "    \n",
    "    # upsample to make it balanced\n",
    "    up_2 = resample(up_2, \n",
    "              replace=True,    # sample without replacement\n",
    "              n_samples=1700)    # to match minority class\n",
    "    \n",
    "    Balanced_data = pd.concat([up_2, up_3])\n",
    "    Balanced_data.up_votes_cat.value_counts()\n",
    "    \n",
    "    # Join back the stemmed words\n",
    "    Balanced_data[\"title3\"] = Balanced_data.apply(lambda x : ' '.join(x[\"title2\"]) + ' ' + x[\"author\"], axis = 1)\n",
    "    \n",
    "    # TF-IDF\n",
    "    X, tfidf_vectorizer = tfidf(Balanced_data[\"title3\"].tolist())\n",
    "    y = Balanced_data[\"up_votes_cat\"].tolist()\n",
    "    \n",
    "    X_train_tf, X_test_tf, y_train_tf, y_test_tf = train_test_split(X, y, test_size=0.2, random_state=40)\n",
    "    \n",
    "    # Train the model \n",
    "    clf_tr = RandomForestClassifier(n_estimators=120, max_depth=40, random_state=0)\n",
    "    clf_tr.fit(X_train_tf, y_train_tf)\n",
    "    y_predicted_tf = clf_tr.predict(X_test_tf)\n",
    "    \n",
    "    print (\"The point you have is %s\" % first)\n",
    "    accuracy, precision, recall, f1 = get_metrics(y_test_tf, y_predicted_tf)\n",
    "    print(\"accuracy = %.3f, precision = %.3f, recall = %.3f, f1 = %.3f\" % (accuracy, precision, recall, f1))\n",
    "    print(\"-\"*40)"
   ]
  },
  {
   "cell_type": "code",
   "execution_count": 115,
   "metadata": {},
   "outputs": [],
   "source": [
    "def training_model(Balanced_data, num_features, classes=['2', '3']):\n",
    "    # Join back the stemmed words\n",
    "    Balanced_data[\"title3\"] = Balanced_data.apply(lambda x : ' '.join(x[\"title2\"]) + ' ' + x[\"author\"], axis = 1)\n",
    "    \n",
    "    # TF-IDF\n",
    "    X, tfidf_vectorizer = tfidf(Balanced_data[\"title3\"].tolist())\n",
    "    y = Balanced_data[\"up_votes_cat\"].tolist()\n",
    "    \n",
    "    X_train_tf, X_test_tf, y_train_tf, y_test_tf = train_test_split(X, y, test_size=0.2, random_state=40)\n",
    "    Features = tfidf_vectorizer.get_feature_names()\n",
    "    \n",
    "    # Feature selection\n",
    "    clf_tr = RandomForestClassifier(n_estimators=120, max_depth=40, random_state=0)\n",
    "    clf_tr.fit(X_train_tf, y_train_tf)\n",
    "\n",
    "    Feature_dict = {i:v for i,v in zip(Features,range(len(Features)))}\n",
    "    \n",
    "    # Feature importance dataframe\n",
    "    Feature = pd.DataFrame(Features, columns = [\"feature\"])\n",
    "    Feature[\"importance\"] = clf_tr.feature_importances_\n",
    "    \n",
    "    important_fea = Feature.sort_values(by = \"importance\", ascending=False).iloc[:num_features, 0]   # Choose the top 64000 features\n",
    "    index = [Feature_dict[i] for i in important_fea]\n",
    "    \n",
    "    # Train\n",
    "    clf = LogisticRegression(C=30.0, class_weight='balanced', solver='newton-cg', \n",
    "                            multi_class='multinomial', n_jobs=-1, random_state=40)\n",
    "    print(clf)\n",
    "    clf.fit(X_train_tf[:,index], y_train_tf)\n",
    "    y_predicted_tf = clf.predict(X_test_tf[:,index])\n",
    "    accuracy, precision, recall, f1 = get_metrics(y_test_tf, y_predicted_tf)\n",
    "    print(\"accuracy = %.3f, precision = %.3f, recall = %.3f, f1 = %.3f\" % (accuracy, precision, recall, f1))\n",
    "    \n",
    "    cm = confusion_matrix(y_test_tf, y_predicted_tf)\n",
    "    fig = plt.figure(figsize=(10, 8))\n",
    "    plot = plot_confusion_matrix(cm, classes=classes, normalize=False, title='Confusion matrix')\n",
    "    plt.show()\n",
    "    return Feature.sort_values(by = \"importance\", ascending=False)"
   ]
  },
  {
   "cell_type": "markdown",
   "metadata": {},
   "source": [
    "### 4.5.1 Choose the first split point"
   ]
  },
  {
   "cell_type": "code",
   "execution_count": 122,
   "metadata": {
    "scrolled": true
   },
   "outputs": [
    {
     "name": "stdout",
     "output_type": "stream",
     "text": [
      "3    443994\n",
      "2     49007\n",
      "Name: up_votes_cat, dtype: int64\n",
      "The point you have is 100\n",
      "accuracy = 0.632, precision = 0.633, recall = 0.632, f1 = 0.631\n",
      "----------------------------------------\n",
      "3    463314\n",
      "2     29687\n",
      "Name: up_votes_cat, dtype: int64\n",
      "The point you have is 300\n",
      "accuracy = 0.634, precision = 0.636, recall = 0.634, f1 = 0.631\n",
      "----------------------------------------\n",
      "3    473026\n",
      "2     19975\n",
      "Name: up_votes_cat, dtype: int64\n",
      "The point you have is 600\n",
      "accuracy = 0.659, precision = 0.662, recall = 0.659, f1 = 0.656\n",
      "----------------------------------------\n",
      "3    476373\n",
      "2     16628\n",
      "Name: up_votes_cat, dtype: int64\n",
      "The point you have is 800\n",
      "accuracy = 0.612, precision = 0.612, recall = 0.612, f1 = 0.611\n",
      "----------------------------------------\n",
      "3    478609\n",
      "2     14392\n",
      "Name: up_votes_cat, dtype: int64\n",
      "The point you have is 1000\n",
      "accuracy = 0.654, precision = 0.655, recall = 0.654, f1 = 0.653\n",
      "----------------------------------------\n",
      "3    480296\n",
      "2     12705\n",
      "Name: up_votes_cat, dtype: int64\n",
      "The point you have is 1200\n",
      "accuracy = 0.647, precision = 0.649, recall = 0.647, f1 = 0.645\n",
      "----------------------------------------\n",
      "3    484691\n",
      "2      8310\n",
      "Name: up_votes_cat, dtype: int64\n",
      "The point you have is 2000\n",
      "accuracy = 0.643, precision = 0.645, recall = 0.643, f1 = 0.640\n",
      "----------------------------------------\n"
     ]
    }
   ],
   "source": [
    "# Finding the sweet point\n",
    "a_list = [100, 300, 600, 800, 1000, 1200, 2000]\n",
    "for i in a_list:\n",
    "    find_sweet_point(i, float(\"inf\"))"
   ]
  },
  {
   "cell_type": "markdown",
   "metadata": {},
   "source": [
    "Considering about the goal of categorizing 'up_votes', I decided to choose 1000 as the first sweet point to split the dataset. Because it can group a relatively large titles and keep a high accuracy."
   ]
  },
  {
   "cell_type": "markdown",
   "metadata": {},
   "source": [
    "### 4.5.2 Train the model with selected features"
   ]
  },
  {
   "cell_type": "code",
   "execution_count": 123,
   "metadata": {},
   "outputs": [
    {
     "name": "stdout",
     "output_type": "stream",
     "text": [
      "LogisticRegression(C=30.0, class_weight='balanced', dual=False,\n",
      "          fit_intercept=True, intercept_scaling=1, max_iter=100,\n",
      "          multi_class='multinomial', n_jobs=-1, penalty='l2',\n",
      "          random_state=40, solver='newton-cg', tol=0.0001, verbose=0,\n",
      "          warm_start=False)\n",
      "accuracy = 0.900, precision = 0.905, recall = 0.900, f1 = 0.899\n"
     ]
    },
    {
     "data": {
      "image/png": "[encoded data removed]",
      "text/plain": [
       "<Figure size 720x576 with 2 Axes>"
      ]
     },
     "metadata": {
      "needs_background": "light"
     },
     "output_type": "display_data"
    },
    {
     "data": {
      "text/html": [
       "<div>\n",
       "<style scoped>\n",
       "    .dataframe tbody tr th:only-of-type {\n",
       "        vertical-align: middle;\n",
       "    }\n",
       "\n",
       "    .dataframe tbody tr th {\n",
       "        vertical-align: top;\n",
       "    }\n",
       "\n",
       "    .dataframe thead th {\n",
       "        text-align: right;\n",
       "    }\n",
       "</style>\n",
       "<table border=\"1\" class=\"dataframe\">\n",
       "  <thead>\n",
       "    <tr style=\"text-align: right;\">\n",
       "      <th></th>\n",
       "      <th>feature</th>\n",
       "      <th>importance</th>\n",
       "    </tr>\n",
       "  </thead>\n",
       "  <tbody>\n",
       "    <tr>\n",
       "      <th>34679</th>\n",
       "      <td>maxwellhill</td>\n",
       "      <td>0.023662</td>\n",
       "    </tr>\n",
       "    <tr>\n",
       "      <th>23341</th>\n",
       "      <td>ha</td>\n",
       "      <td>0.015872</td>\n",
       "    </tr>\n",
       "    <tr>\n",
       "      <th>50821</th>\n",
       "      <td>snowden</td>\n",
       "      <td>0.012764</td>\n",
       "    </tr>\n",
       "    <tr>\n",
       "      <th>27137</th>\n",
       "      <td>iran</td>\n",
       "      <td>0.010107</td>\n",
       "    </tr>\n",
       "    <tr>\n",
       "      <th>39451</th>\n",
       "      <td>nsa</td>\n",
       "      <td>0.009760</td>\n",
       "    </tr>\n",
       "    <tr>\n",
       "      <th>60861</th>\n",
       "      <td>year</td>\n",
       "      <td>0.009267</td>\n",
       "    </tr>\n",
       "    <tr>\n",
       "      <th>1</th>\n",
       "      <td>000</td>\n",
       "      <td>0.009252</td>\n",
       "    </tr>\n",
       "    <tr>\n",
       "      <th>4744</th>\n",
       "      <td>anutensil</td>\n",
       "      <td>0.008016</td>\n",
       "    </tr>\n",
       "    <tr>\n",
       "      <th>14420</th>\n",
       "      <td>davidreiss666</td>\n",
       "      <td>0.007626</td>\n",
       "    </tr>\n",
       "    <tr>\n",
       "      <th>25963</th>\n",
       "      <td>igeldard</td>\n",
       "      <td>0.006946</td>\n",
       "    </tr>\n",
       "  </tbody>\n",
       "</table>\n",
       "</div>"
      ],
      "text/plain": [
       "             feature  importance\n",
       "34679    maxwellhill    0.023662\n",
       "23341             ha    0.015872\n",
       "50821        snowden    0.012764\n",
       "27137           iran    0.010107\n",
       "39451            nsa    0.009760\n",
       "60861           year    0.009267\n",
       "1                000    0.009252\n",
       "4744       anutensil    0.008016\n",
       "14420  davidreiss666    0.007626\n",
       "25963       igeldard    0.006946"
      ]
     },
     "execution_count": 123,
     "metadata": {},
     "output_type": "execute_result"
    }
   ],
   "source": [
    "Important_fea = training_model(Balanced_data, num_features = 62000, classes=['1', '2'])\n",
    "Important_fea.head(10)"
   ]
  },
  {
   "cell_type": "markdown",
   "metadata": {},
   "source": [
    "### 4.5.3 Summay 1\n",
    "Right now, we can split the dataset by 'up_vote > 1000' and 'up_votes <= 1000'. The overall accuracy is 0.900, which is alrealy very good. We can also go back to 'Feature' to have a look at the feature importance(Important_fea) and get a better idea about the words that are captured. While these two category is not even, we have only 3% titles having up_votes larger than 1000. So I want to be more specific on the rest 97%.\n",
    "\n",
    "### 4.5.4 Split the 'up_votes <= 1000"
   ]
  },
  {
   "cell_type": "code",
   "execution_count": 78,
   "metadata": {
    "scrolled": true
   },
   "outputs": [
    {
     "name": "stdout",
     "output_type": "stream",
     "text": [
      "3    451615\n",
      "2     26994\n",
      "1     14392\n",
      "Name: up_votes_cat, dtype: int64\n",
      "The point you have is 150\n",
      "accuracy = 0.588, precision = 0.589, recall = 0.588, f1 = 0.585\n",
      "----------------------------------------\n",
      "3    452780\n",
      "2     25829\n",
      "1     14392\n",
      "Name: up_votes_cat, dtype: int64\n",
      "The point you have is 160\n",
      "accuracy = 0.563, precision = 0.563, recall = 0.563, f1 = 0.563\n",
      "----------------------------------------\n",
      "3    453806\n",
      "2     24803\n",
      "1     14392\n",
      "Name: up_votes_cat, dtype: int64\n",
      "The point you have is 170\n",
      "accuracy = 0.601, precision = 0.603, recall = 0.601, f1 = 0.598\n",
      "----------------------------------------\n",
      "3    454866\n",
      "2     23743\n",
      "1     14392\n",
      "Name: up_votes_cat, dtype: int64\n",
      "The point you have is 180\n",
      "accuracy = 0.610, precision = 0.611, recall = 0.610, f1 = 0.608\n",
      "----------------------------------------\n",
      "3    455812\n",
      "2     22797\n",
      "1     14392\n",
      "Name: up_votes_cat, dtype: int64\n",
      "The point you have is 190\n",
      "accuracy = 0.616, precision = 0.617, recall = 0.616, f1 = 0.615\n",
      "----------------------------------------\n",
      "3    456704\n",
      "2     21905\n",
      "1     14392\n",
      "Name: up_votes_cat, dtype: int64\n",
      "The point you have is 200\n",
      "accuracy = 0.572, precision = 0.572, recall = 0.572, f1 = 0.571\n",
      "----------------------------------------\n",
      "3    457520\n",
      "2     21089\n",
      "1     14392\n",
      "Name: up_votes_cat, dtype: int64\n",
      "The point you have is 210\n",
      "accuracy = 0.612, precision = 0.613, recall = 0.612, f1 = 0.609\n",
      "----------------------------------------\n",
      "3    458277\n",
      "2     20332\n",
      "1     14392\n",
      "Name: up_votes_cat, dtype: int64\n",
      "The point you have is 220\n",
      "accuracy = 0.603, precision = 0.603, recall = 0.603, f1 = 0.602\n",
      "----------------------------------------\n",
      "3    458992\n",
      "2     19617\n",
      "1     14392\n",
      "Name: up_votes_cat, dtype: int64\n",
      "The point you have is 230\n",
      "accuracy = 0.628, precision = 0.629, recall = 0.628, f1 = 0.626\n",
      "----------------------------------------\n",
      "3    459703\n",
      "2     18906\n",
      "1     14392\n",
      "Name: up_votes_cat, dtype: int64\n",
      "The point you have is 240\n",
      "accuracy = 0.599, precision = 0.599, recall = 0.599, f1 = 0.596\n",
      "----------------------------------------\n",
      "3    460373\n",
      "2     18236\n",
      "1     14392\n",
      "Name: up_votes_cat, dtype: int64\n",
      "The point you have is 250\n",
      "accuracy = 0.594, precision = 0.594, recall = 0.594, f1 = 0.593\n",
      "----------------------------------------\n"
     ]
    }
   ],
   "source": [
    "# Finding the sweet point\n",
    "a_list = [150, 160, 170, 180, 190, 200, 210, 220, 230, 240, 250]\n",
    "for i in a_list:\n",
    "    find_sweet_point(i, 1000)"
   ]
  },
  {
   "cell_type": "code",
   "execution_count": 79,
   "metadata": {},
   "outputs": [
    {
     "name": "stdout",
     "output_type": "stream",
     "text": [
      "LogisticRegression(C=30.0, class_weight='balanced', dual=False,\n",
      "          fit_intercept=True, intercept_scaling=1, max_iter=100,\n",
      "          multi_class='multinomial', n_jobs=-1, penalty='l2',\n",
      "          random_state=40, solver='newton-cg', tol=0.0001, verbose=0,\n",
      "          warm_start=False)\n",
      "accuracy = 0.853, precision = 0.858, recall = 0.853, f1 = 0.852\n"
     ]
    },
    {
     "data": {
      "image/png": "[encoded data removed]",
      "text/plain": [
       "<Figure size 720x576 with 2 Axes>"
      ]
     },
     "metadata": {
      "needs_background": "light"
     },
     "output_type": "display_data"
    },
    {
     "data": {
      "text/plain": [
       "36848    maxwellhill\n",
       "64900           year\n",
       "24788             ha\n",
       "62858             wa\n",
       "5063       anutensil\n",
       "27639       igeldard\n",
       "1                000\n",
       "29012            isi\n",
       "28830           iran\n",
       "57168           talk\n",
       "Name: feature, dtype: object"
      ]
     },
     "execution_count": 79,
     "metadata": {},
     "output_type": "execute_result"
    }
   ],
   "source": [
    "a = 240\n",
    "\n",
    "def vote_cate(x):\n",
    "        if x > 1000: return 1\n",
    "        elif x <= a: return 3\n",
    "        else: return 2\n",
    "    \n",
    "# add new label \n",
    "clean_data[\"up_votes_cat\"] = clean_data.up_votes.apply(vote_cate)\n",
    "clean_data.up_votes_cat.value_counts()\n",
    "\n",
    "#3 :   459703\n",
    "#2 :    18906\n",
    "#1 :    14392\n",
    "\n",
    "# Balance the sample\n",
    "up_3 = clean_data[clean_data.up_votes_cat  == 3]\n",
    "up_2 = clean_data[clean_data.up_votes_cat  == 2]\n",
    "\n",
    "# Downsample to make it balanced\n",
    "up_3 = resample(up_3, \n",
    "          replace=False,    # sample without replacement\n",
    "          n_samples=100000)    # to match minority class\n",
    "\n",
    "# upsample to make it balanced\n",
    "up_2 = resample(up_2, \n",
    "          replace=True,    # sample without replacement\n",
    "          n_samples=100000)    # to match minority class\n",
    "\n",
    "Balanced_data = pd.concat([up_2, up_3])\n",
    "Balanced_data.up_votes_cat.value_counts()\n",
    "\n",
    "Important_fea = training_model(Balanced_data, num_features = 62000, classes=['2', '3'])\n",
    "Important_fea.head(10)"
   ]
  },
  {
   "cell_type": "markdown",
   "metadata": {},
   "source": [
    "### 4.5.5 Summay 2\n",
    "Right now, we can split 97% of dataset by '250 <= up_votes <= 1000' and 'up_votes < 250'. The overall accuracy is 0.853, which is also very good. We can also go back to 'Feature' to have a look at the feature importance(Important_fea) and get a better idea about the words that are captured. While these two category is still not even, but till now, we can get 6.6% titles predicted. So I want to be more specific on the rest 93.4%.\n",
    "\n",
    "### 4.5.6 Split the 'up_votes <= 240"
   ]
  },
  {
   "cell_type": "code",
   "execution_count": 80,
   "metadata": {
    "scrolled": true
   },
   "outputs": [
    {
     "name": "stdout",
     "output_type": "stream",
     "text": [
      "2    281176\n",
      "3    178527\n",
      "1     33298\n",
      "Name: up_votes_cat, dtype: int64\n",
      "The point you have is 2\n",
      "accuracy = 0.529, precision = 0.529, recall = 0.529, f1 = 0.528\n",
      "----------------------------------------\n",
      "2    246327\n",
      "3    213376\n",
      "1     33298\n",
      "Name: up_votes_cat, dtype: int64\n",
      "The point you have is 3\n",
      "accuracy = 0.547, precision = 0.547, recall = 0.547, f1 = 0.543\n",
      "----------------------------------------\n",
      "3    242285\n",
      "2    217418\n",
      "1     33298\n",
      "Name: up_votes_cat, dtype: int64\n",
      "The point you have is 4\n",
      "accuracy = 0.551, precision = 0.552, recall = 0.551, f1 = 0.548\n",
      "----------------------------------------\n",
      "3    266852\n",
      "2    192851\n",
      "1     33298\n",
      "Name: up_votes_cat, dtype: int64\n",
      "The point you have is 5\n",
      "accuracy = 0.546, precision = 0.545, recall = 0.546, f1 = 0.545\n",
      "----------------------------------------\n",
      "3    286980\n",
      "2    172723\n",
      "1     33298\n",
      "Name: up_votes_cat, dtype: int64\n",
      "The point you have is 6\n",
      "accuracy = 0.528, precision = 0.528, recall = 0.528, f1 = 0.527\n",
      "----------------------------------------\n",
      "3    316782\n",
      "2    142921\n",
      "1     33298\n",
      "Name: up_votes_cat, dtype: int64\n",
      "The point you have is 8\n",
      "accuracy = 0.563, precision = 0.563, recall = 0.563, f1 = 0.560\n",
      "----------------------------------------\n",
      "3    337245\n",
      "2    122458\n",
      "1     33298\n",
      "Name: up_votes_cat, dtype: int64\n",
      "The point you have is 10\n",
      "accuracy = 0.544, precision = 0.544, recall = 0.544, f1 = 0.541\n",
      "----------------------------------------\n",
      "3    368466\n",
      "2     91237\n",
      "1     33298\n",
      "Name: up_votes_cat, dtype: int64\n",
      "The point you have is 15\n",
      "accuracy = 0.537, precision = 0.536, recall = 0.537, f1 = 0.534\n",
      "----------------------------------------\n",
      "3    406473\n",
      "2     53230\n",
      "1     33298\n",
      "Name: up_votes_cat, dtype: int64\n",
      "The point you have is 30\n",
      "accuracy = 0.606, precision = 0.606, recall = 0.606, f1 = 0.605\n",
      "----------------------------------------\n",
      "3    418000\n",
      "2     41703\n",
      "1     33298\n",
      "Name: up_votes_cat, dtype: int64\n",
      "The point you have is 40\n",
      "accuracy = 0.540, precision = 0.540, recall = 0.540, f1 = 0.540\n",
      "----------------------------------------\n"
     ]
    }
   ],
   "source": [
    "a_list = [2, 3, 4 , 5, 6, 8, 10, 15, 30, 40]\n",
    "for i in a_list:\n",
    "    find_sweet_point(i, 240)"
   ]
  },
  {
   "cell_type": "code",
   "execution_count": 81,
   "metadata": {},
   "outputs": [
    {
     "name": "stdout",
     "output_type": "stream",
     "text": [
      "LogisticRegression(C=30.0, class_weight='balanced', dual=False,\n",
      "          fit_intercept=True, intercept_scaling=1, max_iter=100,\n",
      "          multi_class='multinomial', n_jobs=-1, penalty='l2',\n",
      "          random_state=40, solver='newton-cg', tol=0.0001, verbose=0,\n",
      "          warm_start=False)\n",
      "accuracy = 0.796, precision = 0.816, recall = 0.796, f1 = 0.800\n"
     ]
    },
    {
     "data": {
      "image/png": "[encoded data removed]",
      "text/plain": [
       "<Figure size 720x576 with 2 Axes>"
      ]
     },
     "metadata": {
      "needs_background": "light"
     },
     "output_type": "display_data"
    },
    {
     "data": {
      "text/plain": [
       "30191               ha\n",
       "44963      maxwellhill\n",
       "79010             year\n",
       "18831    davidreiss666\n",
       "6308         anutensil\n",
       "76478               wa\n",
       "1                  000\n",
       "8684               ban\n",
       "69223            syria\n",
       "14979            china\n",
       "Name: feature, dtype: object"
      ]
     },
     "execution_count": 81,
     "metadata": {},
     "output_type": "execute_result"
    }
   ],
   "source": [
    "def vote_cate(x):\n",
    "        if x > 1000: return 1\n",
    "        elif x > 240: return 2\n",
    "        elif x > 6: return 3\n",
    "        else: return 4\n",
    "    \n",
    "# add new label \n",
    "clean_data[\"up_votes_cat\"] = clean_data.up_votes.apply(vote_cate)\n",
    "clean_data.up_votes_cat.value_counts()\n",
    "\n",
    "#3 :   460301\n",
    "#2 :    18308\n",
    "#1 :    14392\n",
    "\n",
    "# Balance the sample\n",
    "up_3 = clean_data[clean_data.up_votes_cat  == 3]\n",
    "up_4 = clean_data[clean_data.up_votes_cat  == 4]\n",
    "\n",
    "# Downsample to make it balanced\n",
    "up_3 = resample(up_3, \n",
    "          replace=False,    # sample without replacement\n",
    "          n_samples=170000)    # to match minority class\n",
    "\n",
    "# upsample to make it balanced\n",
    "up_4 = resample(up_4, \n",
    "          replace=True,    # sample without replacement\n",
    "          n_samples=170000)    # to match minority class\n",
    "\n",
    "Balanced_data = pd.concat([up_2, up_3])\n",
    "Balanced_data.up_votes_cat.value_counts()\n",
    "\n",
    "Important_fea = training_model(Balanced_data, num_features = 58000, classes=['3', '4'])\n",
    "Important_fea.head(10)"
   ]
  },
  {
   "cell_type": "markdown",
   "metadata": {},
   "source": [
    "### 4.5.7 Summay 3\n",
    "Right now, we can split 97% of dataset by '6 <= up_votes <= 250' and 'up_votes < 6'. The overall accuracy is 0.796, which is also very good. We can also go back to 'Important_fea' to have a look at the feature importance and get a better idea about the words that are captured. While these two category is even now, so I am planing to stop here. Of course I can keep going to test if I can split it more specificly. But I think it's enough right now.\n",
    "\n",
    "* 1: up_votes > 1000                 (14392)\n",
    "* 2: 240 <= up_votes <= 1000         (18308)\n",
    "* 3: 6 <= up_votes < 240            (172723)\n",
    "* 4: up_votes < 6                   (286980)"
   ]
  }
 ],
 "metadata": {
  "kernelspec": {
   "display_name": "Python 3",
   "language": "python",
   "name": "python3"
  },
  "language_info": {
   "codemirror_mode": {
    "name": "ipython",
    "version": 3
   },
   "file_extension": ".py",
   "mimetype": "text/x-python",
   "name": "python",
   "nbconvert_exporter": "python",
   "pygments_lexer": "ipython3",
   "version": "3.6.8"
  }
 },
 "nbformat": 4,
 "nbformat_minor": 2
}
